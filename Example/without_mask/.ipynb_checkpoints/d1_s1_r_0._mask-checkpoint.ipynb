{
 "cells": [
  {
   "cell_type": "markdown",
   "id": "e02cded7-4b14-4418-b3ce-03418170f019",
   "metadata": {},
   "source": [
    "### パラメータ推定 d1 and s1 "
   ]
  },
  {
   "cell_type": "code",
   "execution_count": 1,
   "id": "6c8bf428-fa33-42f8-b67d-2082dd0fa6eb",
   "metadata": {},
   "outputs": [],
   "source": [
    "# maskの方の関数を使う"
   ]
  },
  {
   "cell_type": "code",
   "execution_count": 2,
   "id": "3b7f5b02-08f0-4226-8206-af007bc947eb",
   "metadata": {},
   "outputs": [],
   "source": [
    "include(\"../../src/function/main_function.jl\");"
   ]
  },
  {
   "cell_type": "code",
   "execution_count": 3,
   "id": "4d50e307-56d6-4c5c-9282-8fbe57da93c9",
   "metadata": {},
   "outputs": [
    {
     "name": "stdout",
     "output_type": "stream",
     "text": [
      "  0.065567 seconds (155.17 k allocations: 12.724 MiB, 95.49% compilation time)\n",
      "  0.001380 seconds (48 allocations: 2.254 MiB)\n"
     ]
    }
   ],
   "source": [
    "using NPZ\n",
    "\n",
    "cov_mat_scal = npzread(\"../../covariance_matrix/cov_mat_scal.npy\")\n",
    "cov_mat_tens = npzread(\"../../covariance_matrix/cov_mat_tens.npy\");"
   ]
  },
  {
   "cell_type": "markdown",
   "id": "eaf1f95c-c183-41eb-bfb6-8beeabc7c507",
   "metadata": {},
   "source": [
    "### パラメータセット"
   ]
  },
  {
   "cell_type": "code",
   "execution_count": 4,
   "id": "e92d3bc5-3d4e-4c8d-8ddb-582e2c85f5a8",
   "metadata": {},
   "outputs": [],
   "source": [
    "nside = 4\n",
    "r =0.;"
   ]
  },
  {
   "cell_type": "code",
   "execution_count": 5,
   "id": "08c3d6fa-9671-4af6-9fb3-597b6d4bf307",
   "metadata": {},
   "outputs": [],
   "source": [
    "# litebirdの周波数を選んで\n",
    "# 色々なバンドで試す\n",
    "\n",
    "freq_band_case1 = [40, 60, 140, 235, 280, 337]\n",
    "freq_band_case2 = [40, 60, 140, 235, 337, 402]\n",
    "\n",
    "which_model = \"d1 and s1\"\n",
    "cmb_freq = 140;"
   ]
  },
  {
   "cell_type": "code",
   "execution_count": null,
   "id": "3c6e5c76-efa2-4f4b-a39a-740ff577aa48",
   "metadata": {},
   "outputs": [],
   "source": [
    "# スレッドセーフな計算 push!は使うな\n",
    "\n",
    "times = 1000\n",
    "\n",
    "r_array_case1 = zeros(times)\n",
    "r_array_case2 = zeros(times)\n",
    "\n",
    "beta_s_array_case1 = zeros(times)\n",
    "beta_s_array_case2 = zeros(times)\n",
    "\n",
    "beta_d_array_case1 = zeros(times)\n",
    "beta_d_array_case2 = zeros(times)\n",
    "\n",
    "T_d_array_case1 = zeros(times)\n",
    "T_d_array_case2 = zeros(times)\n",
    "\n",
    "accuracy_r, accuracy_like = 1e-5, 1e-2\n",
    "\n",
    "@time @inbounds for seed in 1:times\n",
    "\n",
    "    # r_ini, num_iterations, accuracy_r, accuracy_like, random_seed_cmb, seed_syn, nside, r_input, freq_band, which_model, cmb_freq, cov_mat_scal, cov_mat_tens\n",
    "    r_array, beta_s_array, beta_d_array, T_d_array, optimum_r1, optimum_beta_s1, optimum_beta_d1, optimum_T_d1 = minimize_r_like_estimate_fast(0.001, 2, accuracy_r, accuracy_like, seed-1, seed-1, nside, r, freq_band_case1, which_model, 140, cov_mat_scal, cov_mat_tens);\n",
    "    r_array, beta_s_array, beta_d_array, T_d_array, optimum_r2, optimum_beta_s2, optimum_beta_d2, optimum_T_d2 = minimize_r_like_estimate_fast(0.001, 2, accuracy_r, accuracy_like, seed-1, seed-1, nside, r, freq_band_case2, which_model, 140, cov_mat_scal, cov_mat_tens);\n",
    "    \n",
    "    # case1 [40, 50, 100, 140, 280, 402]\n",
    "    r_array_case1[seed] = optimum_r1\n",
    "    beta_s_array_case1[seed] = optimum_beta_s1\n",
    "    beta_d_array_case1[seed] = optimum_beta_d1\n",
    "    T_d_array_case1[seed] = optimum_T_d1\n",
    "\n",
    "    # case2 [40, 50, 100, 140, 340, 402]\n",
    "    r_array_case2[seed] = optimum_r2\n",
    "    beta_s_array_case2[seed] = optimum_beta_s2\n",
    "    beta_d_array_case2[seed] = optimum_beta_d2\n",
    "    T_d_array_case2[seed] = optimum_T_d2\n",
    "    \n",
    "    #print(seed)\n",
    "\n",
    "end"
   ]
  },
  {
   "cell_type": "code",
   "execution_count": null,
   "id": "bc8b886c-d43e-434e-852e-c93d7ceb2eb8",
   "metadata": {},
   "outputs": [],
   "source": [
    "using PyPlot \n",
    "\n",
    "# histogram\n",
    "hist(r_array_case1, bins = 15, alpha = 0.7, edgecolor = \"black\", label = string( \"band\", freq_band_case1, \"GHz\"))\n",
    "hist(r_array_case2, bins = 15, alpha = 0.7, edgecolor = \"black\", label = string( \"band\", freq_band_case2, \"GHz\"))\n",
    "\n",
    "# r = 0.01\n",
    "PyPlot.axvline(x = 0., color = \"red\", linestyle = \"--\", label = \"r = 0.\")\n",
    "\n",
    "title(\"case1 vs case2\", fontsize = 16)\n",
    "xlabel(\"r\", fontsize = 14)\n",
    "ylabel(\"Frequency\", fontsize = 14)\n",
    "PyPlot.grid(true)\n",
    "PyPlot.legend()\n",
    "\n",
    "show()"
   ]
  },
  {
   "cell_type": "code",
   "execution_count": null,
   "id": "01d02fd2-f2fe-4c3b-87b5-84b1c01c8595",
   "metadata": {},
   "outputs": [],
   "source": [
    "using PyPlot \n",
    "\n",
    "min_range = minimum([beta_s_array_case1; beta_s_array_case2])\n",
    "max_range = maximum([beta_s_array_case1; beta_s_array_case2])\n",
    "bins = range(min_range, stop = max_range, length=20)\n",
    "\n",
    "# beta_s = -2.99\n",
    "PyPlot.axvline(x = -2.99, color = \"red\", linestyle = \"--\", label = \"beta_s = -2.99\")\n",
    "\n",
    "# histogram\n",
    "hist(beta_s_array_case1, bins = bins, alpha = 0.7, edgecolor = \"black\", label = string( \"band\", freq_band_case1, \"GHz\"))\n",
    "hist(beta_s_array_case2, bins = bins, alpha = 0.7, edgecolor = \"black\", label = string( \"band\", freq_band_case2, \"GHz\"))\n",
    "\n",
    "title(\"case1 vs case2\", fontsize = 16)\n",
    "xlabel(\"beta_s\", fontsize = 14)\n",
    "ylabel(\"Frequency\", fontsize = 14)\n",
    "PyPlot.grid(true)\n",
    "PyPlot.legend()\n",
    "\n",
    "show()"
   ]
  },
  {
   "cell_type": "code",
   "execution_count": null,
   "id": "aff864e2-334f-4d98-ac45-5d1a9375cda9",
   "metadata": {},
   "outputs": [],
   "source": [
    "using PyPlot \n",
    "\n",
    "min_range = minimum([beta_d_array_case1; beta_d_array_case2])\n",
    "max_range = maximum([beta_d_array_case1; beta_d_array_case2])\n",
    "bins = range(min_range, stop = max_range, length=20)\n",
    "\n",
    "# beta_d = 1.54\n",
    "PyPlot.axvline(x = 1.54., color = \"red\", linestyle = \"--\", label = \"beta_d = 1.54\")\n",
    "\n",
    "# histogram\n",
    "hist(beta_d_array_case1, bins = bins, alpha = 0.7, edgecolor = \"black\", label = string( \"band\", freq_band_case1, \"GHz\"))\n",
    "hist(beta_d_array_case2, bins = bins, alpha = 0.7, edgecolor = \"black\", label = string( \"band\", freq_band_case2, \"GHz\"))\n",
    "\n",
    "title(\"case1 vs case2\", fontsize = 16)\n",
    "xlabel(\"beta_d\", fontsize = 14)\n",
    "ylabel(\"Frequency\", fontsize = 14)\n",
    "PyPlot.grid(true)\n",
    "PyPlot.legend()\n",
    "\n",
    "show()"
   ]
  },
  {
   "cell_type": "code",
   "execution_count": null,
   "id": "0244effe-212d-465b-bba9-6ee796d1437c",
   "metadata": {},
   "outputs": [],
   "source": [
    "using PyPlot \n",
    "\n",
    "min_range = minimum([T_d_array_case1; T_d_array_case2])\n",
    "max_range = maximum([T_d_array_case1; T_d_array_case2])\n",
    "bins = range(min_range, stop = max_range, length=20)\n",
    "\n",
    "# T_d = 20.9\n",
    "PyPlot.axvline(x = 20.9., color = \"red\", linestyle = \"--\", label = \"T_d = 20.9\")\n",
    "\n",
    "# histogram\n",
    "hist(T_d_array_case1, bins = bins, alpha = 0.7, edgecolor = \"black\", label = string( \"band\", freq_band_case1, \"GHz\"))\n",
    "hist(T_d_array_case2, bins = bins, alpha = 0.7, edgecolor = \"black\", label = string( \"band\", freq_band_case2, \"GHz\"))\n",
    "\n",
    "title(\"case1 vs case2\", fontsize = 16)\n",
    "xlabel(\"T_d\", fontsize = 14)\n",
    "ylabel(\"Frequency\", fontsize = 14)\n",
    "PyPlot.grid(true)\n",
    "PyPlot.legend()\n",
    "\n",
    "show()"
   ]
  },
  {
   "cell_type": "code",
   "execution_count": null,
   "id": "409a9a8b-b92b-4571-a3e6-42d9f0a0b2f1",
   "metadata": {},
   "outputs": [],
   "source": [
    "std(r_array_case1) * 1.96\n",
    "std(r_array_case2) * 1.96"
   ]
  },
  {
   "cell_type": "code",
   "execution_count": null,
   "id": "565f74d8-eec9-45d2-a0e6-99668155bd1a",
   "metadata": {},
   "outputs": [],
   "source": [
    "# 68%CL Δr\n",
    "println(\"Δr_case1 =\", std(r_array_case1))\n",
    "println(\"Δr_case2 =\", std(r_array_case2))"
   ]
  },
  {
   "cell_type": "code",
   "execution_count": null,
   "id": "85e6f5ea-bb42-4aa5-ba8c-f2fc4c2f0676",
   "metadata": {},
   "outputs": [],
   "source": [
    "# 68%CL Δbeta_s\n",
    "println(\"Δbeta_s_case1 =\", std(beta_s_array_case1))\n",
    "println(\"Δbeta_s_case2 =\", std(beta_s_array_case2))"
   ]
  },
  {
   "cell_type": "code",
   "execution_count": null,
   "id": "3e2b999f-f90a-4555-875d-a57ca50d7b8c",
   "metadata": {},
   "outputs": [],
   "source": [
    "# 68%CL Δbeta_d\n",
    "println(\"Δbeta_d_case1 =\", std(beta_d_array_case1))\n",
    "println(\"Δbeta_d_case2 =\", std(beta_d_array_case2))"
   ]
  },
  {
   "cell_type": "code",
   "execution_count": null,
   "id": "4b43bf36-b5d6-4062-842b-4e2a693a7960",
   "metadata": {},
   "outputs": [],
   "source": [
    "# 68%CL ΔT_d\n",
    "println(\"ΔT_d_case1 =\", std(T_d_array_case1))\n",
    "println(\"ΔT_d_case2 =\", std(T_d_array_case2))"
   ]
  },
  {
   "cell_type": "code",
   "execution_count": null,
   "id": "130621a5-795d-4d24-b05c-d3416bc927c7",
   "metadata": {},
   "outputs": [],
   "source": [
    "println(\"case1 r = \", mean(r_array_case1))\n",
    "println(\"case2 r = \", mean(r_array_case2))"
   ]
  },
  {
   "cell_type": "code",
   "execution_count": null,
   "id": "5341593b-9206-429c-ab4c-0abe5d0b9d85",
   "metadata": {},
   "outputs": [],
   "source": [
    "println(\"case1 beta_s = \", mean(beta_s_array_case1))\n",
    "println(\"case2 beta_s = \", mean(beta_s_array_case2))"
   ]
  },
  {
   "cell_type": "code",
   "execution_count": null,
   "id": "ef84a55e-b94d-4e26-a90f-5261e7b2d041",
   "metadata": {},
   "outputs": [],
   "source": [
    "println(\"case1 beta_d = \", mean(beta_d_array_case1))\n",
    "println(\"case2 beta_d = \", mean(beta_d_array_case2))"
   ]
  },
  {
   "cell_type": "code",
   "execution_count": null,
   "id": "2e3d6304-78ef-42a5-9697-d52e48f1f3bd",
   "metadata": {},
   "outputs": [],
   "source": [
    "println(\"case1 T_d = \", mean(T_d_array_case1))\n",
    "println(\"case2 T_d = \", mean(T_d_array_case2))"
   ]
  },
  {
   "cell_type": "code",
   "execution_count": null,
   "id": "54d556b6-a1b7-4a54-8d6e-5d2fd71ac66c",
   "metadata": {},
   "outputs": [],
   "source": []
  },
  {
   "cell_type": "code",
   "execution_count": null,
   "id": "c139bb11-69ff-4ca8-9cc4-6f87e7b2f135",
   "metadata": {},
   "outputs": [],
   "source": []
  }
 ],
 "metadata": {
  "kernelspec": {
   "display_name": "Julia (4 threads) 1.9.1",
   "language": "julia",
   "name": "julia-4-threads-1.9"
  },
  "language_info": {
   "file_extension": ".jl",
   "mimetype": "application/julia",
   "name": "julia",
   "version": "1.9.1"
  }
 },
 "nbformat": 4,
 "nbformat_minor": 5
}
