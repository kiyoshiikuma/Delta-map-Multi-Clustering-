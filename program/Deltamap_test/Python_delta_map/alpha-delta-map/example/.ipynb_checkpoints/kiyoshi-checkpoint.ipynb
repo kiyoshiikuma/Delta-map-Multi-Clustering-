{
 "cells": [
  {
   "cell_type": "code",
   "execution_count": 2,
   "id": "3eb6d512-30bb-480c-b93b-d38e26eaae47",
   "metadata": {},
   "outputs": [
    {
     "data": {
      "text/plain": [
       "1"
      ]
     },
     "execution_count": 2,
     "metadata": {},
     "output_type": "execute_result"
    }
   ],
   "source": [
    "using WignerD\n",
    "using Healpix\n",
    "using Base.Threads\n",
    "Threads.nthreads()"
   ]
  },
  {
   "cell_type": "markdown",
   "id": "ddadbbc0-a47b-4efa-9d5e-a09bfbe55254",
   "metadata": {},
   "source": [
    "$$\n",
    "_2Y_{\\ell m } = (-1)^m \\sqrt{\\frac{2\\ell+1}{4\\pi}}D^{\\ell}_{-m2}(\\phi, \\theta, 0)\n",
    "$$"
   ]
  },
  {
   "cell_type": "markdown",
   "id": "a779a29b-5966-4feb-b0e6-0adf19197f1a",
   "metadata": {},
   "source": [
    "WignerD.wignerDjmn(l,m,n,φ,θ,ψ)"
   ]
  },
  {
   "cell_type": "code",
   "execution_count": 3,
   "id": "86753167-d8b5-489e-849c-346b487ab512",
   "metadata": {},
   "outputs": [
    {
     "data": {
      "text/plain": [
       "Healpix resolution(NSIDE = 32)"
      ]
     },
     "execution_count": 3,
     "metadata": {},
     "output_type": "execute_result"
    }
   ],
   "source": [
    "nside = 32\n",
    "lmax= 2*nside\n",
    "npix = nside2npix(nside)\n",
    "res = Resolution(nside)"
   ]
  },
  {
   "cell_type": "code",
   "execution_count": 4,
   "id": "4e6c850d-0331-4ce7-931e-49d2adacf68f",
   "metadata": {},
   "outputs": [],
   "source": [
    "save_Ylm = zeros(ComplexF64, npix, lmax+1, 2*lmax+1);"
   ]
  },
  {
   "cell_type": "code",
   "execution_count": 5,
   "id": "bbf276ac-429e-49dc-8e26-fa37124a73c8",
   "metadata": {},
   "outputs": [
    {
     "name": "stdout",
     "output_type": "stream",
     "text": [
      " 30.041486 seconds (167.42 M allocations: 4.062 GiB, 1.01% gc time, 6.13% compilation time)\n"
     ]
    }
   ],
   "source": [
    "@time @views for pix in 1:npix\n",
    "    ang = pix2angRing(res, pix)\n",
    "    for l in 2:lmax\n",
    "        @inbounds @threads for m in -l:l\n",
    "            save_Ylm[pix,l+1, lmax+1+m] = (-1)^m*sqrt((2*l+1)/(4pi))*WignerD.wignerDjmn(l,-m,2,ang[2],ang[1],0)\n",
    "        end\n",
    "    end\n",
    "end"
   ]
  },
  {
   "cell_type": "code",
   "execution_count": 113,
   "id": "6011cdb9-3d74-4d1e-ba2b-4920567e2602",
   "metadata": {},
   "outputs": [
    {
     "data": {
      "text/plain": [
       "calc_Yslm (generic function with 1 method)"
      ]
     },
     "execution_count": 113,
     "metadata": {},
     "output_type": "execute_result"
    }
   ],
   "source": [
    "function calc_Yslm(nside, s)\n",
    "    \n",
    "    lmax= 2*nside\n",
    "    npix = nside2npix(nside)\n",
    "    res = Resolution(nside)\n",
    "    \n",
    "    save_Ylm = zeros(ComplexF64, npix, lmax+1, 2*lmax+1);\n",
    "    \n",
    "    @views for pix in 1:npix\n",
    "        ang = pix2angRing(res, pix)\n",
    "        for l in 2:lmax\n",
    "            @inbounds @threads for m in -l:l\n",
    "                save_Ylm[pix,l+1, lmax+1+m] = (-1)^m*sqrt((2*l+1)/(4pi))*WignerD.wignerDjmn(l,-m,s,ang[2],ang[1],0)\n",
    "            end    \n",
    "        end\n",
    "    end\n",
    "\n",
    "    return save_Ylm\n",
    "end"
   ]
  },
  {
   "cell_type": "code",
   "execution_count": 114,
   "id": "48defc64-48d2-4b61-81a7-aa9a82c0cbc7",
   "metadata": {},
   "outputs": [
    {
     "data": {
      "text/plain": [
       "calc_WX (generic function with 1 method)"
      ]
     },
     "execution_count": 114,
     "metadata": {},
     "output_type": "execute_result"
    }
   ],
   "source": [
    "function calc_WX(nside)\n",
    "\n",
    "    Ylm = calc_Yslm(nside, 2)\n",
    "    Ylm_ = calc_Yslm(nside, -2)\n",
    "    \n",
    "    W = -1*(Ylm + Ylm_)/2\n",
    "    X = -1im*(Ylm - Ylm_)/2\n",
    "\n",
    "    return W, X\n",
    "    \n",
    "end"
   ]
  },
  {
   "cell_type": "code",
   "execution_count": 24,
   "id": "72b0e8f1-d934-4d8a-8933-6840e3af1565",
   "metadata": {},
   "outputs": [],
   "source": [
    "W, X = calc_WX(4);"
   ]
  },
  {
   "cell_type": "code",
   "execution_count": 107,
   "id": "2ad98471-3e71-47d6-a1f4-12ea4124baf8",
   "metadata": {},
   "outputs": [],
   "source": [
    "Ylm = calc_Yslm(nside, 2);"
   ]
  },
  {
   "cell_type": "code",
   "execution_count": 138,
   "id": "c0967d5f-46d4-434f-a33e-0affa95b2643",
   "metadata": {},
   "outputs": [],
   "source": [
    "# Ylm\n",
    "# nside = 4\n",
    "# npix = 192 by l = 2*nside + 1 = 9 by -l < m < l\n",
    "\n",
    "# save_Ylm[pix,l+1, lmax+1+m]\n",
    "# l+1だから、 l は 2からなので、3からつまっていく、、、、l = 0, 1の要素は0なので\n",
    "# lmax+1+m　も mの条件を守りながら詰められていく"
   ]
  },
  {
   "cell_type": "code",
   "execution_count": 66,
   "id": "4759d59d-3312-47f8-ac23-0a3e2ec54f77",
   "metadata": {},
   "outputs": [],
   "source": [
    "Ylm[1, :, :];"
   ]
  },
  {
   "cell_type": "code",
   "execution_count": 67,
   "id": "92bcba73-cc13-4ede-86bf-194b010116ff",
   "metadata": {},
   "outputs": [],
   "source": [
    "Ylm_ = calc_Yslm(nside, -2);"
   ]
  },
  {
   "cell_type": "code",
   "execution_count": 103,
   "id": "d2144ae1-b217-401a-8e0f-1e8f33d5b81e",
   "metadata": {},
   "outputs": [],
   "source": [
    "Ylm_[1, :, :];"
   ]
  },
  {
   "cell_type": "code",
   "execution_count": 118,
   "id": "62824399-99b7-4114-80a2-4ff5c8cdc0b4",
   "metadata": {},
   "outputs": [
    {
     "data": {
      "text/plain": [
       "17-element Vector{ComplexF64}:\n",
       " 0.0 + 0.0im\n",
       " 0.0 + 0.0im\n",
       " 0.0 + 0.0im\n",
       " 0.0 + 0.0im\n",
       " 0.0 + 0.0im\n",
       " 0.0 + 0.0im\n",
       " 0.0 + 0.0im\n",
       " 0.0 + 0.0im\n",
       " 0.0 + 0.0im\n",
       " 0.0 + 0.0im\n",
       " 0.0 + 0.0im\n",
       " 0.0 + 0.0im\n",
       " 0.0 + 0.0im\n",
       " 0.0 + 0.0im\n",
       " 0.0 + 0.0im\n",
       " 0.0 + 0.0im\n",
       " 0.0 + 0.0im"
      ]
     },
     "execution_count": 118,
     "metadata": {},
     "output_type": "execute_result"
    }
   ],
   "source": [
    "# sYlm(pix, l, m)\n",
    "# (npix = 1)\n",
    "save_Ylm[1, :, :]\n",
    "\n",
    "# (npx, l = 1, 2)\n",
    "# mを指定する場合、m → lmax + 1 + m\n",
    "save_Ylm[1, 3, :]\n",
    "\n",
    "# (npx, l = 9, 2)\n",
    "# mを指定する場合、m → lmax + 1 + m\n",
    "save_Ylm[1, 1, :]"
   ]
  },
  {
   "cell_type": "code",
   "execution_count": 98,
   "id": "d03c8a79-a48b-428e-8b84-bce64b18c165",
   "metadata": {},
   "outputs": [
    {
     "data": {
      "text/plain": [
       "0.1434222148915316 - 0.22336686535918665im"
      ]
     },
     "execution_count": 98,
     "metadata": {},
     "output_type": "execute_result"
    }
   ],
   "source": [
    "#WignerD.wignerDjmn(2,1,2,1,2,0)"
   ]
  },
  {
   "cell_type": "code",
   "execution_count": 65,
   "id": "5e886829-6bc9-4b1e-8fff-34122daf5241",
   "metadata": {},
   "outputs": [],
   "source": [
    "#sum(save_Ylm[1, 9, :])"
   ]
  },
  {
   "cell_type": "code",
   "execution_count": 101,
   "id": "f72198c3-6fbf-4271-ae9f-30762cc3be19",
   "metadata": {},
   "outputs": [],
   "source": [
    "save_Ylm[1, 9, 1];"
   ]
  },
  {
   "cell_type": "code",
   "execution_count": 100,
   "id": "1d946b0f-7038-48bf-8dcf-1f850b4b3dde",
   "metadata": {},
   "outputs": [],
   "source": [
    "abs.(save_Ylm[1, 9, :]).^2;"
   ]
  },
  {
   "cell_type": "code",
   "execution_count": 74,
   "id": "99a8ce42-996f-490a-8f6f-789d0e4ae965",
   "metadata": {},
   "outputs": [],
   "source": [
    "conj(save_Ylm[1, 9, :]);"
   ]
  },
  {
   "cell_type": "markdown",
   "id": "730ee7aa-00ff-4339-995d-be2f9504978f",
   "metadata": {},
   "source": [
    "### あるnpix, lのmでの足し合わせ"
   ]
  },
  {
   "cell_type": "code",
   "execution_count": 99,
   "id": "a8a9a657-79e9-4ce4-ac5c-a3a7787c9311",
   "metadata": {},
   "outputs": [],
   "source": [
    "a = save_Ylm[1, 9, :] .*  conj(save_Ylm[1, 9, :]);"
   ]
  },
  {
   "cell_type": "code",
   "execution_count": 98,
   "id": "ebcc87c9-95d0-452f-bf55-e0fc376336a7",
   "metadata": {},
   "outputs": [
    {
     "data": {
      "text/plain": [
       "1.3528170162811144 + 0.0im"
      ]
     },
     "execution_count": 98,
     "metadata": {},
     "output_type": "execute_result"
    }
   ],
   "source": [
    "sum(a)"
   ]
  },
  {
   "cell_type": "code",
   "execution_count": 106,
   "id": "7f1945cd-d1ae-4577-914a-029499e5057d",
   "metadata": {},
   "outputs": [
    {
     "data": {
      "text/plain": [
       "Any[]"
      ]
     },
     "execution_count": 106,
     "metadata": {},
     "output_type": "execute_result"
    }
   ],
   "source": [
    "aa = []"
   ]
  },
  {
   "cell_type": "code",
   "execution_count": 84,
   "id": "ea59a7af-e711-41b4-bcad-534fb04ddc76",
   "metadata": {},
   "outputs": [
    {
     "data": {
      "text/plain": [
       "0.0 + 0.0im"
      ]
     },
     "execution_count": 84,
     "metadata": {},
     "output_type": "execute_result"
    }
   ],
   "source": [
    "aaa = Cal_sum_m(X, X, 10, 6, 1)"
   ]
  },
  {
   "cell_type": "code",
   "execution_count": 48,
   "id": "884a0de9-3180-4b0f-998d-484f54a5d65d",
   "metadata": {},
   "outputs": [
    {
     "data": {
      "text/plain": [
       "0.0"
      ]
     },
     "execution_count": 48,
     "metadata": {},
     "output_type": "execute_result"
    }
   ],
   "source": [
    "using Printf\n",
    "aaa = parse(Float64, string(@sprintf(\"%.13f\", imag(aaa))))"
   ]
  },
  {
   "cell_type": "markdown",
   "id": "bb57c4d6-3e70-47e8-b0a7-011e2f27d348",
   "metadata": {},
   "source": [
    "### mの総和と,lの総和"
   ]
  },
  {
   "cell_type": "code",
   "execution_count": 142,
   "id": "d6e5b322-f3a8-4d5d-824e-8cd02b990e29",
   "metadata": {},
   "outputs": [
    {
     "data": {
      "text/plain": [
       "Cal_sum_l (generic function with 1 method)"
      ]
     },
     "execution_count": 142,
     "metadata": {},
     "output_type": "execute_result"
    }
   ],
   "source": [
    "# mでの足し合わせを行う\n",
    "\n",
    "function Cal_sum_m(Flm, Glm, npix1, npix2, l)\n",
    "    \n",
    "    # Σ_m W(npix_i) * W^*(npix_j)\n",
    "    WW_XX = sum(Flm[npix1,l,:] .* conj(Glm[npix2,l,:]))\n",
    "\n",
    "    return WW_XX\n",
    "\n",
    "end\n",
    "\n",
    "\n",
    "function Cal_sum_l(Flm, Glm, npix1, npix2, cl, wl, beam_pol, nside)\n",
    "    \n",
    "    mat_comp = []\n",
    "    \n",
    "    lmax = 2*nside\n",
    "    \n",
    "    for l in 3 : lmax + 1\n",
    "\n",
    "        # dl → cl\n",
    "        #fact = l * (l+1) / (2 * pi)\n",
    "        fact = 1\n",
    "\n",
    "        # WW_XX は -lからlだけど 3から、lmax + 1 まで詰まっている\n",
    "        WW_XX = Cal_sum_m(Flm, Glm, npix1, npix2, l)\n",
    "\n",
    "        # Σ_l Cl * wl^2 * W(npix_i, npix_j)\n",
    "        Cov_mat = wl[l]^2 * beam_pol[l]^2 * cl[l] * WW_XX / fact\n",
    "\n",
    "        # im 部分は小さいので切り落とす\n",
    "        push!(mat_comp, real(Cov_mat))\n",
    "        #push!(mat_comp, Cov_mat)\n",
    "\n",
    "    end \n",
    "        \n",
    "    return sum(mat_comp)\n",
    "\n",
    "end"
   ]
  },
  {
   "cell_type": "code",
   "execution_count": 10,
   "id": "fea0a5d7-e34e-4d47-9f9f-7e3a0ecf0ee0",
   "metadata": {},
   "outputs": [],
   "source": [
    "#gaussbeam(0, 9, pol=true)"
   ]
  },
  {
   "cell_type": "code",
   "execution_count": 11,
   "id": "6c357234-0b37-4448-a50c-262e69e832e4",
   "metadata": {},
   "outputs": [],
   "source": [
    "using PyCall\n",
    "\n",
    "@pyimport healpy as hp"
   ]
  },
  {
   "cell_type": "code",
   "execution_count": 12,
   "id": "c3584ece-5968-4d9c-94cc-1c1dfa1ec928",
   "metadata": {},
   "outputs": [],
   "source": [
    "#hp.sphtfunc.gauss_beam(0, 9, pol=true)[:,1] "
   ]
  },
  {
   "cell_type": "code",
   "execution_count": 143,
   "id": "45e9660f-5a31-4ec2-ac6a-cb7e559f63e2",
   "metadata": {},
   "outputs": [
    {
     "data": {
      "text/plain": [
       "Cal_matrix (generic function with 1 method)"
      ]
     },
     "execution_count": 143,
     "metadata": {},
     "output_type": "execute_result"
    }
   ],
   "source": [
    "function Cal_matrix(F1lm, F2lm, G1lm, G2lm, clEE, clBB, nside)\n",
    "    \n",
    "    npix = nside2npix(nside)\n",
    "    lmax = 2*nside\n",
    "\n",
    "    # beam, pixwinも考えない場合(= 1) theta_pixも適当---------------------------------------#\n",
    "    fwhm = 0\n",
    "    \n",
    "    wl = pixwin(nside, pol=true)\n",
    "    \n",
    "    wl_P = wl[2][1:lmax + 1] * 0 .+ 1\n",
    "    \n",
    "    beam = gaussbeam(fwhm, Int(lmax + 1), pol=true) * 0 .+ 1\n",
    "    \n",
    "    #beam_EE = beam[:,2] * 0 .+ 1\n",
    "    #beam_BB = beam[:,3] * 0 .+ 1\n",
    "\n",
    "    beam_EE = beam * 0 .+ 1\n",
    "    beam_BB = beam * 0 .+ 1\n",
    "    \n",
    "    #----------------------------------------------------------------------------#\n",
    "\n",
    "    matrix = zeros((npix,npix))*1.0im\n",
    "    for i in 1 : npix\n",
    "        \n",
    "        for j in 1 : npix\n",
    "            \n",
    "            comp = Cal_sum_l(F1lm, F2lm, i, j, clEE, wl_P, beam_EE, nside) + Cal_sum_l(G1lm, G2lm, i, j, clBB, wl_P, beam_BB, nside)\n",
    "\n",
    "            # i = 1の時　(n1, n1),　(n1, n2)　, (n1, n3)...,(n1, n_npix)　 \n",
    "            # :\n",
    "            # :\n",
    "            # i = の時　(n1, n1),　(n1, n2)　, (n1, n3)...,(n1, n_npix)　 \n",
    "            \n",
    "            matrix[i,j] = comp\n",
    "        end\n",
    "    end\n",
    "            \n",
    "    return matrix\n",
    "\n",
    "end\n",
    "    "
   ]
  },
  {
   "cell_type": "code",
   "execution_count": 144,
   "id": "a437b6cf-dd35-44bc-b440-37ad5d000210",
   "metadata": {},
   "outputs": [],
   "source": [
    "win = pixwin(4, pol=true);"
   ]
  },
  {
   "cell_type": "code",
   "execution_count": 145,
   "id": "a726dfb8-34e4-43b5-ab0f-7b6f7edd4aa5",
   "metadata": {},
   "outputs": [],
   "source": [
    "win[2][1:2*nside];"
   ]
  },
  {
   "cell_type": "code",
   "execution_count": 146,
   "id": "d3749352-d812-40f5-9cd6-c9e526aad146",
   "metadata": {},
   "outputs": [
    {
     "data": {
      "text/plain": [
       "make_input_map (generic function with 1 method)"
      ]
     },
     "execution_count": 146,
     "metadata": {},
     "output_type": "execute_result"
    }
   ],
   "source": [
    "using PyCall\n",
    "using PyPlot\n",
    "\n",
    "@pyimport sys\n",
    "pushfirst!(PyVector(pyimport(\"sys\")[\"path\"]), \"/Users/ikumakiyoshi/Library/Mobile Documents/com~apple~CloudDocs/study_fg_rm/program/Deltamap_test/julia_delta-map/function_julia\")\n",
    "\n",
    "@pyimport cmb_make_file as cmb_make\n",
    "\n",
    "include(\"/Users/ikumakiyoshi/Library/Mobile Documents/com~apple~CloudDocs/study_fg_rm/program/Deltamap_test/julia_delta-map/function_julia/make_data_m.jl\")\n",
    "include(\"/Users/ikumakiyoshi/Library/Mobile Documents/com~apple~CloudDocs/study_fg_rm/program/Deltamap_test/julia_delta-map/function_julia/Delta_map.jl\")\n",
    "include(\"/Users/ikumakiyoshi/Library/Mobile Documents/com~apple~CloudDocs/study_fg_rm/program/Deltamap_test/julia_delta-map/function_julia/Delta_map_alpha.jl\")"
   ]
  },
  {
   "cell_type": "code",
   "execution_count": 124,
   "id": "eb834a09-6682-41c4-9d6e-ab0d515f84e0",
   "metadata": {},
   "outputs": [
    {
     "name": "stdout",
     "output_type": "stream",
     "text": [
      " WARNING: nu_mass_degeneracies ignored when share_delta_neff\n"
     ]
    }
   ],
   "source": [
    "random_seed_cmb = 5123\n",
    "seed_syn = 12345\n",
    "nside = 4\n",
    "\n",
    "cl_scal, cl_tens = cmb_make.cmb_cl_calc(nside, random_seed_cmb, seed_syn);"
   ]
  },
  {
   "cell_type": "code",
   "execution_count": 140,
   "id": "fff9ebe4-b7f2-4aff-b6f7-6c007eaba453",
   "metadata": {},
   "outputs": [],
   "source": [
    "clEE = cl_scal[:,2][1:2*nside+1]\n",
    "clBB = cl_tens[:,3][1:2*nside+1];"
   ]
  },
  {
   "cell_type": "code",
   "execution_count": 150,
   "id": "b66d1fad-f553-4d5f-baf8-ef03373686a9",
   "metadata": {},
   "outputs": [
    {
     "data": {
      "text/plain": [
       "9-element Vector{Float64}:\n",
       " 0.0\n",
       " 0.0\n",
       " 0.03218080569568986\n",
       " 0.01588908026162604\n",
       " 0.008106372625157109\n",
       " 0.004130238342372817\n",
       " 0.0020897191840570026\n",
       " 0.0010653703157161658\n",
       " 0.0005703369413699805"
      ]
     },
     "execution_count": 150,
     "metadata": {},
     "output_type": "execute_result"
    }
   ],
   "source": [
    "cl_scal[:,2][1:2*nside+1]\n",
    "cl_tens[:,3][1:2*nside + 1]"
   ]
  },
  {
   "cell_type": "code",
   "execution_count": 148,
   "id": "c94f0966-54fc-4c8f-b644-e4c5421cbe30",
   "metadata": {},
   "outputs": [
    {
     "data": {
      "text/plain": [
       "192×192 Matrix{ComplexF64}:\n",
       "   0.0457664+0.0im   -0.0337839+0.0im  …   -0.0062483+0.0im\n",
       "  -0.0337839+0.0im    0.0457664+0.0im      0.00642607+0.0im\n",
       "   0.0264958+0.0im   -0.0337839+0.0im      -0.0062483+0.0im\n",
       "  -0.0337839+0.0im    0.0264958+0.0im       0.0063871+0.0im\n",
       "   0.0274094+0.0im   -0.0116227+0.0im     -0.00490636+0.0im\n",
       "   0.0274094+0.0im   -0.0181208+0.0im  …  -0.00410684+0.0im\n",
       "  -0.0181208+0.0im    0.0274094+0.0im      0.00458842+0.0im\n",
       "  -0.0116227+0.0im    0.0274094+0.0im      0.00458842+0.0im\n",
       "   0.0122336+0.0im   -0.0181208+0.0im     -0.00410684+0.0im\n",
       "   0.0122336+0.0im   -0.0116227+0.0im     -0.00490636+0.0im\n",
       "  -0.0116227+0.0im    0.0122336+0.0im  …    0.0047112+0.0im\n",
       "  -0.0181208+0.0im    0.0122336+0.0im       0.0047112+0.0im\n",
       "   0.0116144+0.0im   -0.0013142+0.0im     -0.00425006+0.0im\n",
       "            ⋮                          ⋱  \n",
       "   0.0047112+0.0im  -0.00410684+0.0im  …   -0.0181208+0.0im\n",
       "   0.0047112+0.0im  -0.00490636+0.0im      -0.0116227+0.0im\n",
       " -0.00490636+0.0im    0.0047112+0.0im       0.0122336+0.0im\n",
       " -0.00410684+0.0im    0.0047112+0.0im       0.0122336+0.0im\n",
       "  0.00458842+0.0im  -0.00490636+0.0im      -0.0116227+0.0im\n",
       "  0.00458842+0.0im  -0.00410684+0.0im  …   -0.0181208+0.0im\n",
       " -0.00410684+0.0im   0.00458842+0.0im       0.0274094+0.0im\n",
       " -0.00490636+0.0im   0.00458842+0.0im       0.0274094+0.0im\n",
       "   0.0063871+0.0im   -0.0062483+0.0im      -0.0337839+0.0im\n",
       "  -0.0062483+0.0im    0.0063871+0.0im       0.0264958+0.0im\n",
       "  0.00642607+0.0im   -0.0062483+0.0im  …   -0.0337839+0.0im\n",
       "  -0.0062483+0.0im   0.00642607+0.0im       0.0457664+0.0im"
      ]
     },
     "execution_count": 148,
     "metadata": {},
     "output_type": "execute_result"
    }
   ],
   "source": [
    "cov_mat = Cal_matrix(W, W, X, X, cl_scal[:,2][1:2*nside + 1], cl_scal[:,3][1:2*nside + 1], 4)"
   ]
  },
  {
   "cell_type": "code",
   "execution_count": 152,
   "id": "26073207-ac7f-4e52-aab3-513c0bbfc05b",
   "metadata": {},
   "outputs": [
    {
     "data": {
      "text/plain": [
       "true"
      ]
     },
     "execution_count": 152,
     "metadata": {},
     "output_type": "execute_result"
    }
   ],
   "source": [
    "cov_mat == transpose(cov_mat)"
   ]
  },
  {
   "cell_type": "code",
   "execution_count": 46,
   "id": "aa8257ca-1357-42ca-a8d5-a8d355a2a109",
   "metadata": {},
   "outputs": [
    {
     "data": {
      "image/png": "[encoded data removed]",
      "text/plain": [
       "Figure(PyObject <Figure size 640x480 with 1 Axes>)"
      ]
     },
     "metadata": {},
     "output_type": "display_data"
    },
    {
     "data": {
      "text/plain": [
       "1-element Vector{PyObject}:\n",
       " PyObject <matplotlib.lines.Line2D object at 0x2c1e24be0>"
      ]
     },
     "execution_count": 46,
     "metadata": {},
     "output_type": "execute_result"
    }
   ],
   "source": [
    "using PyPlot\n",
    "a = 1: length(c_ell[:,2])\n",
    "\n",
    "loglog(a, c_ell[:,2])\n",
    "loglog(a, c_ell[:,3])"
   ]
  },
  {
   "cell_type": "code",
   "execution_count": 47,
   "id": "ac8acbe6-7608-422d-9015-efc2b3f43862",
   "metadata": {},
   "outputs": [
    {
     "data": {
      "image/png": "[encoded data removed]",
      "text/plain": [
       "Figure(PyObject <Figure size 640x480 with 1 Axes>)"
      ]
     },
     "metadata": {},
     "output_type": "display_data"
    },
    {
     "data": {
      "text/plain": [
       "1-element Vector{PyObject}:\n",
       " PyObject <matplotlib.lines.Line2D object at 0x2c407ce50>"
      ]
     },
     "execution_count": 47,
     "metadata": {},
     "output_type": "execute_result"
    }
   ],
   "source": [
    "loglog(a, c_ell[:,2]./(2*pi./(a.*(a.+1))))\n",
    "loglog(a, c_ell[:,3]./(2*pi./(a.*(a.+1))))"
   ]
  },
  {
   "cell_type": "code",
   "execution_count": 6,
   "id": "223cafb5-e8b2-4591-bf6b-5dcec3ce525b",
   "metadata": {},
   "outputs": [],
   "source": [
    "#clEE = cl_scal[:,2][2:2*nside + 1]\n",
    "#clBB = cl_tens[:,3][2:2*nside + 1];"
   ]
  },
  {
   "cell_type": "code",
   "execution_count": null,
   "id": "4de8f1cf-9dde-4991-a909-a0519d1cb2ea",
   "metadata": {},
   "outputs": [],
   "source": []
  }
 ],
 "metadata": {
  "kernelspec": {
   "display_name": "Julia (4 threads) 1.9.1",
   "language": "julia",
   "name": "julia-4-threads-1.9"
  },
  "language_info": {
   "file_extension": ".jl",
   "mimetype": "application/julia",
   "name": "julia",
   "version": "1.9.1"
  }
 },
 "nbformat": 4,
 "nbformat_minor": 5
}
