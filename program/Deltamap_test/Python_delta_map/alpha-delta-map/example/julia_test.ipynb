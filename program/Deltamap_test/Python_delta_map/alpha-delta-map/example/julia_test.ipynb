{
 "cells": [
  {
   "cell_type": "markdown",
   "id": "117bad2f-f368-4200-aa32-7e7a58ed95b7",
   "metadata": {},
   "source": [
    "### Julia Delta-map"
   ]
  },
  {
   "cell_type": "code",
   "execution_count": null,
   "id": "ca7dbd01-d97d-45ab-9385-a091d739f571",
   "metadata": {},
   "outputs": [],
   "source": []
  }
 ],
 "metadata": {
  "kernelspec": {
   "display_name": "Julia 1.9.1",
   "language": "julia",
   "name": "julia-1.9"
  },
  "language_info": {
   "file_extension": ".jl",
   "mimetype": "application/julia",
   "name": "julia",
   "version": "1.9.1"
  }
 },
 "nbformat": 4,
 "nbformat_minor": 5
}
