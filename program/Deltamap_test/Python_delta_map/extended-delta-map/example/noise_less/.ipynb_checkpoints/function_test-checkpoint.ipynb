{
 "cells": [
  {
   "cell_type": "code",
   "execution_count": 1,
   "id": "bd606d00-8802-4f8b-bd8f-ca596c4c2d93",
   "metadata": {},
   "outputs": [
    {
     "name": "stdout",
     "output_type": "stream",
     "text": [
      "Using CAMB 1.5.2 installed at /Users/ikumakiyoshi/.julia/conda/3/lib/python3.10/site-packages/camb\n"
     ]
    }
   ],
   "source": [
    "import fg_make_file as fg\n",
    "import cmb_make_file as cmb\n",
    "import Delta_map as dm\n",
    "import numpy as np\n",
    "import healpy as hp\n",
    "import warnings\n",
    "warnings.filterwarnings(\"ignore\")"
   ]
  },
  {
   "cell_type": "code",
   "execution_count": 14,
   "id": "1220b348-f685-406d-a04f-c553effb1104",
   "metadata": {},
   "outputs": [
    {
     "name": "stdout",
     "output_type": "stream",
     "text": [
      " WARNING: nu_mass_degeneracies ignored when share_delta_neff\n"
     ]
    },
    {
     "data": {
      "text/plain": [
       "'\\nr_elements = [1, 0.1, 0.01, 0.001, 0.0001, 0.00001, 0.000001, 0.]\\nr_elements_name = [\"1\", \"01\", \"001\", \"0001\", \"00001\", \"000001\", \"0000001\", \"0\"]\\n\\n# rturn CMB (r = i)\\n# name : cmb_r_i\\nfor j, i in enumerate(r_elements):\\n    variable_name = f\\'cmb_r_{r_elements_name[j].replace(\".\", \"_\")}\\'\\n    locals()[variable_name] = cmb.cmb_make_file(nside, i, random_seed_cmb, seed_syn)\\n    '"
      ]
     },
     "execution_count": 14,
     "metadata": {},
     "output_type": "execute_result"
    }
   ],
   "source": [
    "random_seed_cmb = 5123\n",
    "seed_syn = 12345\n",
    "nside = 2**2\n",
    "\n",
    "cmb_r_0 = cmb.cmb_make_file(nside, 0, random_seed_cmb, seed_syn)\n",
    "\n",
    "\"\"\"\n",
    "r_elements = [1, 0.1, 0.01, 0.001, 0.0001, 0.00001, 0.000001, 0.]\n",
    "r_elements_name = [\"1\", \"01\", \"001\", \"0001\", \"00001\", \"000001\", \"0000001\", \"0\"]\n",
    "\n",
    "# rturn CMB (r = i)\n",
    "# name : cmb_r_i\n",
    "for j, i in enumerate(r_elements):\n",
    "    variable_name = f'cmb_r_{r_elements_name[j].replace(\".\", \"_\")}'\n",
    "    locals()[variable_name] = cmb.cmb_make_file(nside, i, random_seed_cmb, seed_syn)\n",
    "    \"\"\""
   ]
  },
  {
   "cell_type": "code",
   "execution_count": 15,
   "id": "6bdd9f1f-ca8d-41ee-9b68-768ab50cad1a",
   "metadata": {},
   "outputs": [
    {
     "name": "stderr",
     "output_type": "stream",
     "text": [
      "OMP: Info #276: omp_set_nested routine deprecated, please use omp_set_max_active_levels instead.\n"
     ]
    }
   ],
   "source": [
    "f_elements = [40, 50, 100, 140, 280, 402]\n",
    "\n",
    "#f_elements = [40, 100, 140]\n",
    "\n",
    "for k in f_elements:\n",
    "    synch = f'synch_{str(k).replace(\".\", \"_\")}'\n",
    "    locals()[synch] = fg.fg_make_file(k, nside)[0]\n",
    "\n",
    "    dust = f'dust_{str(k).replace(\".\", \"_\")}'\n",
    "    locals()[dust] = fg.fg_make_file(k, nside)[1]"
   ]
  },
  {
   "cell_type": "code",
   "execution_count": 10,
   "id": "6f085d08-3606-481c-9893-7302548ef894",
   "metadata": {},
   "outputs": [],
   "source": [
    "#f_elements = [40, 50, 100, 140, 280, 402]\n",
    "#f_elements = [40, 100, 140]\n",
    "#nside = 2**4\n",
    "\n",
    "#D_1 =  dm.calc_D_matrix(f_elements, \"d1 and s1\", nside)\n",
    "#D_1 =  dm.calc_D_matrix(f_elements, \"s1\", nside)"
   ]
  },
  {
   "cell_type": "code",
   "execution_count": 11,
   "id": "00d46613-eb49-43c7-92bd-215b4f9fbcf3",
   "metadata": {},
   "outputs": [],
   "source": [
    "#D_1"
   ]
  },
  {
   "cell_type": "code",
   "execution_count": 12,
   "id": "2133ce2c-73f8-4968-a4bd-c831db84cb3a",
   "metadata": {},
   "outputs": [],
   "source": [
    "#dm.D_element(100)"
   ]
  },
  {
   "cell_type": "code",
   "execution_count": 17,
   "id": "3b746074-c868-4e8c-a43b-b7b9cb75dd82",
   "metadata": {},
   "outputs": [],
   "source": [
    "# which_model = \"s1\", \"d1\", or \"s1 and d1\"\n",
    "\n",
    "def make_data_m(cmb, freq_band, which_model, nside):\n",
    "\n",
    "    band = int(len(freq_band))\n",
    "\n",
    "    N_pix = hp.nside2npix(nside)\n",
    "\n",
    "    data_m = np.zeros(int(2*N_pix*band))\n",
    "\n",
    "    if which_model == \"s1\":\n",
    "        \n",
    "        for ii, freq in enumerate(freq_band):\n",
    "\n",
    "            # data m[I, Q, U]\n",
    "            m = fg.fg_make_file(freq, nside)[0] + cmb\n",
    "            \n",
    "            data_m[int((2*ii)*N_pix) : int((2*ii+1)*N_pix)] = m[1]\n",
    "            data_m[int((2*ii+1)*N_pix) : int(((2*ii+2))*N_pix)] = m[2]\n",
    "            \n",
    "    elif which_model == \"d1\":\n",
    "\n",
    "        for ii, freq in enumerate(freq_band):\n",
    "\n",
    "            # data m[I, Q, U]\n",
    "            m = fg.fg_make_file(freq, nside)[1] + cmb\n",
    "\n",
    "            data_m[int((2*ii)*N_pix) : int((2*ii+1)*N_pix)] = m[1]\n",
    "            data_m[int((2*ii+1)*N_pix) : int(((2*ii+2))*N_pix)] = m[2]     \n",
    "\n",
    "    elif which_model == \"d1 and s1\":\n",
    "\n",
    "        for ii, freq in enumerate(freq_band):\n",
    "\n",
    "            # data m[I, Q, U]\n",
    "            m = fg.fg_make_file(freq, nside)[0] + fg.fg_make_file(freq, nside)[1] + cmb\n",
    "\n",
    "            data_m[int((2*ii)*N_pix) : int((2*ii+1)*N_pix)] = m[1]\n",
    "            data_m[int((2*ii+1)*N_pix) : int(((2*ii+2))*N_pix)] = m[2]\n",
    "\n",
    "    else:\n",
    "        print(\"正しいモデル入れてね\")\n",
    "\n",
    "    return data_m"
   ]
  },
  {
   "cell_type": "code",
   "execution_count": 18,
   "id": "a1cbd950-ab91-433c-af74-c97be674cb73",
   "metadata": {},
   "outputs": [],
   "source": [
    "# which_model = \"s1\", \"d1\", or \"s1 and d1\"\n",
    "f_elements = [40, 50, 100, 140, 280, 402]\n",
    "\n",
    "#return m_[Q, U]\n",
    "data_m = make_data_m(cmb_r_0, f_elements, \"d1 and s1\", nside)"
   ]
  },
  {
   "cell_type": "code",
   "execution_count": 20,
   "id": "068f5e0b-7ec3-477f-b144-80bdf1d922d1",
   "metadata": {},
   "outputs": [
    {
     "data": {
      "text/plain": [
       "(2304,)"
      ]
     },
     "execution_count": 20,
     "metadata": {},
     "output_type": "execute_result"
    }
   ],
   "source": [
    "data_m.shape"
   ]
  },
  {
   "cell_type": "code",
   "execution_count": 47,
   "id": "b654f79d-585c-45ca-9fed-653a2e382a8c",
   "metadata": {},
   "outputs": [],
   "source": [
    "import matplotlib.pyplot as plt\n",
    "import healpy as hp\n",
    "%matplotlib inline\n",
    "\n",
    "#hp.mollview(cmb_r_001[2], title=\" map\", unit = \"μK\")\n",
    "#hp.mollview(dust_40[0], title=\" map\", unit = \"μK\")"
   ]
  },
  {
   "cell_type": "code",
   "execution_count": null,
   "id": "2b47b837-6214-4599-a9f6-8f2d0add9946",
   "metadata": {},
   "outputs": [],
   "source": [
    "D = np.block([[diag, d_40 * diag, dd_40 * diag], [diag, d_100 * diag, dd_100 * diag], [diag, d_140 * diag, dd_140 * diag]])"
   ]
  },
  {
   "cell_type": "code",
   "execution_count": 80,
   "id": "535b325f-a811-49d1-81e8-6609efb0c369",
   "metadata": {},
   "outputs": [
    {
     "name": "stdout",
     "output_type": "stream",
     "text": [
      "[[ 1  2  7  9]\n",
      " [ 3  4  3  4]\n",
      " [ 5  6 11 12]\n",
      " [ 3  4 13 14]]\n"
     ]
    }
   ],
   "source": [
    "import numpy as np\n",
    "\n",
    "A = np.array([[1, 2], [3, 4]])\n",
    "B = np.array([[5, 6], [3, 4]])\n",
    "C = np.array([[7, 9], [3, 4]])\n",
    "D = np.array([[11, 12], [13, 14]])\n",
    "\n",
    "\n",
    "# numpy.blockを使って結合\n",
    "result = np.block([[A, C],[B, D]])\n",
    "\n",
    "print(result)"
   ]
  },
  {
   "cell_type": "code",
   "execution_count": 85,
   "id": "4b708fc5-c240-4870-b657-5c250396444a",
   "metadata": {},
   "outputs": [
    {
     "data": {
      "text/plain": [
       "array([[ 1,  2,  7,  9],\n",
       "       [ 3,  4,  3,  4],\n",
       "       [ 5,  6, 11, 12],\n",
       "       [ 3,  4, 13, 14]])"
      ]
     },
     "execution_count": 85,
     "metadata": {},
     "output_type": "execute_result"
    }
   ],
   "source": [
    "DD = []\n",
    "DD.append([A,C])\n",
    "DD.append([B,D])\n",
    "\n",
    "np.block(DD)"
   ]
  },
  {
   "cell_type": "code",
   "execution_count": 6,
   "id": "6f29fd1f-944c-4d84-bbc7-24b65194d1b0",
   "metadata": {},
   "outputs": [
    {
     "name": "stdout",
     "output_type": "stream",
     "text": [
      "(18432, 18432)\n",
      "(36864, 36864)\n"
     ]
    }
   ],
   "source": [
    "def D_element(freq, freq_b = 23 * 10**9, beta = -3.):\n",
    "\n",
    "    # x = (f / T) * (h / k)\n",
    "    x = (freq / 2.725) / (2.083661912 * 10**10)\n",
    "    \n",
    "    g_freq = ((np.exp(x) - 1)**2) / (np.exp(x) * x**2) * 1000.0\n",
    "\n",
    "    \n",
    "    d = g_freq * (freq/freq_b)**(beta)\n",
    "\n",
    "    dd = g_freq * (freq/freq_b)**(beta) * np.log(freq/freq_b)\n",
    "    \n",
    "    return d, dd\n",
    "\n",
    "\n",
    "def  calc_D_matrix(freq_band, which_model, nside):\n",
    "\n",
    "    N_pix = hp.nside2npix(nside)\n",
    "\n",
    "    diag = np.identity(2 * N_pix)\n",
    "\n",
    "    D_blocks = []\n",
    "\n",
    "    for freq in freq_band:\n",
    "\n",
    "        d, dd = D_element(freq * 10**9)\n",
    "\n",
    "        D_blocks.append([diag, d * diag, dd * diag])\n",
    "\n",
    "    D_matrix = np.block(D_blocks)\n",
    "\n",
    "    return D_matrix\n",
    "        \n",
    "\n",
    "D_1 =  dm.calc_D_matrix(f_elements, \"d1 and s1\", nside)\n",
    "\n",
    "# freq_b = 23 GHz, beta = -3.0\n",
    "d_40, dd_40 = D_element(40 * 10**9)\n",
    "d_100, dd_100 = D_element(100 * 10**9)\n",
    "d_140, dd_140 = D_element(140 * 10**9)\n",
    "\n",
    "\n",
    "# D Matrix\n",
    "N_pix = hp.nside2npix(nside)\n",
    "diag = np.identity(2 * N_pix)\n",
    "\n",
    "# Block Matrix, CMB + FG\n",
    "D = np.block([[diag, d_40 * diag, dd_40 * diag], [diag, d_100 * diag, dd_100 * diag], [diag, d_140 * diag, dd_140 * diag]])\n",
    "\n",
    "print(D.shape)\n",
    "\n",
    "print(D_1.shape)"
   ]
  },
  {
   "cell_type": "code",
   "execution_count": 22,
   "id": "70c64d8c-bb21-45ce-9bd9-ca7d8dc291df",
   "metadata": {},
   "outputs": [],
   "source": [
    "import Delta_map as dm\n",
    "\n",
    "D_2 = dm.calc_D_matrix(f_elements, \"s1\", nside)"
   ]
  },
  {
   "cell_type": "code",
   "execution_count": 99,
   "id": "7f8faaa3-43fa-4c1e-b283-bdfabfa3b87f",
   "metadata": {},
   "outputs": [
    {
     "data": {
      "text/plain": [
       "array([[0., 0., 0., ..., 0., 0., 0.],\n",
       "       [0., 0., 0., ..., 0., 0., 0.],\n",
       "       [0., 0., 0., ..., 0., 0., 0.],\n",
       "       ...,\n",
       "       [0., 0., 0., ..., 0., 0., 0.],\n",
       "       [0., 0., 0., ..., 0., 0., 0.],\n",
       "       [0., 0., 0., ..., 0., 0., 0.]])"
      ]
     },
     "execution_count": 99,
     "metadata": {},
     "output_type": "execute_result"
    }
   ],
   "source": [
    "D_1-D_2"
   ]
  },
  {
   "cell_type": "code",
   "execution_count": 2,
   "id": "ea008625-aa83-4a75-af6c-b5058589dc01",
   "metadata": {},
   "outputs": [],
   "source": [
    "f_elements = [40, 50, 100, 140, 280, 402]\n",
    "nside = 2**2\n",
    "\n",
    "D_1 =  dm.calc_D_matrix(f_elements, \"d1 and s1\", nside)"
   ]
  },
  {
   "cell_type": "code",
   "execution_count": 4,
   "id": "f0f74793-a59a-43a6-a7a0-a6c3a25a6c47",
   "metadata": {},
   "outputs": [
    {
     "data": {
      "text/plain": [
       "(2304, 2304)"
      ]
     },
     "execution_count": 4,
     "metadata": {},
     "output_type": "execute_result"
    }
   ],
   "source": [
    "D_1.shape"
   ]
  },
  {
   "cell_type": "code",
   "execution_count": 5,
   "id": "796efbbe-2604-4aef-8913-1bfc7b744601",
   "metadata": {},
   "outputs": [
    {
     "data": {
      "text/plain": [
       "array([[  1.       ,   0.       ,   0.       , ...,  -0.       ,\n",
       "         -0.       ,  -0.       ],\n",
       "       [  0.       ,   1.       ,   0.       , ...,  -0.       ,\n",
       "         -0.       ,  -0.       ],\n",
       "       [  0.       ,   0.       ,   1.       , ...,  -0.       ,\n",
       "         -0.       ,  -0.       ],\n",
       "       ...,\n",
       "       [  0.       ,   0.       ,   0.       , ..., 101.1321824,\n",
       "          0.       ,   0.       ],\n",
       "       [  0.       ,   0.       ,   0.       , ...,   0.       ,\n",
       "        101.1321824,   0.       ],\n",
       "       [  0.       ,   0.       ,   0.       , ...,   0.       ,\n",
       "          0.       , 101.1321824]])"
      ]
     },
     "execution_count": 5,
     "metadata": {},
     "output_type": "execute_result"
    }
   ],
   "source": [
    "D_1"
   ]
  },
  {
   "cell_type": "code",
   "execution_count": null,
   "id": "4a60e581-77db-4b20-937c-91bba709f1c0",
   "metadata": {},
   "outputs": [],
   "source": []
  }
 ],
 "metadata": {
  "kernelspec": {
   "display_name": "Python 3 (ipykernel)",
   "language": "python",
   "name": "python3"
  },
  "language_info": {
   "codemirror_mode": {
    "name": "ipython",
    "version": 3
   },
   "file_extension": ".py",
   "mimetype": "text/x-python",
   "name": "python",
   "nbconvert_exporter": "python",
   "pygments_lexer": "ipython3",
   "version": "3.10.12"
  }
 },
 "nbformat": 4,
 "nbformat_minor": 5
}
