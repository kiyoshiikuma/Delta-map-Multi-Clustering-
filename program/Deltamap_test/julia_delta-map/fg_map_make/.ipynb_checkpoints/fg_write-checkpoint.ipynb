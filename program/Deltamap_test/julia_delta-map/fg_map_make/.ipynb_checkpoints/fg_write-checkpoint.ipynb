{
 "cells": [
  {
   "cell_type": "code",
   "execution_count": 1,
   "id": "a42c4807-b154-4768-b442-06f73543c3a1",
   "metadata": {},
   "outputs": [
    {
     "name": "stderr",
     "output_type": "stream",
     "text": [
      "OMP: Info #276: omp_set_nested routine deprecated, please use omp_set_max_active_levels instead.\n",
      "setting the output map dtype to [dtype('float32'), dtype('float32'), dtype('float32')]\n",
      "setting the output map dtype to [dtype('float32'), dtype('float32'), dtype('float32')]\n",
      "setting the output map dtype to [dtype('float32'), dtype('float32'), dtype('float32')]\n",
      "setting the output map dtype to [dtype('float32'), dtype('float32'), dtype('float32')]\n",
      "setting the output map dtype to [dtype('float32'), dtype('float32'), dtype('float32')]\n",
      "setting the output map dtype to [dtype('float32'), dtype('float32'), dtype('float32')]\n",
      "setting the output map dtype to [dtype('float32'), dtype('float32'), dtype('float32')]\n",
      "setting the output map dtype to [dtype('float32'), dtype('float32'), dtype('float32')]\n",
      "setting the output map dtype to [dtype('float32'), dtype('float32'), dtype('float32')]\n",
      "setting the output map dtype to [dtype('float32'), dtype('float32'), dtype('float32')]\n",
      "setting the output map dtype to [dtype('float32'), dtype('float32'), dtype('float32')]\n",
      "setting the output map dtype to [dtype('float32'), dtype('float32'), dtype('float32')]\n",
      "setting the output map dtype to [dtype('float32'), dtype('float32'), dtype('float32')]\n",
      "setting the output map dtype to [dtype('float32'), dtype('float32'), dtype('float32')]\n",
      "setting the output map dtype to [dtype('float32'), dtype('float32'), dtype('float32')]\n",
      "setting the output map dtype to [dtype('float32'), dtype('float32'), dtype('float32')]\n",
      "setting the output map dtype to [dtype('float32'), dtype('float32'), dtype('float32')]\n",
      "setting the output map dtype to [dtype('float32'), dtype('float32'), dtype('float32')]\n",
      "setting the output map dtype to [dtype('float32'), dtype('float32'), dtype('float32')]\n",
      "setting the output map dtype to [dtype('float32'), dtype('float32'), dtype('float32')]\n",
      "setting the output map dtype to [dtype('float32'), dtype('float32'), dtype('float32')]\n",
      "setting the output map dtype to [dtype('float32'), dtype('float32'), dtype('float32')]\n",
      "setting the output map dtype to [dtype('float32'), dtype('float32'), dtype('float32')]\n",
      "setting the output map dtype to [dtype('float32'), dtype('float32'), dtype('float32')]\n",
      "setting the output map dtype to [dtype('float32'), dtype('float32'), dtype('float32')]\n",
      "setting the output map dtype to [dtype('float32'), dtype('float32'), dtype('float32')]\n",
      "setting the output map dtype to [dtype('float32'), dtype('float32'), dtype('float32')]\n",
      "setting the output map dtype to [dtype('float32'), dtype('float32'), dtype('float32')]\n",
      "setting the output map dtype to [dtype('float32'), dtype('float32'), dtype('float32')]\n",
      "setting the output map dtype to [dtype('float32'), dtype('float32'), dtype('float32')]\n"
     ]
    }
   ],
   "source": [
    "import fg_make_file as fg\n",
    "\n",
    "nside = 2**6\n",
    "\n",
    "# fg　ファイルをそれぞれの周波数で作成\n",
    "\n",
    "freq_elemnts = [40, 50, 60, 68, 78, 89, 100, 119, 140, 166, 195, 235, 280, 337, 402]\n",
    "\n",
    "for freq in freq_elemnts:\n",
    "    fg.fg_make_file(freq, nside)"
   ]
  },
  {
   "cell_type": "code",
   "execution_count": 3,
   "id": "6ed4fe7f-fffe-4200-bf89-550ef7b45370",
   "metadata": {},
   "outputs": [
    {
     "name": "stderr",
     "output_type": "stream",
     "text": [
      "OMP: Info #276: omp_set_nested routine deprecated, please use omp_set_max_active_levels instead.\n"
     ]
    }
   ],
   "source": [
    "import fg_make_file as fg\n",
    "Synch, Dust = fg.fg_make_file(100, 4)"
   ]
  },
  {
   "cell_type": "code",
   "execution_count": 4,
   "id": "f02d5d4e-f105-4b1d-a6cc-b4b83edf676f",
   "metadata": {},
   "outputs": [
    {
     "name": "stderr",
     "output_type": "stream",
     "text": [
      "setting the output map dtype to [dtype('float32'), dtype('float32'), dtype('float32')]\n"
     ]
    }
   ],
   "source": [
    "import healpy\n",
    "healpy.fitsfunc.write_map(\"Synch_100GHz_nside_4\", Synch)"
   ]
  },
  {
   "cell_type": "code",
   "execution_count": 19,
   "id": "e6038bbd-5bbf-4669-85c6-fe668e67c88e",
   "metadata": {},
   "outputs": [],
   "source": [
    "A = healpy.fitsfunc.read_map(\"Synch_100GHz_nside_4\", field = 2)"
   ]
  },
  {
   "cell_type": "code",
   "execution_count": 20,
   "id": "31412eb5-87b3-4945-9ae6-d6c6fc47baa0",
   "metadata": {},
   "outputs": [
    {
     "data": {
      "text/plain": [
       "(192,)"
      ]
     },
     "execution_count": 20,
     "metadata": {},
     "output_type": "execute_result"
    }
   ],
   "source": [
    "A.shape"
   ]
  },
  {
   "cell_type": "code",
   "execution_count": 21,
   "id": "71addb77-4157-4107-8c12-c130b49fdd39",
   "metadata": {},
   "outputs": [
    {
     "data": {
      "text/plain": [
       "(3, 192)"
      ]
     },
     "execution_count": 21,
     "metadata": {},
     "output_type": "execute_result"
    }
   ],
   "source": [
    "Synch.shape"
   ]
  },
  {
   "cell_type": "code",
   "execution_count": 22,
   "id": "37b16435-d139-45a9-aaad-df4437fcfb93",
   "metadata": {},
   "outputs": [
    {
     "data": {
      "text/plain": [
       "array([0., 0., 0., 0., 0., 0., 0., 0., 0., 0., 0., 0., 0., 0., 0., 0., 0.,\n",
       "       0., 0., 0., 0., 0., 0., 0., 0., 0., 0., 0., 0., 0., 0., 0., 0., 0.,\n",
       "       0., 0., 0., 0., 0., 0., 0., 0., 0., 0., 0., 0., 0., 0., 0., 0., 0.,\n",
       "       0., 0., 0., 0., 0., 0., 0., 0., 0., 0., 0., 0., 0., 0., 0., 0., 0.,\n",
       "       0., 0., 0., 0., 0., 0., 0., 0., 0., 0., 0., 0., 0., 0., 0., 0., 0.,\n",
       "       0., 0., 0., 0., 0., 0., 0., 0., 0., 0., 0., 0., 0., 0., 0., 0., 0.,\n",
       "       0., 0., 0., 0., 0., 0., 0., 0., 0., 0., 0., 0., 0., 0., 0., 0., 0.,\n",
       "       0., 0., 0., 0., 0., 0., 0., 0., 0., 0., 0., 0., 0., 0., 0., 0., 0.,\n",
       "       0., 0., 0., 0., 0., 0., 0., 0., 0., 0., 0., 0., 0., 0., 0., 0., 0.,\n",
       "       0., 0., 0., 0., 0., 0., 0., 0., 0., 0., 0., 0., 0., 0., 0., 0., 0.,\n",
       "       0., 0., 0., 0., 0., 0., 0., 0., 0., 0., 0., 0., 0., 0., 0., 0., 0.,\n",
       "       0., 0., 0., 0., 0.], dtype=float32)"
      ]
     },
     "execution_count": 22,
     "metadata": {},
     "output_type": "execute_result"
    }
   ],
   "source": [
    "A - Synch[2]"
   ]
  },
  {
   "cell_type": "code",
   "execution_count": null,
   "id": "0f119e19-7198-4584-a243-b696f02e4fdc",
   "metadata": {},
   "outputs": [],
   "source": []
  }
 ],
 "metadata": {
  "kernelspec": {
   "display_name": "Python 3 (ipykernel)",
   "language": "python",
   "name": "python3"
  },
  "language_info": {
   "codemirror_mode": {
    "name": "ipython",
    "version": 3
   },
   "file_extension": ".py",
   "mimetype": "text/x-python",
   "name": "python",
   "nbconvert_exporter": "python",
   "pygments_lexer": "ipython3",
   "version": "3.10.12"
  }
 },
 "nbformat": 4,
 "nbformat_minor": 5
}
