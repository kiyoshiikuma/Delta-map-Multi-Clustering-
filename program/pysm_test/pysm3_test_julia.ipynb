{
 "cells": [
  {
   "cell_type": "code",
   "execution_count": 26,
   "id": "cd0b5b0b-abfb-4003-8e0b-5913a6e6ef4a",
   "metadata": {},
   "outputs": [
    {
     "data": {
      "text/plain": [
       "\"Deltamap_test/map_Synch_40GHz_1\""
      ]
     },
     "execution_count": 26,
     "metadata": {},
     "output_type": "execute_result"
    }
   ],
   "source": [
    "using FITSIO\n",
    "\n",
    "filename_40GHz = \"Deltamap_test/map_CMB_140GHz\"\n",
    "filename_140GHz = \"Deltamap_test/map_Synch_40GHz_1\""
   ]
  },
  {
   "cell_type": "code",
   "execution_count": 27,
   "id": "7fe4fada-5492-47ff-ba42-ebd4e018f9f1",
   "metadata": {},
   "outputs": [],
   "source": [
    "using Healpix\n",
    "using FITSIO\n",
    "\n"
   ]
  },
  {
   "cell_type": "code",
   "execution_count": 28,
   "id": "4f64d7e1-1273-4b47-b7de-773b62511a15",
   "metadata": {},
   "outputs": [
    {
     "ename": "LoadError",
     "evalue": "UndefVarError: `clean_map` not defined",
     "output_type": "error",
     "traceback": [
      "UndefVarError: `clean_map` not defined",
      "",
      "Stacktrace:",
      " [1] top-level scope",
      "   @ In[28]:1"
     ]
    }
   ],
   "source": [
    "p = plot(clean_map, clims = (-0.25, 0.25), c = :jet)\n",
    "\n",
    "display(p)"
   ]
  },
  {
   "cell_type": "code",
   "execution_count": null,
   "id": "36582137-2a12-4345-b744-12df289c2b22",
   "metadata": {},
   "outputs": [],
   "source": []
  }
 ],
 "metadata": {
  "kernelspec": {
   "display_name": "Julia 1.9.1",
   "language": "julia",
   "name": "julia-1.9"
  },
  "language_info": {
   "file_extension": ".jl",
   "mimetype": "application/julia",
   "name": "julia",
   "version": "1.9.1"
  }
 },
 "nbformat": 4,
 "nbformat_minor": 5
}
