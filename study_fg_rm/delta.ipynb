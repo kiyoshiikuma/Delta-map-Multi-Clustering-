{
 "cells": [
  {
   "cell_type": "code",
   "execution_count": 1,
   "id": "48297a76-e213-4515-af83-b96d36589e3d",
   "metadata": {},
   "outputs": [],
   "source": [
    "import time\n",
    "import numpy as np\n",
    "import matplotlib.pyplot as plt\n",
    "import healpy as hp\n",
    "from astropy.io import fits\n",
    "import camb\n",
    "import quaternionic\n",
    "import spherical\n",
    "import scipy"
   ]
  },
  {
   "cell_type": "code",
   "execution_count": 2,
   "id": "bb8552f8-01e1-4616-b478-9ca1cfc92bbc",
   "metadata": {},
   "outputs": [],
   "source": [
    "h = 6.62660755 * 10**(-27) #ergs\n",
    "k = 1.380658 * 10**(-16) #erg/K\n",
    "c = 2.99792458 * 10**10 #cm/s\n",
    "T_c = 2.725 #K"
   ]
  },
  {
   "cell_type": "code",
   "execution_count": 3,
   "id": "7de05c52-67c1-4ec8-ace7-d44f97975ba4",
   "metadata": {},
   "outputs": [],
   "source": [
    "nside_ = 1024\n",
    "lmax_ = 3*nside_-1\n",
    "lmaxp = 2*nside_"
   ]
  },
  {
   "cell_type": "code",
   "execution_count": 4,
   "id": "1d70154c-b361-4ee9-8e28-d1df552d44ea",
   "metadata": {},
   "outputs": [],
   "source": [
    "nside=4\n",
    "npix = 12*nside**2\n",
    "lmax = 2*nside"
   ]
  },
  {
   "cell_type": "markdown",
   "id": "87cc0dd6-9e4a-4837-948b-e723ddd273ee",
   "metadata": {},
   "source": [
    "# CMB map, cl"
   ]
  },
  {
   "cell_type": "code",
   "execution_count": 5,
   "id": "a170fb95-cc3a-452f-93a2-336bf94a27b8",
   "metadata": {},
   "outputs": [
    {
     "data": {
      "text/plain": [
       "0.6395791924665553"
      ]
     },
     "execution_count": 5,
     "metadata": {},
     "output_type": "execute_result"
    }
   ],
   "source": [
    "theta_pix = np.sqrt(4*np.pi/npix)\n",
    "rad = 2.5*theta_pix #rad\n",
    "rad"
   ]
  },
  {
   "cell_type": "code",
   "execution_count": 6,
   "id": "d26fa977-790f-4169-84d4-60b5f1ee9d59",
   "metadata": {},
   "outputs": [
    {
     "data": {
      "text/plain": [
       "0.001"
      ]
     },
     "execution_count": 6,
     "metadata": {},
     "output_type": "execute_result"
    }
   ],
   "source": [
    "rs = [0.001, 0.01, 0.1, 1.0]\n",
    "#rs = np.logspace(-3,0,50)\n",
    "i_r = 0\n",
    "rs[i_r]"
   ]
  },
  {
   "cell_type": "code",
   "execution_count": 7,
   "id": "7d6df7da-3510-427b-80e7-00b4a945dc93",
   "metadata": {},
   "outputs": [],
   "source": [
    "#Set up a new set of parameters for CAMB\n",
    "pars = camb.CAMBparams()\n",
    "#rs = [0.001, 0.002, 0.003, 0.005, 0.01, 0.0005, 0.0001, 0.00001, 0.000001, 0.0]\n",
    "pars.set_cosmology(H0=70.5, ombh2=0.02267, omch2=0.1131, mnu=0.06, omk=0, tau=0.09)\n",
    "pars.set_for_lmax(2048, lens_potential_accuracy=1)\n",
    "pars.WantTensors = True\n",
    "pars.max_l_tensor = 2048\n",
    "pars.max_eta_k_tensor = 4096\n",
    "results = camb.get_transfer_functions(pars)"
   ]
  },
  {
   "cell_type": "code",
   "execution_count": 8,
   "id": "91f2f9e4-bce4-4f5c-9670-36ed4095ec7e",
   "metadata": {
    "tags": []
   },
   "outputs": [],
   "source": [
    "def CMBMAP(nside, rs):\n",
    "    c_cls = []\n",
    "    c_maps = []\n",
    "    c_maps_ = np.zeros((len(rs), 2*npix))\n",
    "    for i,r in enumerate(rs):\n",
    "        inflation_params = camb.initialpower.InitialPowerLaw()\n",
    "        inflation_params.set_params(As=2.3e-9, ns=1., r=r)\n",
    "        results.power_spectra_from_transfer(inflation_params) #warning OK here, not changing scalars\n",
    "        c_cl = results.get_total_cls(2048, CMB_unit='muK')\n",
    "        c_cls.append(c_cl)\n",
    "        np.random.seed(0)\n",
    "        ell = np.arange(c_cl.shape[0])\n",
    "        ell[0]=1\n",
    "        c_map1 = hp.synfast(c_cl.T/ell/(ell+1)*2*np.pi, nside=nside, new=True)#, fwhm=rad)#, pixwin=True)\n",
    "        c_maps.append(c_map1)\n",
    "        print(r)\n",
    "    return c_maps, c_cls"
   ]
  },
  {
   "cell_type": "code",
   "execution_count": 9,
   "id": "ff362005-24d5-4f1d-8d4e-bbcec63762aa",
   "metadata": {
    "tags": []
   },
   "outputs": [
    {
     "name": "stderr",
     "output_type": "stream",
     "text": [
      "WARNING:root:power_spectra_from_transfer with non-linear lensing does not recalculate the non-linear correction\n"
     ]
    },
    {
     "name": "stdout",
     "output_type": "stream",
     "text": [
      "0.001\n",
      "0.01\n",
      "0.1\n",
      "1.0\n"
     ]
    },
    {
     "name": "stderr",
     "output_type": "stream",
     "text": [
      "/home/tama/anaconda3/lib/python3.9/site-packages/healpy/sphtfunc.py:822: UserWarning: Sigma is 0.000000 arcmin (0.000000 rad) \n",
      "  warnings.warn(\n",
      "/home/tama/anaconda3/lib/python3.9/site-packages/healpy/sphtfunc.py:827: UserWarning: -> fwhm is 0.000000 arcmin\n",
      "  warnings.warn(\n"
     ]
    }
   ],
   "source": [
    "c_maps, c_cls = CMBMAP(nside, rs)"
   ]
  },
  {
   "cell_type": "markdown",
   "id": "054a7fdd-c18d-428c-988d-74e97b5ec4df",
   "metadata": {},
   "source": [
    "c_map_sm = hp.sphtfunc.smoothing(c_maps[i_r], fwhm=rad)"
   ]
  },
  {
   "cell_type": "markdown",
   "id": "b80e36bf-829d-4634-9093-c82e4510dd6b",
   "metadata": {},
   "source": [
    "plt.figure(figsize=(15,6))\n",
    "hp.mollview(c_map_sm[0], norm='hist', sub=(1,5,1), title='I_cmb', unit=\"uK_cmb\")\n",
    "hp.mollview(c_map_sm[1], norm='hist', sub=(1,5,2), title='Q_cmb', unit=\"uK_cmb\")\n",
    "hp.mollview(c_map_sm[2], norm='hist', sub=(1,5,3), title='U_cmb', unit=\"uK_cmb\")"
   ]
  },
  {
   "cell_type": "code",
   "execution_count": 10,
   "id": "f8b597fb-45e0-41aa-8528-772aa21cc403",
   "metadata": {},
   "outputs": [
    {
     "name": "stderr",
     "output_type": "stream",
     "text": [
      "/home/tama/anaconda3/lib/python3.9/site-packages/healpy/projaxes.py:920: MatplotlibDeprecationWarning: You are modifying the state of a globally registered colormap. This has been deprecated since 3.3 and in 3.6, you will not be able to modify a registered colormap in-place. To remove this warning, you can make a copy of the colormap first. cmap = mpl.cm.get_cmap(\"viridis\").copy()\n",
      "  newcm.set_over(newcm(1.0))\n",
      "/home/tama/anaconda3/lib/python3.9/site-packages/healpy/projaxes.py:921: MatplotlibDeprecationWarning: You are modifying the state of a globally registered colormap. This has been deprecated since 3.3 and in 3.6, you will not be able to modify a registered colormap in-place. To remove this warning, you can make a copy of the colormap first. cmap = mpl.cm.get_cmap(\"viridis\").copy()\n",
      "  newcm.set_under(bgcolor)\n",
      "/home/tama/anaconda3/lib/python3.9/site-packages/healpy/projaxes.py:922: MatplotlibDeprecationWarning: You are modifying the state of a globally registered colormap. This has been deprecated since 3.3 and in 3.6, you will not be able to modify a registered colormap in-place. To remove this warning, you can make a copy of the colormap first. cmap = mpl.cm.get_cmap(\"viridis\").copy()\n",
      "  newcm.set_bad(badcolor)\n",
      "/home/tama/anaconda3/lib/python3.9/site-packages/healpy/projaxes.py:202: MatplotlibDeprecationWarning: Passing parameters norm and vmin/vmax simultaneously is deprecated since 3.3 and will become an error two minor releases later. Please pass vmin/vmax directly to the norm when creating it.\n",
      "  aximg = self.imshow(\n"
     ]
    },
    {
     "data": {
      "image/png": "[encoded data removed]",
      "text/plain": [
       "<Figure size 1080x432 with 6 Axes>"
      ]
     },
     "metadata": {
      "needs_background": "light"
     },
     "output_type": "display_data"
    }
   ],
   "source": [
    "plt.figure(figsize=(15,6))\n",
    "hp.mollview(c_maps[i_r][0], norm='hist', sub=(1,5,1), title='I_cmb', unit=\"uK_cmb\")\n",
    "hp.mollview(c_maps[i_r][1], norm='hist', sub=(1,5,2), title='Q_cmb', unit=\"uK_cmb\")\n",
    "hp.mollview(c_maps[i_r][2], norm='hist', sub=(1,5,3), title='U_cmb', unit=\"uK_cmb\")"
   ]
  },
  {
   "cell_type": "code",
   "execution_count": 11,
   "id": "1f2f9ea9-dcae-4c7a-9043-f02998e5736a",
   "metadata": {},
   "outputs": [],
   "source": [
    "c_maps_nest = hp.pixelfunc.reorder(c_maps[i_r], inp='RING', out='NEST')"
   ]
  },
  {
   "cell_type": "code",
   "execution_count": 12,
   "id": "af41a2c0-ea7c-40f9-8d6e-e49c9c212b0b",
   "metadata": {},
   "outputs": [
    {
     "data": {
      "image/png": "[encoded data removed]",
      "text/plain": [
       "<Figure size 1080x432 with 6 Axes>"
      ]
     },
     "metadata": {
      "needs_background": "light"
     },
     "output_type": "display_data"
    }
   ],
   "source": [
    "plt.figure(figsize=(15,6))\n",
    "hp.mollview(c_maps_nest[0], norm='hist', sub=(1,5,1), title='I_cmb', unit=\"uK_cmb\", nest=True)\n",
    "hp.mollview(c_maps_nest[1], norm='hist', sub=(1,5,2), title='Q_cmb', unit=\"uK_cmb\", nest=True)\n",
    "hp.mollview(c_maps_nest[2], norm='hist', sub=(1,5,3), title='U_cmb', unit=\"uK_cmb\", nest=True)"
   ]
  },
  {
   "cell_type": "markdown",
   "id": "8718bd92-4be6-4182-bc34-c735babfde0d",
   "metadata": {},
   "source": [
    "# Cal cov"
   ]
  },
  {
   "cell_type": "code",
   "execution_count": 13,
   "id": "a297ea7e-86a2-4fe0-a56d-b8b20b8c77cc",
   "metadata": {},
   "outputs": [],
   "source": [
    "def Read_dat(shape, bit, path):\n",
    "    dt = np.dtype([(\"mat\",bit)])\n",
    "    fd = open(path, \"r\")\n",
    "    chunk = np.fromfile(fd, dtype=dt, count=1)\n",
    "    ar = chunk[0][\"mat\"].reshape(shape)\n",
    "    return ar"
   ]
  },
  {
   "cell_type": "code",
   "execution_count": 14,
   "id": "89187da2-9f20-497d-b90b-d39960708c31",
   "metadata": {},
   "outputs": [
    {
     "data": {
      "text/plain": [
       "2654208"
      ]
     },
     "execution_count": 14,
     "metadata": {},
     "output_type": "execute_result"
    }
   ],
   "source": [
    "(lmax+1)*8*(npix)**2"
   ]
  },
  {
   "cell_type": "code",
   "execution_count": 15,
   "id": "23fb5281-1fb7-4d86-91e8-04edcff203e1",
   "metadata": {},
   "outputs": [],
   "source": [
    "WXl = Read_dat((8,lmax+1,npix,npix), \"<2654208d\", '/home/tama/research/DeltaMap/CalculateXX_with_m_summed/Data/XX_m_summed_Nside4.dat')"
   ]
  },
  {
   "cell_type": "code",
   "execution_count": 16,
   "id": "10263d4d-72e7-435a-914e-9ff6d0fb76e4",
   "metadata": {},
   "outputs": [],
   "source": [
    "QQ_E = WXl[0]\n",
    "QU_E = WXl[1]\n",
    "UQ_E = WXl[2]\n",
    "UU_E = WXl[3]\n",
    "QQ_B = WXl[4]\n",
    "QU_B = WXl[5]\n",
    "UQ_B = WXl[6]\n",
    "UU_B = WXl[7]"
   ]
  },
  {
   "cell_type": "code",
   "execution_count": 17,
   "id": "24f6a42e-1232-489e-addf-55ec73e1e349",
   "metadata": {},
   "outputs": [
    {
     "data": {
      "text/plain": [
       "(9, 192, 192)"
      ]
     },
     "execution_count": 17,
     "metadata": {},
     "output_type": "execute_result"
    }
   ],
   "source": [
    "QQ_E.shape"
   ]
  },
  {
   "cell_type": "markdown",
   "id": "50eb126b-08f5-41ca-b835-7d3a2fbf582c",
   "metadata": {
    "tags": []
   },
   "source": [
    "## spherical harmonics"
   ]
  },
  {
   "cell_type": "code",
   "execution_count": 18,
   "id": "4fc03051-60fc-4ed7-9d2e-746f25b9b7a1",
   "metadata": {},
   "outputs": [],
   "source": [
    "wigner = spherical.Wigner(lmax)"
   ]
  },
  {
   "cell_type": "code",
   "execution_count": 19,
   "id": "c59b8803-2952-434d-9a26-3ac84f52d82e",
   "metadata": {},
   "outputs": [],
   "source": [
    "def Cal_sYlm(nside):\n",
    "    npix = 12*nside**2\n",
    "    lmax = 2*nside\n",
    "    Y_all = []\n",
    "    Y__all = []\n",
    "    W_all = []\n",
    "    X_all = []\n",
    "    for pix in range(npix):\n",
    "        theta, phi = hp.pixelfunc.pix2ang(nside, pix, nest=True)\n",
    "        R = quaternionic.array.from_spherical_coordinates(theta, phi)\n",
    "        wigner = spherical.Wigner(lmax)\n",
    "        Y = wigner.sYlm(2, R)\n",
    "        Y_ = wigner.sYlm(-2, R)\n",
    "        W = -1*(Y+Y_)/2\n",
    "        X = -1j*(Y-Y_)/2\n",
    "        #Y_all.append(Y)\n",
    "        #Y__all.append(Y_)\n",
    "        W_all.append(W)\n",
    "        X_all.append(X)\n",
    "    return np.array(W_all), np.array(X_all)"
   ]
  },
  {
   "cell_type": "code",
   "execution_count": 20,
   "id": "49f6d5ed-e10d-4338-83b1-e1b58d99a455",
   "metadata": {},
   "outputs": [],
   "source": [
    "Wlm,Xlm = Cal_sYlm(nside)"
   ]
  },
  {
   "cell_type": "markdown",
   "id": "b3b5c3ef-42a2-4ff7-ba5c-3a5ae5200412",
   "metadata": {
    "tags": []
   },
   "source": [
    "## cov matrix"
   ]
  },
  {
   "cell_type": "markdown",
   "id": "67db6ec6-3e38-4f5a-98bc-cf9c46acd9fe",
   "metadata": {},
   "source": [
    "def Cal_matrix(WXl_E, WXl_B, clEE, clBB):\n",
    "    lmax = 2*nside\n",
    "    wl = hp.sphtfunc.pixwin(nside, pol=True, lmax=lmax)\n",
    "    wl_P = wl[1]\n",
    "    beam = hp.sphtfunc.gauss_beam(theta_pix, pol=True, lmax=lmax)\n",
    "    beam_EE = beam[:,1]\n",
    "    beam_BB = beam[:,2]\n",
    "    matrix = np.zeros((npix,npix))\n",
    "    for i in range(npix):\n",
    "        i_nest = hp.pixelfunc.ring2nest(nside,i)\n",
    "        for j in range(npix):\n",
    "            j_nest = hp.pixelfunc.ring2nest(nside,j)\n",
    "            matrix[i_nest,j_nest] = Cal_sum_l(WXl_E[i_nest,j_nest], clEE, wl_P, beam_EE) + Cal_sum_l(WXl_B[i_nest,j_nest], clBB, wl_P, beam_BB)\n",
    "    return matrix"
   ]
  },
  {
   "cell_type": "code",
   "execution_count": 21,
   "id": "937f12c4-3ebb-4a60-82ee-df989001047c",
   "metadata": {
    "tags": []
   },
   "outputs": [],
   "source": [
    "def Cal_matrix(F1lm, F2lm, G1lm, G2lm, clEE, clBB):\n",
    "    npix = len(F1lm)\n",
    "    nside = hp.pixelfunc.npix2nside(npix)\n",
    "    lmax = 2*nside\n",
    "    wl = hp.sphtfunc.pixwin(nside, pol=True, lmax=lmax)\n",
    "    wl_P = wl[1]\n",
    "    beam = hp.sphtfunc.gauss_beam(theta_pix, pol=True, lmax=lmax)\n",
    "    beam_EE = beam[:,1]\n",
    "    beam_BB = beam[:,2]\n",
    "    matrix = np.zeros((npix,npix))*1.0j\n",
    "    for i in range(npix):\n",
    "        i_nest = hp.pixelfunc.ring2nest(nside,i)\n",
    "        for j in range(npix):\n",
    "            j_nest = hp.pixelfunc.ring2nest(nside,j)\n",
    "            comp = Cal_sum_l(F1lm, F2lm, i, j, clEE, wl_P, beam_EE) + Cal_sum_l(G1lm, G2lm, i, j, clBB, wl_P, beam_BB)\n",
    "            real = float(format(comp.real, '.13f'))\n",
    "            imag = float(format(comp.imag, '.13f'))\n",
    "            #print(real, imag)\n",
    "            matrix[i_nest,j_nest] = complex(real, imag)\n",
    "    return matrix"
   ]
  },
  {
   "cell_type": "code",
   "execution_count": 22,
   "id": "0530c3f3-154f-4934-a21a-4b6d41099941",
   "metadata": {},
   "outputs": [],
   "source": [
    "def Cal_sum_m(Flm, Glm, npix1, npix2, l):\n",
    "    Wl = []\n",
    "    for m in range(-l,l+1):\n",
    "        f = Flm[npix1][wigner.Yindex(l,m)]*(Glm[npix2][wigner.Yindex(l,m)].conjugate())\n",
    "        Wl.append(f)\n",
    "    return sum(Wl)"
   ]
  },
  {
   "cell_type": "code",
   "execution_count": 23,
   "id": "a9fb503f-6a9f-4618-bd37-f5afcba90495",
   "metadata": {},
   "outputs": [],
   "source": [
    "def Cal_sum_l(Flm, Glm, npix1, npix2, cl, wl, beam_pol):\n",
    "    mat_comp = []\n",
    "    for l in range(2,lmax+1):\n",
    "        fact = l*(l+1)/(2*np.pi)\n",
    "        Wl = Cal_sum_m(Flm, Glm, npix1, npix2, l)\n",
    "        f = wl[l]**2*beam_pol[l]**2*cl[l]/fact*Wl\n",
    "        mat_comp.append(f)\n",
    "    return sum(mat_comp)"
   ]
  },
  {
   "cell_type": "markdown",
   "id": "e36244c1-6f63-4b2c-a3ac-c7ed8f9fb31e",
   "metadata": {},
   "source": [
    "def Cal_sum_l(Wl, cl, wl, beam_pol):\n",
    "    mat_comp = []\n",
    "    for l in range(2,lmax+1):\n",
    "        fact = l*(l+1)/(2*np.pi)\n",
    "        f = wl[l]**2*beam_pol[l]**2*cl[l]/fact*Wl[l]\n",
    "        mat_comp.append(f)\n",
    "    return sum(mat_comp)"
   ]
  },
  {
   "cell_type": "code",
   "execution_count": 24,
   "id": "4d89f8e2-fc0a-43fa-8cb2-71ccbc414534",
   "metadata": {},
   "outputs": [],
   "source": [
    "def Cal_cov(Wlm, Xlm, clEE, clBB):\n",
    "    C_QQ = Cal_matrix(Wlm, Wlm, Xlm, Xlm, clEE, clBB)\n",
    "    C_QU = Cal_matrix(-Wlm, Xlm, Xlm, Wlm, clEE, clBB)\n",
    "    C_UQ = Cal_matrix(-Xlm, Wlm, Wlm, Xlm, clEE, clBB)\n",
    "    C_UU = Cal_matrix(Xlm, Xlm, Wlm, Wlm, clEE, clBB)\n",
    "    \n",
    "    C = np.zeros((2*npix,2*npix))\n",
    "    C[0:npix, 0:npix] = C_QQ\n",
    "    C[0:npix, npix:2*npix] = C_QU\n",
    "    C[npix:2*npix, 0:npix] = C_UQ\n",
    "    C[npix:2*npix, npix:2*npix] = C_UU\n",
    "    return C"
   ]
  },
  {
   "cell_type": "markdown",
   "id": "33cc0464-579c-4831-b1c6-cbd6ce11ee65",
   "metadata": {},
   "source": [
    "def Cal_cov(clEE, clBB):\n",
    "    C_QQ = Cal_matrix(QQ_E, QQ_B, clEE, clBB)\n",
    "    C_QU = Cal_matrix(QU_E, QU_B, clEE, clBB)\n",
    "    C_UQ = Cal_matrix(UQ_E, UQ_B, clEE, clBB)\n",
    "    C_UU = Cal_matrix(UU_E, UU_B, clEE, clBB)\n",
    "\n",
    "    C = np.zeros((2*npix,2*npix))\n",
    "    C[0:npix, 0:npix] = C_QQ\n",
    "    C[0:npix, npix:2*npix] = C_QU\n",
    "    C[npix:2*npix, 0:npix] = C_UQ\n",
    "    C[npix:2*npix, npix:2*npix] = C_UU\n",
    "    return C"
   ]
  },
  {
   "cell_type": "code",
   "execution_count": 25,
   "id": "bd6ce9f9-2948-4fba-a328-b2cefee97133",
   "metadata": {},
   "outputs": [],
   "source": [
    "def Cal_diag(amp):\n",
    "    theta_pix = np.sqrt(4*np.pi/npix)\n",
    "    diag = np.pi/10800*amp/theta_pix\n",
    "    return diag"
   ]
  },
  {
   "cell_type": "code",
   "execution_count": 26,
   "id": "d218ff88-557d-49f7-aa37-764ee84687f3",
   "metadata": {
    "tags": []
   },
   "outputs": [],
   "source": [
    "def Add_diag(C_,amp):\n",
    "    for i in range(2*npix):\n",
    "        diag = Cal_diag(amp)\n",
    "        C_[i,i] = C_[i,i] + diag#**2\n",
    "    return C_"
   ]
  },
  {
   "cell_type": "code",
   "execution_count": 27,
   "id": "0b4bbdba-da01-4e1a-98a2-1dd7ab162c41",
   "metadata": {},
   "outputs": [
    {
     "data": {
      "text/plain": [
       "5.171345931835051e-08"
      ]
     },
     "execution_count": 27,
     "metadata": {},
     "output_type": "execute_result"
    }
   ],
   "source": [
    "amp = 0.2\n",
    "diag = Cal_diag(amp)\n",
    "diag**2"
   ]
  },
  {
   "cell_type": "code",
   "execution_count": 28,
   "id": "1847e884-829d-47b6-b4b7-5b091951d178",
   "metadata": {
    "tags": []
   },
   "outputs": [
    {
     "name": "stderr",
     "output_type": "stream",
     "text": [
      "/tmp/ipykernel_2127619/2989455513.py:8: ComplexWarning: Casting complex values to real discards the imaginary part\n",
      "  C[0:npix, 0:npix] = C_QQ\n",
      "/tmp/ipykernel_2127619/2989455513.py:9: ComplexWarning: Casting complex values to real discards the imaginary part\n",
      "  C[0:npix, npix:2*npix] = C_QU\n",
      "/tmp/ipykernel_2127619/2989455513.py:10: ComplexWarning: Casting complex values to real discards the imaginary part\n",
      "  C[npix:2*npix, 0:npix] = C_UQ\n",
      "/tmp/ipykernel_2127619/2989455513.py:11: ComplexWarning: Casting complex values to real discards the imaginary part\n",
      "  C[npix:2*npix, npix:2*npix] = C_UU\n"
     ]
    },
    {
     "name": "stdout",
     "output_type": "stream",
     "text": [
      "0.001 49.23850893974304\n",
      "0.01 50.00109815597534\n",
      "0.1 50.090306758880615\n",
      "1.0 50.41794204711914\n"
     ]
    }
   ],
   "source": [
    "Cs = []\n",
    "for i,r in enumerate(rs):\n",
    "    t = time.time()\n",
    "    C = Cal_cov(Wlm, Xlm, c_cls[i][:,1], c_cls[i][:,2])\n",
    "    C = Add_diag(C, amp)\n",
    "    print(r,time.time()-t)\n",
    "    Cs.append(C)"
   ]
  },
  {
   "cell_type": "code",
   "execution_count": 29,
   "id": "e7d0f761-7135-474b-b21d-80907b48dfdd",
   "metadata": {},
   "outputs": [
    {
     "data": {
      "text/plain": [
       "array([[ 0.03613462, -0.00773502,  0.0005834 , ..., -0.00815524,\n",
       "        -0.0057441 ,  0.        ],\n",
       "       [-0.00773502,  0.03613462,  0.02321934, ..., -0.00420933,\n",
       "        -0.00223246,  0.        ],\n",
       "       [ 0.0005834 ,  0.02321934,  0.03613462, ..., -0.00535454,\n",
       "        -0.00420933, -0.00475413],\n",
       "       ...,\n",
       "       [-0.00815524, -0.00420933, -0.00535454, ...,  0.03613462,\n",
       "         0.02268273, -0.00462933],\n",
       "       [-0.0057441 , -0.00223246, -0.00420933, ...,  0.02268273,\n",
       "         0.03613462, -0.00504071],\n",
       "       [ 0.        ,  0.        , -0.00475413, ..., -0.00462933,\n",
       "        -0.00504071,  0.03613462]])"
      ]
     },
     "execution_count": 29,
     "metadata": {},
     "output_type": "execute_result"
    }
   ],
   "source": [
    "Cs[0]"
   ]
  },
  {
   "cell_type": "code",
   "execution_count": 30,
   "id": "5bfac14d-853c-470f-85ec-2e08c617d7eb",
   "metadata": {},
   "outputs": [
    {
     "name": "stdout",
     "output_type": "stream",
     "text": [
      "Help on module Utils:\n",
      "\n",
      "NAME\n",
      "    Utils\n",
      "\n",
      "DESCRIPTION\n",
      "    This module 'Utils' is auto-generated with f2py (version:1.20.3).\n",
      "    Functions:\n",
      "    Fortran 90/95 modules:\n",
      "      utils --- dl,pi,twopi,fourpi,rad_to_arcmin,kelvin_to_ghz,invmatrix(),invcovmatrix().\n",
      "\n",
      "DATA\n",
      "    __f2py_numpy_version__ = '1.20.3'\n",
      "    utils = <fortran object>\n",
      "\n",
      "VERSION\n",
      "    1.20.3\n",
      "\n",
      "FILE\n",
      "    /home/tama/research/delta_shadow/Utils.cpython-39-x86_64-linux-gnu.so\n",
      "\n",
      "\n"
     ]
    }
   ],
   "source": [
    "import Utils\n",
    "help(Utils)"
   ]
  },
  {
   "cell_type": "code",
   "execution_count": 31,
   "id": "7c485b40-b22a-4bca-919a-06eea25616c4",
   "metadata": {},
   "outputs": [
    {
     "data": {
      "text/plain": [
       "3.141592653589793"
      ]
     },
     "execution_count": 31,
     "metadata": {},
     "output_type": "execute_result"
    }
   ],
   "source": [
    "np.pi"
   ]
  },
  {
   "cell_type": "code",
   "execution_count": 32,
   "id": "444918ac-33d1-4dac-ab19-444c8fb63151",
   "metadata": {},
   "outputs": [
    {
     "data": {
      "text/plain": [
       "3.141592653589793"
      ]
     },
     "execution_count": 32,
     "metadata": {},
     "output_type": "execute_result"
    }
   ],
   "source": [
    "float(Utils.utils.pi)"
   ]
  },
  {
   "cell_type": "code",
   "execution_count": 33,
   "id": "cc0b6877-425e-46cf-b589-84688193271e",
   "metadata": {
    "tags": []
   },
   "outputs": [
    {
     "data": {
      "text/plain": [
       "array(3.14159265)"
      ]
     },
     "execution_count": 33,
     "metadata": {},
     "output_type": "execute_result"
    }
   ],
   "source": [
    "Utils.utils.pi"
   ]
  },
  {
   "cell_type": "code",
   "execution_count": 34,
   "id": "7e420818-47e1-4308-b5e1-57316d8bad63",
   "metadata": {},
   "outputs": [],
   "source": [
    "Cs_inv = []\n",
    "logdets = []\n",
    "for i in range(len(rs)):\n",
    "    C_inv,logdet = Utils.utils.invcovmatrix(Cs[i])\n",
    "    Cs_inv.append(C_inv)\n",
    "    logdets.append(logdet)"
   ]
  },
  {
   "cell_type": "code",
   "execution_count": 35,
   "id": "a0da8e9a-f8c8-4052-a4e1-0f741bc30e06",
   "metadata": {},
   "outputs": [
    {
     "data": {
      "text/plain": [
       "[-8672.20663996109, -8482.6944383416, -8068.78057589617, -7309.8423562211865]"
      ]
     },
     "execution_count": 35,
     "metadata": {},
     "output_type": "execute_result"
    }
   ],
   "source": [
    "logdets"
   ]
  },
  {
   "cell_type": "markdown",
   "id": "8fb54265-2ce8-4d86-960c-159cb0fbaea4",
   "metadata": {
    "tags": []
   },
   "source": [
    "### binary"
   ]
  },
  {
   "cell_type": "code",
   "execution_count": 11,
   "id": "c8d6d616-afc2-447e-a3fe-98de19f9cda8",
   "metadata": {},
   "outputs": [],
   "source": [
    "C_s = Read_dat((2*npix,2*npix), \"<147456d\", '/home/tama/research/DeltaMap/Calculate_signal_cov_matrix/Data/Nside4/fwhm2220/scalar_Nside4.dat')\n",
    "C_t = Read_dat((2*npix,2*npix), \"<147456d\", '/home/tama/research/DeltaMap/Calculate_signal_cov_matrix/Data/Nside4/fwhm2220/tensor_Nside4.dat')"
   ]
  },
  {
   "cell_type": "code",
   "execution_count": 12,
   "id": "acf15251-6d79-4925-a90b-31904b4f570f",
   "metadata": {},
   "outputs": [],
   "source": [
    "def Cal_C_r(C_s, C_t, rs, amp, f):\n",
    "    Cs = []\n",
    "    for r in rs:\n",
    "        C = C_s + r*C_t\n",
    "        C = Add_diag(C, amp)\n",
    "        Cs.append(C*f)\n",
    "    return Cs"
   ]
  },
  {
   "cell_type": "code",
   "execution_count": 13,
   "id": "77610c1a-72a0-4609-b721-ff86020453fa",
   "metadata": {
    "tags": []
   },
   "outputs": [
    {
     "data": {
      "text/plain": [
       "array([[0.01313811, 0.01147137, 0.01147137, ..., 0.00334121, 0.00310424,\n",
       "        0.002471  ],\n",
       "       [0.01147137, 0.01313811, 0.00995081, ..., 0.00398394, 0.00329284,\n",
       "        0.00309929],\n",
       "       [0.01147137, 0.00995081, 0.01313811, ..., 0.0032263 , 0.00398394,\n",
       "        0.0034994 ],\n",
       "       ...,\n",
       "       [0.00334121, 0.00398394, 0.0032263 , ..., 0.01313811, 0.00979584,\n",
       "        0.01150878],\n",
       "       [0.00310424, 0.00329284, 0.00398394, ..., 0.00979584, 0.01313811,\n",
       "        0.01150878],\n",
       "       [0.002471  , 0.00309929, 0.0034994 , ..., 0.01150878, 0.01150878,\n",
       "        0.01313811]])"
      ]
     },
     "execution_count": 13,
     "metadata": {},
     "output_type": "execute_result"
    }
   ],
   "source": [
    "Cs_ = Cal_C_r(C_s, C_t, rs, amp, 1.)\n",
    "Cs_[0]"
   ]
  },
  {
   "cell_type": "code",
   "execution_count": 19,
   "id": "da48471c-7317-4380-9aaf-bffb4ee8f232",
   "metadata": {},
   "outputs": [],
   "source": [
    "Cs_inv_ = []\n",
    "logdets_ = []\n",
    "for i in range(len(rs)):\n",
    "    C_inv,logdet = Utils.utils.invcovmatrix(Cs_[i])\n",
    "    Cs_inv_.append(C_inv)\n",
    "    logdets_.append(logdet)"
   ]
  },
  {
   "cell_type": "code",
   "execution_count": 20,
   "id": "23a2d33a-11bf-4bb1-8c53-90f777ed34c2",
   "metadata": {},
   "outputs": [
    {
     "data": {
      "text/plain": [
       "[-9361.231783195451,\n",
       " -9298.653035602978,\n",
       " -9142.352498272227,\n",
       " -8852.090440987908]"
      ]
     },
     "execution_count": 20,
     "metadata": {},
     "output_type": "execute_result"
    }
   ],
   "source": [
    "logdets_"
   ]
  },
  {
   "cell_type": "markdown",
   "id": "d5cdd59b-822a-419f-b192-202ab344df27",
   "metadata": {},
   "source": [
    "# Cal x"
   ]
  },
  {
   "cell_type": "code",
   "execution_count": 37,
   "id": "861c8e44-a533-4601-be1f-a91120fe98f6",
   "metadata": {},
   "outputs": [],
   "source": [
    "def Read_map(path):\n",
    "    hdul=fits.open(path)\n",
    "    #print(hdul[1].header)\n",
    "    d_data = hdul[1].data\n",
    "    d_I = hp.pixelfunc.reorder(d_data.field(0), inp=\"NEST\", out=\"NEST\")\n",
    "    d_Q = hp.pixelfunc.reorder(d_data.field(1), inp=\"NEST\", out=\"NEST\")\n",
    "    d_U = hp.pixelfunc.reorder(d_data.field(2), inp=\"NEST\", out=\"NEST\")\n",
    "    d_array = np.array([d_I, d_Q, d_U])\n",
    "    return hdul, d_array"
   ]
  },
  {
   "cell_type": "markdown",
   "id": "3b04a740-4b97-4a5d-a8ca-0f38afcb5c2a",
   "metadata": {},
   "source": [
    "## dust map"
   ]
  },
  {
   "cell_type": "code",
   "execution_count": 38,
   "id": "9cf9bdb3-319a-47f0-9463-f43ee5c382a7",
   "metadata": {},
   "outputs": [
    {
     "data": {
      "image/png": "[encoded data removed]",
      "text/plain": [
       "<Figure size 1080x432 with 6 Axes>"
      ]
     },
     "metadata": {
      "needs_background": "light"
     },
     "output_type": "display_data"
    }
   ],
   "source": [
    "h_40, d_40 = Read_map(\"/home/tama/research/DeltaMap/SimulateForeground/Nside4/onecomp/foreground_40GHz_Nside4.fits\")\n",
    "plt.figure(figsize=(15,6))\n",
    "hp.mollview(d_40[0], norm='hist', title='I_40', nest=True, sub=(1,5,1))\n",
    "hp.mollview(d_40[1], norm='hist', title='Q_40', nest=True, sub=(1,5,2))\n",
    "hp.mollview(d_40[2], norm='hist', title='U_40', nest=True, sub=(1,5,3))"
   ]
  },
  {
   "cell_type": "code",
   "execution_count": 39,
   "id": "fcc6885c-c92a-494b-994b-ce1b6146c8c1",
   "metadata": {},
   "outputs": [
    {
     "data": {
      "image/png": "[encoded data removed]",
      "text/plain": [
       "<Figure size 1080x432 with 6 Axes>"
      ]
     },
     "metadata": {
      "needs_background": "light"
     },
     "output_type": "display_data"
    }
   ],
   "source": [
    "h_60, d_60 = Read_map(\"/home/tama/research/DeltaMap/SimulateForeground/Nside4/onecomp/foreground_60GHz_Nside4.fits\")\n",
    "plt.figure(figsize=(15,6))\n",
    "hp.mollview(d_60[0], norm='hist', title='I_60', nest=True, sub=(1,5,1))\n",
    "hp.mollview(d_60[1], norm='hist', title='Q_60', nest=True, sub=(1,5,2))\n",
    "hp.mollview(d_60[2], norm='hist', title='U_60', nest=True, sub=(1,5,3))"
   ]
  },
  {
   "cell_type": "code",
   "execution_count": 40,
   "id": "134452eb-cc0c-411b-a87a-9e4103eaf006",
   "metadata": {},
   "outputs": [
    {
     "data": {
      "image/png": "[encoded data removed]",
      "text/plain": [
       "<Figure size 1080x432 with 6 Axes>"
      ]
     },
     "metadata": {
      "needs_background": "light"
     },
     "output_type": "display_data"
    }
   ],
   "source": [
    "h_140, d_140 = Read_map(\"/home/tama/research/DeltaMap/SimulateForeground/Nside4/onecomp/foreground_140GHz_Nside4.fits\")\n",
    "plt.figure(figsize=(15,6))\n",
    "hp.mollview(d_140[0], norm='hist', title='I_140', nest=True, sub=(1,5,1))\n",
    "hp.mollview(d_140[1], norm='hist', title='Q_140', nest=True, sub=(1,5,2))\n",
    "hp.mollview(d_140[2], norm='hist', title='U_140', nest=True, sub=(1,5,3))"
   ]
  },
  {
   "cell_type": "code",
   "execution_count": 41,
   "id": "c91cbf5d-265c-4a2b-928f-f8b99216e8e7",
   "metadata": {},
   "outputs": [
    {
     "data": {
      "image/png": "[encoded data removed]",
      "text/plain": [
       "<Figure size 1080x432 with 6 Axes>"
      ]
     },
     "metadata": {
      "needs_background": "light"
     },
     "output_type": "display_data"
    }
   ],
   "source": [
    "h_230, d_230 = Read_map(\"/home/tama/research/DeltaMap/SimulateForeground/Nside4/onecomp/foreground_230GHz_Nside4.fits\")\n",
    "plt.figure(figsize=(15,6))\n",
    "hp.mollview(d_230[0], norm='hist', title='I_230', nest=True, sub=(1,5,1))\n",
    "hp.mollview(d_230[1], norm='hist', title='Q_230', nest=True, sub=(1,5,2))\n",
    "hp.mollview(d_230[2], norm='hist', title='U_230', nest=True, sub=(1,5,3))"
   ]
  },
  {
   "cell_type": "code",
   "execution_count": 42,
   "id": "1c6f50ef-c3cd-4118-9be0-0105266fdc47",
   "metadata": {},
   "outputs": [
    {
     "data": {
      "image/png": "[encoded data removed]",
      "text/plain": [
       "<Figure size 1080x432 with 6 Axes>"
      ]
     },
     "metadata": {
      "needs_background": "light"
     },
     "output_type": "display_data"
    }
   ],
   "source": [
    "h_280, d_280 = Read_map(\"/home/tama/research/DeltaMap/SimulateForeground/Nside4/onecomp/foreground_280GHz_Nside4.fits\")\n",
    "plt.figure(figsize=(15,6))\n",
    "hp.mollview(d_280[0], norm='hist', title='I_280', nest=True, sub=(1,5,1))\n",
    "hp.mollview(d_280[1], norm='hist', title='Q_280', nest=True, sub=(1,5,2))\n",
    "hp.mollview(d_280[2], norm='hist', title='U_280', nest=True, sub=(1,5,3))"
   ]
  },
  {
   "cell_type": "code",
   "execution_count": 43,
   "id": "d84795b0-d7c8-4174-91c1-b7c948de5df3",
   "metadata": {},
   "outputs": [
    {
     "data": {
      "image/png": "[encoded data removed]",
      "text/plain": [
       "<Figure size 1080x432 with 6 Axes>"
      ]
     },
     "metadata": {
      "needs_background": "light"
     },
     "output_type": "display_data"
    }
   ],
   "source": [
    "h_340, d_340 = Read_map(\"/home/tama/research/DeltaMap/SimulateForeground/Nside4/onecomp/foreground_340GHz_Nside4.fits\")\n",
    "plt.figure(figsize=(15,6))\n",
    "hp.mollview(d_340[0], norm='hist', title='I_340', nest=True, sub=(1,5,1))\n",
    "hp.mollview(d_340[1], norm='hist', title='Q_340', nest=True, sub=(1,5,2))\n",
    "hp.mollview(d_340[2], norm='hist', title='U_340', nest=True, sub=(1,5,3))"
   ]
  },
  {
   "cell_type": "code",
   "execution_count": 60,
   "id": "6bb29a60-1aba-4c3b-a2ef-676f96579314",
   "metadata": {},
   "outputs": [],
   "source": [
    "d_maps = [d_40, d_60, d_140, d_230, d_280, d_340]"
   ]
  },
  {
   "cell_type": "code",
   "execution_count": 44,
   "id": "cead2301-bb1d-4697-bd46-eadeae1a94d5",
   "metadata": {},
   "outputs": [
    {
     "ename": "NameError",
     "evalue": "name 'd_t_low' is not defined",
     "output_type": "error",
     "traceback": [
      "\u001b[0;31m---------------------------------------------------------------------------\u001b[0m",
      "\u001b[0;31mNameError\u001b[0m                                 Traceback (most recent call last)",
      "\u001b[0;32m/tmp/ipykernel_2127619/1625246130.py\u001b[0m in \u001b[0;36m<module>\u001b[0;34m\u001b[0m\n\u001b[0;32m----> 1\u001b[0;31m \u001b[0md_t_low\u001b[0m\u001b[0;34m.\u001b[0m\u001b[0mshape\u001b[0m\u001b[0;34m\u001b[0m\u001b[0;34m\u001b[0m\u001b[0m\n\u001b[0m",
      "\u001b[0;31mNameError\u001b[0m: name 'd_t_low' is not defined"
     ]
    }
   ],
   "source": [
    "d_t_low.shape"
   ]
  },
  {
   "cell_type": "code",
   "execution_count": null,
   "id": "b84779af-41d1-4187-8b8e-da5a70be8a9e",
   "metadata": {},
   "outputs": [],
   "source": [
    "d_t_low= np.random.normal(loc=17,scale=0.1,size=d_t_low.shape)"
   ]
  },
  {
   "cell_type": "code",
   "execution_count": null,
   "id": "bb022936-d56f-4d79-ae60-3d6d62d5b83a",
   "metadata": {},
   "outputs": [],
   "source": [
    "d_beta_low= np.random.normal(loc=1.5,scale=0.1,size=d_t_low.shape)"
   ]
  },
  {
   "cell_type": "code",
   "execution_count": null,
   "id": "9acd9c91-19e7-4083-bcce-bf428d9d1aca",
   "metadata": {},
   "outputs": [],
   "source": [
    "plt.hist(d_t_low)"
   ]
  },
  {
   "cell_type": "code",
   "execution_count": null,
   "id": "6c35c621-5a6b-4e0d-9970-eeb368ab557b",
   "metadata": {},
   "outputs": [],
   "source": [
    "plt.hist(d_beta_low)"
   ]
  },
  {
   "cell_type": "code",
   "execution_count": null,
   "id": "578cfc28-d48b-4673-8971-54b6a827a862",
   "metadata": {},
   "outputs": [],
   "source": [
    "plt.figure(figsize=(15,6))\n",
    "hp.mollview(d_t_low, norm=\"hist\", sub=(1,5,2), title='Td')\n",
    "hp.mollview(d_beta_low, norm=\"hist\", sub=(1,5,3), title='beta')"
   ]
  },
  {
   "cell_type": "markdown",
   "id": "f05d2cb7-baa3-4f95-97ac-cd802abb5bfc",
   "metadata": {},
   "source": [
    "## alpha"
   ]
  },
  {
   "cell_type": "code",
   "execution_count": 45,
   "id": "dc606c48-365a-4aa5-8773-994a44b29e49",
   "metadata": {},
   "outputs": [],
   "source": [
    "nus = np.array([40., 60., 140, 230., 280., 340.])"
   ]
  },
  {
   "cell_type": "markdown",
   "id": "c7dde5c3-f5a6-4ec0-b2a3-11968397a9e6",
   "metadata": {},
   "source": [
    "def Cal_d(nu, nu_ref, beta_ave, Td_ave):\n",
    "    xc = nu/(T_c*Utils.utils.kelvin_to_ghz)\n",
    "    xc_ref = nu_ref/(T_c*Utils.utils.kelvin_to_ghz)\n",
    "    g = (nu_ref/nu)**4 * np.exp(xc_ref)/np.exp(xc) * (np.exp(xc)-1)**2/(np.exp(xc_ref)-1)**2\n",
    "    xd = nu/(Td_ave*Utils.utils.kelvin_to_ghz)\n",
    "    xd_ref = nu_ref/(Td_ave*Utils.utils.kelvin_to_ghz)\n",
    "    d = g*(nu/nu_ref)**(beta_ave+3) * (np.exp(xd_ref)-1)/(np.exp(xd)-1)\n",
    "    d_ = d * np.array([1, (xd*np.exp(xd)/(np.exp(xd)-1) - (xd_ref*np.exp(xd_ref))/(np.exp(xd_ref)-1))/Td_ave, np.log(nu/nu_ref)])\n",
    "    return g, d_"
   ]
  },
  {
   "cell_type": "markdown",
   "id": "6e89eed1-c1ad-4b47-817c-19426a7335e4",
   "metadata": {},
   "source": [
    "def Cal_d_Kcmb(nu, nu_ref, beta_ave, Td_ave):\n",
    "    xc = nu/(T_c*Utils.utils.kelvin_to_ghz)\n",
    "    #xc_ref = nu_ref/(T_c*Utils.utils.kelvin_to_ghz)\n",
    "    g = (nu_ref/nu)**4 /np.exp(xc) * (np.exp(xc)-1)**2\n",
    "    xd = nu/(Td_ave*Utils.utils.kelvin_to_ghz)\n",
    "    #xd_ref = nu_ref/(Td_ave*Utils.utils.kelvin_to_ghz)\n",
    "    d = g*(nu/nu_ref)**(beta_ave+3) /(np.exp(xd)-1)\n",
    "    d_ = d * np.array([1, (xd*np.exp(xd)/(np.exp(xd)-1)), np.log(nu/nu_ref)])\n",
    "    return g, d_"
   ]
  },
  {
   "cell_type": "code",
   "execution_count": 85,
   "id": "9e26f4d7-7ef1-419e-a7d4-d4db93d5fcba",
   "metadata": {},
   "outputs": [
    {
     "data": {
      "text/plain": [
       "56.28123535134685"
      ]
     },
     "execution_count": 85,
     "metadata": {},
     "output_type": "execute_result"
    }
   ],
   "source": [
    "1/(np.exp(1/(Utils.utils.kelvin_to_ghz*T_c))-1)"
   ]
  },
  {
   "cell_type": "code",
   "execution_count": 86,
   "id": "5cb07839-5204-4936-961e-d84b6704f730",
   "metadata": {},
   "outputs": [
    {
     "data": {
      "text/plain": [
       "398.5213286444103"
      ]
     },
     "execution_count": 86,
     "metadata": {},
     "output_type": "execute_result"
    }
   ],
   "source": [
    "1/(np.exp(1/(Td_ave*Utils.utils.kelvin_to_ghz))-1)"
   ]
  },
  {
   "cell_type": "code",
   "execution_count": 47,
   "id": "0e66f1de-8255-4354-bef7-916b021fbe57",
   "metadata": {},
   "outputs": [],
   "source": [
    "def Cal_d(nu, betas, beta_ave, Td_ave):\n",
    "    xc = nu/56.780\n",
    "    g = (np.exp(xc)-1.)**2 / (xc**2 * np.exp(xc)) * 1000.0\n",
    "    xd = nu/(Td_ave*Utils.utils.kelvin_to_ghz)\n",
    "    #xd_ref = nu_ref/(Td_ave*Utils.utils.kelvin_to_ghz)\n",
    "    dd = g * nu**beta_ave / (np.exp(xd)-1.)\n",
    "    ds = g * nu**betas\n",
    "    D = np.array([ds, ds*np.log(nu), dd, dd*(xd*np.exp(xd)/(np.exp(xd)-1.)), dd*np.log(nu)])\n",
    "    return g, D"
   ]
  },
  {
   "cell_type": "code",
   "execution_count": 48,
   "id": "9d2dd412-5a3c-449a-b519-8ee63369ca23",
   "metadata": {},
   "outputs": [],
   "source": [
    "def Cal_alpha(nus, betas, beta_ave, Td_ave):\n",
    "    gs = []\n",
    "    ds = []\n",
    "    nuc = nus[0]\n",
    "    g, dc = Cal_d(nuc, betas, beta_ave, Td_ave)\n",
    "    gs.append(g)\n",
    "    ds.append(dc)\n",
    "    A = np.zeros((len(nus[1:]), 5))\n",
    "    for i in range(len(nus)-1):\n",
    "        g, d = Cal_d(nus[i+1], betas, beta_ave, Td_ave)\n",
    "        A[:,i] = d\n",
    "        gs.append(g)\n",
    "        ds.append(d)\n",
    "    A_inv = Utils.utils.invmatrix(A)\n",
    "    alpha = -np.matmul(A_inv, dc)\n",
    "    return gs, ds, A, alpha"
   ]
  },
  {
   "cell_type": "code",
   "execution_count": 49,
   "id": "667503f4-4c80-4866-9227-6de75c8fc4dc",
   "metadata": {},
   "outputs": [],
   "source": [
    "betas = -2.9\n",
    "beta_ave = 2.85\n",
    "Td_ave = 19.15\n",
    "gs, ds, A, alpha = Cal_alpha(nus, betas, beta_ave, Td_ave)"
   ]
  },
  {
   "cell_type": "code",
   "execution_count": 50,
   "id": "122dea6c-6a3d-4604-bb2f-bb02daf188a7",
   "metadata": {},
   "outputs": [
    {
     "data": {
      "text/plain": [
       "array([ -4.972065  ,  22.76789247, -29.43548724,  17.07547065,\n",
       "        -2.32277035])"
      ]
     },
     "execution_count": 50,
     "metadata": {},
     "output_type": "execute_result"
    }
   ],
   "source": [
    "alpha"
   ]
  },
  {
   "cell_type": "code",
   "execution_count": 51,
   "id": "feec7c80-afc4-4ad5-a0ab-1bb311d507f8",
   "metadata": {},
   "outputs": [
    {
     "data": {
      "text/plain": [
       "[array([2.35457970e-02, 8.68576069e-02, 3.63700932e+08, 3.82235112e+08,\n",
       "        1.34164889e+09]),\n",
       " array([7.64547137e-03, 3.13031941e-02, 7.89873462e+08, 8.50747028e+08,\n",
       "        3.23401411e+09]),\n",
       " array([9.68437023e-04, 4.78566948e-03, 5.04384968e+09, 5.98032514e+09,\n",
       "        2.49249015e+10]),\n",
       " array([4.78492888e-04, 2.60208227e-03, 2.33301178e+10, 3.06963834e+10,\n",
       "        1.26871031e+11]),\n",
       " array([4.49435594e-04, 2.53247501e-03, 5.20491821e+10, 7.24295436e+10,\n",
       "        2.93286190e+11]),\n",
       " array([5.04113292e-04, 2.93844896e-03, 1.34884244e+11, 2.00414651e+11,\n",
       "        7.86232922e+11])]"
      ]
     },
     "execution_count": 51,
     "metadata": {},
     "output_type": "execute_result"
    }
   ],
   "source": [
    "ds"
   ]
  },
  {
   "cell_type": "code",
   "execution_count": 52,
   "id": "501b5dcc-6b9d-4f92-90a4-788e17974bf7",
   "metadata": {},
   "outputs": [
    {
     "data": {
      "text/plain": [
       "array([[7.64547137e-03, 9.68437023e-04, 4.78492888e-04, 4.49435594e-04,\n",
       "        5.04113292e-04],\n",
       "       [3.13031941e-02, 4.78566948e-03, 2.60208227e-03, 2.53247501e-03,\n",
       "        2.93844896e-03],\n",
       "       [7.89873462e+08, 5.04384968e+09, 2.33301178e+10, 5.20491821e+10,\n",
       "        1.34884244e+11],\n",
       "       [8.50747028e+08, 5.98032514e+09, 3.06963834e+10, 7.24295436e+10,\n",
       "        2.00414651e+11],\n",
       "       [3.23401411e+09, 2.49249015e+10, 1.26871031e+11, 2.93286190e+11,\n",
       "        7.86232922e+11]])"
      ]
     },
     "execution_count": 52,
     "metadata": {},
     "output_type": "execute_result"
    }
   ],
   "source": [
    "A"
   ]
  },
  {
   "cell_type": "markdown",
   "id": "d717787d-edf9-402a-8955-58c78aeb8a56",
   "metadata": {},
   "source": [
    "## noise map"
   ]
  },
  {
   "cell_type": "code",
   "execution_count": 53,
   "id": "61d616af-21d1-4e9b-b305-d10fff0067b4",
   "metadata": {},
   "outputs": [],
   "source": [
    "noise = diag*np.random.normal(loc=0.,scale=1,size=12*nside**2)\n",
    "noise_nest = hp.pixelfunc.reorder(noise, inp='RING', out='NEST')\n",
    "#noise_nest = hp.pixelfunc.ud_grade(noise_nest, nside_out=nside)"
   ]
  },
  {
   "cell_type": "code",
   "execution_count": 54,
   "id": "6376a481-ab85-47ae-9bed-580638686615",
   "metadata": {},
   "outputs": [
    {
     "data": {
      "image/png": "[encoded data removed]",
      "text/plain": [
       "<Figure size 1080x432 with 4 Axes>"
      ]
     },
     "metadata": {
      "needs_background": "light"
     },
     "output_type": "display_data"
    }
   ],
   "source": [
    "plt.figure(figsize=(15,6))\n",
    "hp.mollview(noise, norm=\"hist\", sub=(1,5,2), title='noise')\n",
    "hp.mollview(noise_nest, norm=\"hist\", sub=(1,5,3), nest=True, title='noise')"
   ]
  },
  {
   "cell_type": "code",
   "execution_count": 55,
   "id": "af3aa004-d4e7-41b1-9842-004ab34be76a",
   "metadata": {},
   "outputs": [],
   "source": [
    "noise_cl = hp.anafast(noise)"
   ]
  },
  {
   "cell_type": "code",
   "execution_count": 56,
   "id": "9e52d730-ef4d-440c-9419-df38ca4b8702",
   "metadata": {},
   "outputs": [
    {
     "data": {
      "text/plain": [
       "(2.0, 8.0)"
      ]
     },
     "execution_count": 56,
     "metadata": {},
     "output_type": "execute_result"
    },
    {
     "data": {
      "image/png": "[encoded data removed]",
      "text/plain": [
       "<Figure size 432x288 with 1 Axes>"
      ]
     },
     "metadata": {
      "needs_background": "light"
     },
     "output_type": "display_data"
    }
   ],
   "source": [
    "l = np.arange(len(c_cls[0][:,0]))\n",
    "plt.plot(l,c_cls[1][:,2], label='0.001')\n",
    "l = np.arange(len(noise_cl))\n",
    "plt.plot(l,noise_cl*l*(l+1)/(2*np.pi))\n",
    "plt.yscale(\"log\")\n",
    "plt.xlim(2,25)\n",
    "plt.xlim(2,8)"
   ]
  },
  {
   "cell_type": "markdown",
   "id": "76d758a5-ce48-443b-a71f-1fa2770e8b6a",
   "metadata": {},
   "source": [
    "## map"
   ]
  },
  {
   "cell_type": "markdown",
   "id": "379ec77e-b455-47b3-afc5-86c86803e70d",
   "metadata": {},
   "source": [
    "def Cal_D(nu, beta, Td):\n",
    "    xd = nu/(Td*Utils.utils.kelvin_to_ghz)\n",
    "    xd_ref = nu_ref/(Td*Utils.utils.kelvin_to_ghz)\n",
    "    D = (nu/nu_ref)**(beta+3) * (np.exp(xd_ref)-1)/(np.exp(xd)-1)\n",
    "    return D"
   ]
  },
  {
   "cell_type": "markdown",
   "id": "259b9367-c351-4c6d-a0f8-b48c4c663368",
   "metadata": {},
   "source": [
    "def Make_map_(g, nu, c_map, fg_ref, beta, Td):\n",
    "    maps = np.zeros(2*npix)\n",
    "    f = g*Cal_D(nu, beta, Td)*fg_ref\n",
    "    maps[:npix] = c_map[1] + f[1]\n",
    "    maps[npix:2*npix] = c_map[2] + f[2]\n",
    "    return maps"
   ]
  },
  {
   "cell_type": "code",
   "execution_count": 69,
   "id": "d369ea69-4971-4f82-a3c0-1b1145dfacfc",
   "metadata": {},
   "outputs": [],
   "source": [
    "def Make_map(g, nu, c_map, fg):\n",
    "    c_nest_Q = hp.pixelfunc.reorder(c_map[1], inp='RING', out='NEST')\n",
    "    c_nest_U = hp.pixelfunc.reorder(c_map[2], inp='RING', out='NEST')\n",
    "    maps = np.zeros(2*npix)\n",
    "    maps[:npix] = c_nest_Q + fg[1]\n",
    "    maps[npix:2*npix] = c_nest_U + fg[2]\n",
    "    return maps"
   ]
  },
  {
   "cell_type": "code",
   "execution_count": 70,
   "id": "7c0d9cd1-9630-4efa-9f28-e53bc59688e4",
   "metadata": {},
   "outputs": [],
   "source": [
    "def App_smooth(maps, rad):\n",
    "    maps_sm = np.zeros(2*npix)\n",
    "    maps_sm[:npix] = hp.sphtfunc.smoothing(maps[:npix], fwhm=rad)\n",
    "    maps_sm[npix:2*npix] = hp.sphtfunc.smoothing(maps[npix:2*npix], fwhm=rad)\n",
    "    return maps_sm"
   ]
  },
  {
   "cell_type": "code",
   "execution_count": 75,
   "id": "5f043f05-1b69-4b72-a338-7bb027acb309",
   "metadata": {},
   "outputs": [],
   "source": [
    "maps = Make_map(gs[0],nus[0], c_maps[i_r], d_maps[5])\n",
    "maps_sm = App_smooth(maps, rad)\n",
    "#maps_sm_nest = np.zeros(2*npix)\n",
    "#maps_sm_nest[:npix] = hp.pixelfunc.reorder(maps_sm[:npix], inp='RING', out='NEST')\n",
    "#maps_sm_nest[npix:2*npix] = hp.pixelfunc.reorder(maps_sm[npix:2*npix], inp='RING', out='NEST')"
   ]
  },
  {
   "cell_type": "code",
   "execution_count": 77,
   "id": "9c17b51f-926e-4f4b-8075-3bf918fcfcd2",
   "metadata": {},
   "outputs": [
    {
     "data": {
      "image/png": "[encoded data removed]",
      "text/plain": [
       "<Figure size 1080x432 with 4 Axes>"
      ]
     },
     "metadata": {
      "needs_background": "light"
     },
     "output_type": "display_data"
    }
   ],
   "source": [
    "plt.figure(figsize=(15,6))\n",
    "hp.mollview(maps_sm[:npix], norm=\"hist\", sub=(1,5,2), nest=True)#, title='Td')\n",
    "hp.mollview(maps_sm[npix:2*npix], norm=\"hist\", sub=(1,5,3), nest=True)#, title='beta')"
   ]
  },
  {
   "cell_type": "markdown",
   "id": "bd616606-e2bc-428f-ad6a-6acb07322e5f",
   "metadata": {},
   "source": [
    "def Make_map(g, nu, c_map, fg_ref, beta, Td, rad):\n",
    "    maps_nest = np.zeros(2*npix)\n",
    "    f = g*Cal_D(nu, beta, Td)*fg_ref\n",
    "    #plt.figure(figsize=(15,6))\n",
    "    #hp.mollview(f[1], norm=\"hist\", sub=(1,5,2))#, nest=True)#, title='Td')\n",
    "    #hp.mollview(f[2], norm=\"hist\", sub=(1,5,3))#, nest=True)#, title='beta')\n",
    "    #beam = hp.sphtfunc.gauss_beam(theta_pix, pol=True, lmax=lmax)\n",
    "    maps_Q = c_map[1] + f[1]\n",
    "    maps_U = c_map[2] + f[2]\n",
    "    maps_Q_sm = hp.sphtfunc.smoothing(maps_Q, fwhm=rad)\n",
    "    maps_U_sm = hp.sphtfunc.smoothing(maps_U, fwhm=rad)\n",
    "    #plt.figure(figsize=(15,6))\n",
    "    #hp.mollview(maps_Q, norm=\"hist\", sub=(1,5,2))#, nest=True)#, title='Td')\n",
    "    #hp.mollview(maps_U, norm=\"hist\", sub=(1,5,3))#, nest=True)#, title='beta')\n",
    "    maps_nest[:npix] = hp.pixelfunc.reorder(maps_Q_sm, inp='RING', out='NEST')\n",
    "    maps_nest[npix:2*npix] = hp.pixelfunc.reorder(maps_Q_sm, inp='RING', out='NEST')\n",
    "    return maps_nest"
   ]
  },
  {
   "cell_type": "code",
   "execution_count": 64,
   "id": "a1ae0e72-4580-4410-8561-9ea62e58fbbd",
   "metadata": {},
   "outputs": [
    {
     "data": {
      "text/plain": [
       "0.6399540590645875"
      ]
     },
     "execution_count": 64,
     "metadata": {},
     "output_type": "execute_result"
    }
   ],
   "source": [
    "2200/60*np.pi/180"
   ]
  },
  {
   "cell_type": "code",
   "execution_count": 65,
   "id": "bb6fe453-cb77-4ca9-85fb-fd5e5fcf2fcf",
   "metadata": {},
   "outputs": [
    {
     "data": {
      "text/plain": [
       "0.6395791924665553"
      ]
     },
     "execution_count": 65,
     "metadata": {},
     "output_type": "execute_result"
    }
   ],
   "source": [
    "rad"
   ]
  },
  {
   "cell_type": "code",
   "execution_count": 66,
   "id": "767cad85-bff2-4544-9a99-26e48c1e53de",
   "metadata": {},
   "outputs": [
    {
     "data": {
      "text/plain": [
       "2198.7113035631396"
      ]
     },
     "execution_count": 66,
     "metadata": {},
     "output_type": "execute_result"
    }
   ],
   "source": [
    "2.5*np.sqrt(4*np.pi/npix*(180/np.pi)**2)*60 #minutes"
   ]
  },
  {
   "cell_type": "markdown",
   "id": "325c3497-3d09-4c33-a882-3c9fdf88cfd4",
   "metadata": {},
   "source": [
    "maps = Make_map(gs[0],nus[0], c_maps[i_r], d_map, d_beta_low, d_t_low, rad)"
   ]
  },
  {
   "cell_type": "markdown",
   "id": "b8ab76c5-1e7d-486b-bb59-f1051efc2d89",
   "metadata": {},
   "source": [
    "plt.figure(figsize=(15,6))\n",
    "hp.mollview(maps_sm_nest[:npix], norm=\"hist\", sub=(1,5,2), nest=True)#, title='Td')\n",
    "hp.mollview(maps_sm_nest[npix:2*npix], norm=\"hist\", sub=(1,5,3), nest=True)#, title='beta')"
   ]
  },
  {
   "cell_type": "code",
   "execution_count": 68,
   "id": "a5208d4c-4d3d-4d72-aab1-78c1791e4bee",
   "metadata": {},
   "outputs": [],
   "source": [
    "def Add_noise(maps_nest, amp):\n",
    "    diag = Cal_diag(amp)\n",
    "    noise_Q = diag*np.random.normal(loc=0.,scale=1,size=12*nside**2)\n",
    "    noise_U = diag*np.random.normal(loc=0.,scale=1,size=12*nside**2)\n",
    "    noise_Q_nest = hp.pixelfunc.reorder(noise_Q, inp='RING', out='NEST')\n",
    "    noise_U_nest = hp.pixelfunc.reorder(noise_U, inp='RING', out='NEST')\n",
    "    #plt.figure(figsize=(15,6))\n",
    "    #hp.mollview(noise_Q, norm=\"hist\", sub=(1,5,2), title='noise')\n",
    "    #hp.mollview(noise_U, norm=\"hist\", sub=(1,5,3), title='noise')\n",
    "    maps_n = np.zeros(2*npix)\n",
    "    maps_n[:npix] = maps_nest[:npix] + noise_Q_nest\n",
    "    maps_n[npix:2*npix] = maps_nest[npix:2*npix] + noise_U_nest\n",
    "    return maps_n"
   ]
  },
  {
   "cell_type": "markdown",
   "id": "450930b0-87d3-4331-a3a0-5392032177fb",
   "metadata": {},
   "source": [
    "maps = np.zeros(2*npix)\n",
    "maps[:npix]=hp.pixelfunc.reorder(c_maps[i_r][1], inp='RING', out='NEST')\n",
    "maps[npix:2*npix]=hp.pixelfunc.reorder(c_maps[i_r][2], inp='RING', out='NEST')\n",
    "maps_n = Add_noise(maps, amp)"
   ]
  },
  {
   "cell_type": "code",
   "execution_count": null,
   "id": "a0634197-fac7-4524-86d0-d8475f76b927",
   "metadata": {},
   "outputs": [],
   "source": [
    "maps_n = Add_noise(maps_sm_nest, amp)"
   ]
  },
  {
   "cell_type": "code",
   "execution_count": null,
   "id": "ff610f70-41d5-4949-8944-7e54a75571a9",
   "metadata": {},
   "outputs": [],
   "source": [
    "plt.figure(figsize=(15,6))\n",
    "hp.mollview(maps_n[:npix], norm=\"hist\", sub=(1,5,2), nest=True)#, title='Td')\n",
    "hp.mollview(maps_n[npix:2*npix], norm=\"hist\", sub=(1,5,3), nest=True)#, title='beta')"
   ]
  },
  {
   "cell_type": "markdown",
   "id": "d0568497-ebf0-4879-8035-1a540a547712",
   "metadata": {},
   "source": [
    "## x"
   ]
  },
  {
   "cell_type": "markdown",
   "id": "46522259-9e3c-4544-b748-fce15d4e3c9a",
   "metadata": {},
   "source": [
    "def Cal_maps(gs, nus, c_map, fg_ref, beta, Td, rad, amp):\n",
    "    maps_j = []\n",
    "    maps_c = Make_map(gs[0], nus[0], c_map, fg_ref, beta, Td, rad)\n",
    "    maps_c_n = Add_noise(maps_c, amp)\n",
    "    maps_j.append(maps_c_n)\n",
    "    for i in range(len(nus)-1):\n",
    "        maps = Make_map(gs[i+1], nus[i+1], c_map, fg_ref, beta, Td, rad)\n",
    "        maps_n = Add_noise(maps, amp)\n",
    "        maps_j.append(maps_n)\n",
    "    return maps_j"
   ]
  },
  {
   "cell_type": "code",
   "execution_count": null,
   "id": "1788b039-d006-40eb-af7c-70ce04cbff84",
   "metadata": {},
   "outputs": [],
   "source": [
    "def Cal_maps(gs, nus, c_map, fg_ref, beta, Td, rad, amp):\n",
    "    maps_j = []\n",
    "    maps_c = Make_map(gs[0], nus[0], c_map, d_maps[0])\n",
    "    maps_c_sm = App_smooth(maps_c, rad)\n",
    "    maps_c_sm_nest = np.zeros(2*npix)\n",
    "    maps_c_sm_nest[:npix] = hp.pixelfunc.reorder(maps_c_sm[:npix], inp='RING', out='NEST')\n",
    "    maps_c_sm_nest[npix:2*npix] = hp.pixelfunc.reorder(maps_c_sm[npix:2*npix], inp='RING', out='NEST')\n",
    "    maps_c_n = Add_noise(maps_c_sm_nest, amp)\n",
    "    maps_j.append(maps_c_n)\n",
    "    for i in range(len(nus)-1):\n",
    "        maps = Make_map(gs[i+1], nus[i+1], c_map, d_maps[i+1])\n",
    "        maps_sm = App_smooth(maps, rad)\n",
    "        maps_sm_nest = np.zeros(2*npix)\n",
    "        maps_sm_nest[:npix] = hp.pixelfunc.reorder(maps_sm[:npix], inp='RING', out='NEST')\n",
    "        maps_sm_nest[npix:2*npix] = hp.pixelfunc.reorder(maps_sm[npix:2*npix], inp='RING', out='NEST')\n",
    "        maps_n = Add_noise(maps_sm_nest, amp)\n",
    "        maps_j.append(maps_n)\n",
    "    return maps_j"
   ]
  },
  {
   "cell_type": "code",
   "execution_count": null,
   "id": "9148b458-f3bf-40bd-a2bb-7f8c886bb76b",
   "metadata": {
    "tags": []
   },
   "outputs": [],
   "source": [
    "maps_j = Cal_maps(gs, nus, c_maps[i_r], d_map, d_beta_low, d_t_low, rad, amp)"
   ]
  },
  {
   "cell_type": "code",
   "execution_count": null,
   "id": "69afe1eb-276c-4f1c-8624-00df0c434c7c",
   "metadata": {},
   "outputs": [],
   "source": [
    "def Cal_x(maps_j, alpha):\n",
    "    a_maps = []\n",
    "    for i in range(len(nus)-1):\n",
    "        a_maps.append(alpha[i]*maps_j[i+1])\n",
    "    x = (maps_j[0] + np.sum(a_maps, axis=0))/(1+sum(alpha))\n",
    "    return x"
   ]
  },
  {
   "cell_type": "code",
   "execution_count": null,
   "id": "2e6a012a-12c0-477a-8f8c-ca93743edd48",
   "metadata": {},
   "outputs": [],
   "source": [
    "x = Cal_x(maps_j, alpha)"
   ]
  },
  {
   "cell_type": "markdown",
   "id": "634e9ef7-0437-41c0-b657-274b2b4282ba",
   "metadata": {},
   "source": [
    "# Estimation"
   ]
  },
  {
   "cell_type": "markdown",
   "id": "9b6923f7-05c0-4e4f-a996-64e69e6b6716",
   "metadata": {},
   "source": [
    "## likelihood"
   ]
  },
  {
   "cell_type": "code",
   "execution_count": null,
   "id": "38a54cb7-063c-4329-bc0b-9877daf4532f",
   "metadata": {},
   "outputs": [],
   "source": [
    "def Cal_lnL(x, C_inv, logdet):\n",
    "    cov = scipy.linalg.blas.dgemm(alpha=1., a=C_inv, b=x).reshape((2*npix,))\n",
    "    #cov = np.matmul(C_inv, x)\n",
    "    lnL = (np.dot(x.T,cov) + logdet)/2\n",
    "    #print((np.dot(x.T,cov)), logdet)\n",
    "    return lnL"
   ]
  },
  {
   "cell_type": "code",
   "execution_count": null,
   "id": "45ce2363-8656-44bb-ac20-69cd41fa5634",
   "metadata": {},
   "outputs": [],
   "source": [
    "def Cal_lnChisq(x, C_inv):\n",
    "    cov = scipy.linalg.blas.dgemm(alpha=1., a=C_inv, b=x).reshape((2*npix,))\n",
    "    lnL = np.dot(x.T,cov)\n",
    "    return lnL"
   ]
  },
  {
   "cell_type": "markdown",
   "id": "5ad1c740-7a99-4da9-b559-755223a32f26",
   "metadata": {},
   "source": [
    "def Cal_lnL(x, C_inv, logdet):\n",
    "    cov = np.matmul(C_inv, x)\n",
    "    lnL = (np.dot(x.T,cov) + logdet)/2\n",
    "    #print((np.dot(x.T,cov)), logdet)\n",
    "    return lnL"
   ]
  },
  {
   "cell_type": "markdown",
   "id": "920d5507-ea6e-4190-ac8f-b01fdf210b2d",
   "metadata": {},
   "source": [
    "def Cal_lnChisq(x, C_inv):\n",
    "    cov = np.matmul(C_inv, x)\n",
    "    lnL = np.dot(x.T,cov)\n",
    "    return lnL"
   ]
  },
  {
   "cell_type": "markdown",
   "id": "428c96df-28de-4fed-b4a0-4d9c940987a3",
   "metadata": {
    "tags": []
   },
   "source": [
    "## test"
   ]
  },
  {
   "cell_type": "markdown",
   "id": "eb12fcd3-0a0e-40dd-89eb-b927e602573c",
   "metadata": {
    "tags": []
   },
   "source": [
    "def C_max(rs, x, Wlm, Xlm, c_cls, diag):\n",
    "    Cs = []\n",
    "    lnLs = []\n",
    "    for i,r in enumerate(rs):\n",
    "        t = time.time()\n",
    "        C = Cal_cov(Wlm, Xlm, c_cls[i][:,1], c_cls[i][:,2])\n",
    "        C = Add_diag(C, diag)\n",
    "        lnL = Cal_lnL(x, C)\n",
    "        print(r,lnL,time.time()-t)\n",
    "        Cs.append(C)\n",
    "        lnLs.append(lnL)\n",
    "    r_max = rs[np.argmax(lnLs)]\n",
    "    return r_max, Cs, lnLs"
   ]
  },
  {
   "cell_type": "code",
   "execution_count": null,
   "id": "eb9e987a-8b46-4e89-9e93-9f77202a3174",
   "metadata": {},
   "outputs": [],
   "source": [
    "def C_max_(rs, Cs_inv, logdets, x):\n",
    "    lnLs = []\n",
    "    for i,r in enumerate(rs):\n",
    "        lnL = Cal_lnL(x, Cs_inv[i], logdets[i])\n",
    "        lnLs.append(lnL)\n",
    "    r_min = rs[np.argmin(lnLs)]\n",
    "    return r_min, lnLs"
   ]
  },
  {
   "cell_type": "markdown",
   "id": "8fba5593-68c5-4f6e-9c83-d7272560aec2",
   "metadata": {},
   "source": [
    "def C_max_(rs, Cs_inv, logdets, x):\n",
    "    lnLs = []\n",
    "    for i,r in enumerate(rs):\n",
    "        lnL = test.Utils_likelihood(Cs_inv[i], x) + logdets[i]\n",
    "        lnLs.append(lnL)\n",
    "    r_min = rs[np.argmin(lnLs)]\n",
    "    return r_min, lnLs"
   ]
  },
  {
   "cell_type": "code",
   "execution_count": null,
   "id": "49209490-5bb5-4983-a4c1-ec99379f4336",
   "metadata": {},
   "outputs": [],
   "source": [
    "rs[i_r]"
   ]
  },
  {
   "cell_type": "code",
   "execution_count": null,
   "id": "a9f60e2a-11e2-4f14-b4c2-b014daa77e63",
   "metadata": {
    "tags": []
   },
   "outputs": [],
   "source": [
    "r_min, lnLs_r = C_max_(rs, Cs_inv, logdets_, x)\n",
    "lnLs_r"
   ]
  },
  {
   "cell_type": "code",
   "execution_count": null,
   "id": "c131fea2-a767-4bf8-9a56-7e39eaba14dd",
   "metadata": {},
   "outputs": [],
   "source": [
    "r_min"
   ]
  },
  {
   "cell_type": "code",
   "execution_count": null,
   "id": "e3f26593-d02a-44e1-9367-98932710e877",
   "metadata": {},
   "outputs": [],
   "source": [
    "plt.scatter(rs, lnLs_r)\n",
    "#plt.yscale(\"log\")\n",
    "plt.ylabel(\"lnL\")\n",
    "plt.xlabel(\"r\")\n",
    "plt.xscale(\"log\")"
   ]
  },
  {
   "cell_type": "code",
   "execution_count": 204,
   "id": "6d1e340e-f0ec-4665-8927-bc7838a1dba0",
   "metadata": {},
   "outputs": [],
   "source": [
    "def x_beta_min(betas, Td_ave, C_inv, nus, nu_ref, rad, amp):\n",
    "    xs = []\n",
    "    lnChisqs = []\n",
    "    for i,beta_ave in enumerate(betas):\n",
    "        gs, ds, A, alpha = Cal_alpha(nus, betas, beta_ave, Td_ave)\n",
    "        maps_j = Cal_maps(gs, nus, c_maps[i_r], d_map, d_beta_low, d_t_low, rad, amp)\n",
    "        x = Cal_x(maps_j, alpha)\n",
    "        lnChisq = Cal_lnChisq(x, C_inv)\n",
    "        xs.append(x)\n",
    "        lnChisqs.append(lnChisq)\n",
    "    beta_min = betas[np.argmin(lnChisqs)]\n",
    "    return beta_min, xs, lnChisqs"
   ]
  },
  {
   "cell_type": "code",
   "execution_count": 205,
   "id": "2de8e0ba-0e00-4185-ab72-33fb67f76b52",
   "metadata": {
    "tags": []
   },
   "outputs": [
    {
     "ename": "TypeError",
     "evalue": "Cal_alpha() missing 1 required positional argument: 'Td_ave'",
     "output_type": "error",
     "traceback": [
      "\u001b[0;31m---------------------------------------------------------------------------\u001b[0m",
      "\u001b[0;31mTypeError\u001b[0m                                 Traceback (most recent call last)",
      "\u001b[0;32m/tmp/ipykernel_1945251/326169226.py\u001b[0m in \u001b[0;36m<module>\u001b[0;34m\u001b[0m\n\u001b[1;32m      1\u001b[0m \u001b[0mbetas\u001b[0m \u001b[0;34m=\u001b[0m \u001b[0mnp\u001b[0m\u001b[0;34m.\u001b[0m\u001b[0mlinspace\u001b[0m\u001b[0;34m(\u001b[0m\u001b[0;36m2\u001b[0m\u001b[0;34m,\u001b[0m\u001b[0;36m3\u001b[0m\u001b[0;34m,\u001b[0m\u001b[0;36m100\u001b[0m\u001b[0;34m)\u001b[0m\u001b[0;34m\u001b[0m\u001b[0;34m\u001b[0m\u001b[0m\n\u001b[0;32m----> 2\u001b[0;31m \u001b[0mbeta_min\u001b[0m\u001b[0;34m,\u001b[0m \u001b[0mxs_b\u001b[0m\u001b[0;34m,\u001b[0m \u001b[0mlnChisqs_b\u001b[0m \u001b[0;34m=\u001b[0m \u001b[0mx_beta_min\u001b[0m\u001b[0;34m(\u001b[0m\u001b[0mbetas\u001b[0m\u001b[0;34m,\u001b[0m \u001b[0mTd_ave\u001b[0m\u001b[0;34m,\u001b[0m \u001b[0mCs_inv_\u001b[0m\u001b[0;34m[\u001b[0m\u001b[0mi_r\u001b[0m\u001b[0;34m]\u001b[0m\u001b[0;34m,\u001b[0m \u001b[0mnus\u001b[0m\u001b[0;34m,\u001b[0m \u001b[0mnu_ref\u001b[0m\u001b[0;34m,\u001b[0m \u001b[0mrad\u001b[0m\u001b[0;34m,\u001b[0m \u001b[0mamp\u001b[0m\u001b[0;34m)\u001b[0m\u001b[0;34m\u001b[0m\u001b[0;34m\u001b[0m\u001b[0m\n\u001b[0m\u001b[1;32m      3\u001b[0m \u001b[0mbeta_min\u001b[0m\u001b[0;34m\u001b[0m\u001b[0;34m\u001b[0m\u001b[0m\n",
      "\u001b[0;32m/tmp/ipykernel_1945251/3123821121.py\u001b[0m in \u001b[0;36mx_beta_min\u001b[0;34m(betas, Td_ave, C_inv, nus, nu_ref, rad, amp)\u001b[0m\n\u001b[1;32m      3\u001b[0m     \u001b[0mlnChisqs\u001b[0m \u001b[0;34m=\u001b[0m \u001b[0;34m[\u001b[0m\u001b[0;34m]\u001b[0m\u001b[0;34m\u001b[0m\u001b[0;34m\u001b[0m\u001b[0m\n\u001b[1;32m      4\u001b[0m     \u001b[0;32mfor\u001b[0m \u001b[0mi\u001b[0m\u001b[0;34m,\u001b[0m\u001b[0mbeta_ave\u001b[0m \u001b[0;32min\u001b[0m \u001b[0menumerate\u001b[0m\u001b[0;34m(\u001b[0m\u001b[0mbetas\u001b[0m\u001b[0;34m)\u001b[0m\u001b[0;34m:\u001b[0m\u001b[0;34m\u001b[0m\u001b[0;34m\u001b[0m\u001b[0m\n\u001b[0;32m----> 5\u001b[0;31m         \u001b[0mgs\u001b[0m\u001b[0;34m,\u001b[0m \u001b[0mds\u001b[0m\u001b[0;34m,\u001b[0m \u001b[0mA\u001b[0m\u001b[0;34m,\u001b[0m \u001b[0malpha\u001b[0m \u001b[0;34m=\u001b[0m \u001b[0mCal_alpha\u001b[0m\u001b[0;34m(\u001b[0m\u001b[0mnus\u001b[0m\u001b[0;34m,\u001b[0m \u001b[0mnu_ref\u001b[0m\u001b[0;34m,\u001b[0m \u001b[0mbeta_ave\u001b[0m\u001b[0;34m,\u001b[0m \u001b[0mTd_ave\u001b[0m\u001b[0;34m)\u001b[0m\u001b[0;34m\u001b[0m\u001b[0;34m\u001b[0m\u001b[0m\n\u001b[0m\u001b[1;32m      6\u001b[0m         \u001b[0mmaps_j\u001b[0m \u001b[0;34m=\u001b[0m \u001b[0mCal_maps\u001b[0m\u001b[0;34m(\u001b[0m\u001b[0mgs\u001b[0m\u001b[0;34m,\u001b[0m \u001b[0mnus\u001b[0m\u001b[0;34m,\u001b[0m \u001b[0mc_maps\u001b[0m\u001b[0;34m[\u001b[0m\u001b[0mi_r\u001b[0m\u001b[0;34m]\u001b[0m\u001b[0;34m,\u001b[0m \u001b[0md_map\u001b[0m\u001b[0;34m,\u001b[0m \u001b[0md_beta_low\u001b[0m\u001b[0;34m,\u001b[0m \u001b[0md_t_low\u001b[0m\u001b[0;34m,\u001b[0m \u001b[0mrad\u001b[0m\u001b[0;34m,\u001b[0m \u001b[0mamp\u001b[0m\u001b[0;34m)\u001b[0m\u001b[0;34m\u001b[0m\u001b[0;34m\u001b[0m\u001b[0m\n\u001b[1;32m      7\u001b[0m         \u001b[0mx\u001b[0m \u001b[0;34m=\u001b[0m \u001b[0mCal_x\u001b[0m\u001b[0;34m(\u001b[0m\u001b[0mmaps_j\u001b[0m\u001b[0;34m,\u001b[0m \u001b[0malpha\u001b[0m\u001b[0;34m)\u001b[0m\u001b[0;34m\u001b[0m\u001b[0;34m\u001b[0m\u001b[0m\n",
      "\u001b[0;31mTypeError\u001b[0m: Cal_alpha() missing 1 required positional argument: 'Td_ave'"
     ]
    }
   ],
   "source": [
    "betas = np.linspace(2,3,100)\n",
    "beta_min, xs_b, lnChisqs_b = x_beta_min(betas, Td_ave, Cs_inv[i_r], nus, nu_ref, rad, amp)\n",
    "beta_min"
   ]
  },
  {
   "cell_type": "code",
   "execution_count": 162,
   "id": "31218d63-549d-4a50-9abc-336edca31fa8",
   "metadata": {},
   "outputs": [
    {
     "data": {
      "text/plain": [
       "Text(0.5, 0, 'beta')"
      ]
     },
     "execution_count": 162,
     "metadata": {},
     "output_type": "execute_result"
    },
    {
     "data": {
      "image/png": "[encoded data removed]",
      "text/plain": [
       "<Figure size 432x288 with 1 Axes>"
      ]
     },
     "metadata": {
      "needs_background": "light"
     },
     "output_type": "display_data"
    }
   ],
   "source": [
    "plt.scatter(betas, lnChisqs_b)\n",
    "plt.yscale('log')\n",
    "plt.ylabel(\"lnChisq\")\n",
    "plt.xlabel(\"beta\")"
   ]
  },
  {
   "cell_type": "code",
   "execution_count": 156,
   "id": "4ac2a24c-852c-475d-aa09-f08c4d5d817b",
   "metadata": {},
   "outputs": [],
   "source": [
    "def x_Td_min(Tds, beta_ave, C_inv, nus, nu_ref, rad, amp):\n",
    "    xs = []\n",
    "    lnChisqs = []\n",
    "    for i,Td_ave in enumerate(Tds):\n",
    "        gs, ds, A, alpha = Cal_alpha(nus, betas, beta_ave, Td_ave)\n",
    "        maps_j = Cal_maps(gs, nus, c_maps[i_r], d_map, d_beta_low, d_t_low, rad, amp)\n",
    "        x = Cal_x(maps_j, alpha)\n",
    "        lnChisq = Cal_lnChisq(x, C_inv)\n",
    "        xs.append(x)\n",
    "        lnChisqs.append(lnChisq)\n",
    "    Td_min = Tds[np.argmin(lnChisqs)]\n",
    "    return Td_min, xs, lnChisqs"
   ]
  },
  {
   "cell_type": "code",
   "execution_count": 157,
   "id": "3387b4d9-85f4-41a6-8737-78d51e3b92c2",
   "metadata": {
    "tags": []
   },
   "outputs": [
    {
     "data": {
      "text/plain": [
       "14.696969696969697"
      ]
     },
     "execution_count": 157,
     "metadata": {},
     "output_type": "execute_result"
    }
   ],
   "source": [
    "Tds = np.linspace(5,25,100)\n",
    "Td_min, xs_T, lnChisqs_T = x_Td_min(Tds, beta_ave, Cs_inv[i_r], nus, nu_ref, rad, amp)\n",
    "Td_min"
   ]
  },
  {
   "cell_type": "code",
   "execution_count": 158,
   "id": "e1b858ec-8ee9-408c-825e-9cab2ac5df34",
   "metadata": {},
   "outputs": [
    {
     "data": {
      "image/png": "[encoded data removed]",
      "text/plain": [
       "<Figure size 432x288 with 1 Axes>"
      ]
     },
     "metadata": {
      "needs_background": "light"
     },
     "output_type": "display_data"
    }
   ],
   "source": [
    "plt.scatter(Tds, lnChisqs_T)\n",
    "plt.ylabel(\"lnChisq\")\n",
    "plt.xlabel(\"Td\")\n",
    "plt.yscale(\"log\")"
   ]
  },
  {
   "cell_type": "markdown",
   "id": "3a2f27f1-15f7-4758-84f1-7df56cfa039e",
   "metadata": {
    "tags": []
   },
   "source": [
    "## Gibbs sampling"
   ]
  },
  {
   "cell_type": "code",
   "execution_count": 78,
   "id": "91f9d801-a72e-4ede-88d6-aae01089d5c2",
   "metadata": {},
   "outputs": [],
   "source": [
    "def gibbs_sampling_(ir_pri,beta_pri,Td_pri, rs,betas,Tds, niter, nus,nu_ref, Cs,logdets, rad, amp):\n",
    "    r_sample = [rs[ir_pri]]\n",
    "    beta_sample = [beta_pri]\n",
    "    Td_sample = [Td_pri]\n",
    "    C_min = Cs[ir_pri]\n",
    "    for k in range(niter):\n",
    "        print(r_sample[k], beta_sample[k], Td_sample[k])\n",
    "        #beta\n",
    "        lnChisqs = []\n",
    "        for i,beta in enumerate(betas):\n",
    "            gs, ds, A, alpha = Cal_alpha(nus, nu_ref, beta, Td_sample[k])\n",
    "            maps_j = Cal_maps(gs, nus, c_maps[i_r], d_map, d_beta_low, d_t_low, rad, amp)\n",
    "            x = Cal_x(maps_j, alpha)\n",
    "            lnChisq = Cal_lnChisq(x, C_min)\n",
    "            lnChisqs.append(lnChisq)\n",
    "        beta_min = betas[np.argmin(lnChisqs)]\n",
    "        beta_sample.append(beta_min)\n",
    "        \n",
    "        #Td\n",
    "        xs = []\n",
    "        lnChisqs = []\n",
    "        for i,Td in enumerate(Tds):\n",
    "            gs, ds, A, alpha = Cal_alpha(nus, nu_ref, beta_min, Td)\n",
    "            maps_j = Cal_maps(gs, nus, c_maps[i_r], d_map, d_beta_low, d_t_low, rad, amp)\n",
    "            x = Cal_x(maps_j, alpha)\n",
    "            lnChisq = Cal_lnChisq(x, C_min)\n",
    "            xs.append(x)\n",
    "            lnChisqs.append(lnChisq)\n",
    "        Td_min = Tds[np.argmin(lnChisqs)]\n",
    "        x_min = xs[np.argmin(lnChisqs)]\n",
    "        Td_sample.append(Td_min)\n",
    "        \n",
    "        #r\n",
    "        lnLs = []\n",
    "        for i,r in enumerate(rs):\n",
    "            lnL = Cal_lnL(x_min, Cs[i], logdets[i])\n",
    "            lnLs.append(lnL)\n",
    "        r_min = rs[np.argmin(lnLs)]\n",
    "        C_min = Cs[np.argmin(lnLs)]\n",
    "        r_sample.append(r_min)\n",
    "    return r_sample, beta_sample, Td_sample"
   ]
  },
  {
   "cell_type": "code",
   "execution_count": 79,
   "id": "fb13b747-0e4d-4948-8d8f-39ab1d4f1697",
   "metadata": {},
   "outputs": [
    {
     "data": {
      "text/plain": [
       "0.01"
      ]
     },
     "execution_count": 79,
     "metadata": {},
     "output_type": "execute_result"
    }
   ],
   "source": [
    "#i_r = 4\n",
    "rs[i_r]"
   ]
  },
  {
   "cell_type": "code",
   "execution_count": 80,
   "id": "4c7af10b-fed1-42e4-9126-f4151b032e45",
   "metadata": {
    "tags": []
   },
   "outputs": [
    {
     "name": "stdout",
     "output_type": "stream",
     "text": [
      "0.01 1.598081 19.395966\n",
      "0.1 1.8888888888888888 23.13131313131313\n",
      "0.1 1.9191919191919191 24.141414141414142\n",
      "0.1 1.676767676767677 23.13131313131313\n",
      "0.1 1.9595959595959598 20.707070707070706\n",
      "0.1 2.0 27.77777777777778\n",
      "0.1 1.9696969696969697 25.757575757575758\n",
      "0.1 1.9292929292929295 29.7979797979798\n",
      "0.1 1.7676767676767677 18.686868686868685\n",
      "0.1 1.9191919191919191 10.202020202020202\n",
      "0.1 1.97979797979798 22.727272727272727\n",
      "0.1 2.0 14.848484848484848\n",
      "0.1 2.0 20.505050505050505\n",
      "0.1 1.8585858585858586 22.727272727272727\n",
      "0.1 1.8888888888888888 28.78787878787879\n",
      "0.1 1.98989898989899 21.717171717171716\n",
      "0.1 1.7373737373737375 21.515151515151516\n",
      "0.1 1.7777777777777777 24.545454545454547\n"
     ]
    },
    {
     "ename": "KeyboardInterrupt",
     "evalue": "",
     "output_type": "error",
     "traceback": [
      "\u001b[0;31m---------------------------------------------------------------------------\u001b[0m",
      "\u001b[0;31mKeyboardInterrupt\u001b[0m                         Traceback (most recent call last)",
      "\u001b[0;32m/tmp/ipykernel_2515562/3949328620.py\u001b[0m in \u001b[0;36m<module>\u001b[0;34m\u001b[0m\n\u001b[1;32m      3\u001b[0m \u001b[0mbetas\u001b[0m \u001b[0;34m=\u001b[0m \u001b[0mnp\u001b[0m\u001b[0;34m.\u001b[0m\u001b[0mlinspace\u001b[0m\u001b[0;34m(\u001b[0m\u001b[0;36m1.\u001b[0m\u001b[0;34m,\u001b[0m\u001b[0;36m2.\u001b[0m\u001b[0;34m,\u001b[0m\u001b[0;36m100\u001b[0m\u001b[0;34m)\u001b[0m\u001b[0;34m\u001b[0m\u001b[0;34m\u001b[0m\u001b[0m\n\u001b[1;32m      4\u001b[0m \u001b[0mTds\u001b[0m \u001b[0;34m=\u001b[0m \u001b[0mnp\u001b[0m\u001b[0;34m.\u001b[0m\u001b[0mlinspace\u001b[0m\u001b[0;34m(\u001b[0m\u001b[0;36m10.\u001b[0m\u001b[0;34m,\u001b[0m\u001b[0;36m30\u001b[0m\u001b[0;34m,\u001b[0m\u001b[0;36m100\u001b[0m\u001b[0;34m)\u001b[0m\u001b[0;34m\u001b[0m\u001b[0;34m\u001b[0m\u001b[0m\n\u001b[0;32m----> 5\u001b[0;31m \u001b[0mr_sample\u001b[0m\u001b[0;34m,\u001b[0m \u001b[0mbeta_sample\u001b[0m\u001b[0;34m,\u001b[0m \u001b[0mTd_sample\u001b[0m \u001b[0;34m=\u001b[0m \u001b[0mgibbs_sampling_\u001b[0m\u001b[0;34m(\u001b[0m\u001b[0mi_r\u001b[0m\u001b[0;34m,\u001b[0m\u001b[0mbeta_ave\u001b[0m\u001b[0;34m,\u001b[0m\u001b[0mTd_ave\u001b[0m\u001b[0;34m,\u001b[0m \u001b[0mrs\u001b[0m\u001b[0;34m,\u001b[0m\u001b[0mbetas\u001b[0m\u001b[0;34m,\u001b[0m\u001b[0mTds\u001b[0m\u001b[0;34m,\u001b[0m \u001b[0mniter\u001b[0m\u001b[0;34m,\u001b[0m \u001b[0mnus\u001b[0m\u001b[0;34m,\u001b[0m\u001b[0mnu_ref\u001b[0m\u001b[0;34m,\u001b[0m \u001b[0mCs_inv\u001b[0m\u001b[0;34m,\u001b[0m\u001b[0mlogdets\u001b[0m\u001b[0;34m,\u001b[0m \u001b[0mrad\u001b[0m\u001b[0;34m,\u001b[0m \u001b[0mamp\u001b[0m\u001b[0;34m)\u001b[0m\u001b[0;34m\u001b[0m\u001b[0;34m\u001b[0m\u001b[0m\n\u001b[0m",
      "\u001b[0;32m/tmp/ipykernel_2515562/2408202840.py\u001b[0m in \u001b[0;36mgibbs_sampling_\u001b[0;34m(ir_pri, beta_pri, Td_pri, rs, betas, Tds, niter, nus, nu_ref, Cs, logdets, rad, amp)\u001b[0m\n\u001b[1;32m     22\u001b[0m         \u001b[0;32mfor\u001b[0m \u001b[0mi\u001b[0m\u001b[0;34m,\u001b[0m\u001b[0mTd\u001b[0m \u001b[0;32min\u001b[0m \u001b[0menumerate\u001b[0m\u001b[0;34m(\u001b[0m\u001b[0mTds\u001b[0m\u001b[0;34m)\u001b[0m\u001b[0;34m:\u001b[0m\u001b[0;34m\u001b[0m\u001b[0;34m\u001b[0m\u001b[0m\n\u001b[1;32m     23\u001b[0m             \u001b[0mgs\u001b[0m\u001b[0;34m,\u001b[0m \u001b[0mds\u001b[0m\u001b[0;34m,\u001b[0m \u001b[0mA\u001b[0m\u001b[0;34m,\u001b[0m \u001b[0malpha\u001b[0m \u001b[0;34m=\u001b[0m \u001b[0mCal_alpha\u001b[0m\u001b[0;34m(\u001b[0m\u001b[0mnus\u001b[0m\u001b[0;34m,\u001b[0m \u001b[0mnu_ref\u001b[0m\u001b[0;34m,\u001b[0m \u001b[0mbeta_min\u001b[0m\u001b[0;34m,\u001b[0m \u001b[0mTd\u001b[0m\u001b[0;34m)\u001b[0m\u001b[0;34m\u001b[0m\u001b[0;34m\u001b[0m\u001b[0m\n\u001b[0;32m---> 24\u001b[0;31m             \u001b[0mmaps_j\u001b[0m \u001b[0;34m=\u001b[0m \u001b[0mCal_maps\u001b[0m\u001b[0;34m(\u001b[0m\u001b[0mgs\u001b[0m\u001b[0;34m,\u001b[0m \u001b[0mnus\u001b[0m\u001b[0;34m,\u001b[0m \u001b[0mc_maps\u001b[0m\u001b[0;34m[\u001b[0m\u001b[0mi_r\u001b[0m\u001b[0;34m]\u001b[0m\u001b[0;34m,\u001b[0m \u001b[0md_map\u001b[0m\u001b[0;34m,\u001b[0m \u001b[0md_beta_low\u001b[0m\u001b[0;34m,\u001b[0m \u001b[0md_t_low\u001b[0m\u001b[0;34m,\u001b[0m \u001b[0mrad\u001b[0m\u001b[0;34m,\u001b[0m \u001b[0mamp\u001b[0m\u001b[0;34m)\u001b[0m\u001b[0;34m\u001b[0m\u001b[0;34m\u001b[0m\u001b[0m\n\u001b[0m\u001b[1;32m     25\u001b[0m             \u001b[0mx\u001b[0m \u001b[0;34m=\u001b[0m \u001b[0mCal_x\u001b[0m\u001b[0;34m(\u001b[0m\u001b[0mmaps_j\u001b[0m\u001b[0;34m,\u001b[0m \u001b[0malpha\u001b[0m\u001b[0;34m)\u001b[0m\u001b[0;34m\u001b[0m\u001b[0;34m\u001b[0m\u001b[0m\n\u001b[1;32m     26\u001b[0m             \u001b[0mlnChisq\u001b[0m \u001b[0;34m=\u001b[0m \u001b[0mCal_lnChisq\u001b[0m\u001b[0;34m(\u001b[0m\u001b[0mx\u001b[0m\u001b[0;34m,\u001b[0m \u001b[0mC_min\u001b[0m\u001b[0;34m)\u001b[0m\u001b[0;34m\u001b[0m\u001b[0;34m\u001b[0m\u001b[0m\n",
      "\u001b[0;32m/tmp/ipykernel_2515562/2621326885.py\u001b[0m in \u001b[0;36mCal_maps\u001b[0;34m(gs, nus, c_map, fg_ref, beta, Td, rad, amp)\u001b[0m\n\u001b[1;32m      2\u001b[0m     \u001b[0mmaps_j\u001b[0m \u001b[0;34m=\u001b[0m \u001b[0;34m[\u001b[0m\u001b[0;34m]\u001b[0m\u001b[0;34m\u001b[0m\u001b[0;34m\u001b[0m\u001b[0m\n\u001b[1;32m      3\u001b[0m     \u001b[0mmaps_c\u001b[0m \u001b[0;34m=\u001b[0m \u001b[0mMake_map\u001b[0m\u001b[0;34m(\u001b[0m\u001b[0mgs\u001b[0m\u001b[0;34m[\u001b[0m\u001b[0;36m0\u001b[0m\u001b[0;34m]\u001b[0m\u001b[0;34m,\u001b[0m \u001b[0mnus\u001b[0m\u001b[0;34m[\u001b[0m\u001b[0;36m0\u001b[0m\u001b[0;34m]\u001b[0m\u001b[0;34m,\u001b[0m \u001b[0mc_map\u001b[0m\u001b[0;34m,\u001b[0m \u001b[0mfg_ref\u001b[0m\u001b[0;34m,\u001b[0m \u001b[0mbeta\u001b[0m\u001b[0;34m,\u001b[0m \u001b[0mTd\u001b[0m\u001b[0;34m)\u001b[0m\u001b[0;34m\u001b[0m\u001b[0;34m\u001b[0m\u001b[0m\n\u001b[0;32m----> 4\u001b[0;31m     \u001b[0mmaps_c_sm\u001b[0m \u001b[0;34m=\u001b[0m \u001b[0mApp_smooth\u001b[0m\u001b[0;34m(\u001b[0m\u001b[0mmaps_c\u001b[0m\u001b[0;34m,\u001b[0m \u001b[0mrad\u001b[0m\u001b[0;34m)\u001b[0m\u001b[0;34m\u001b[0m\u001b[0;34m\u001b[0m\u001b[0m\n\u001b[0m\u001b[1;32m      5\u001b[0m     \u001b[0mmaps_c_sm_nest\u001b[0m \u001b[0;34m=\u001b[0m \u001b[0mnp\u001b[0m\u001b[0;34m.\u001b[0m\u001b[0mzeros\u001b[0m\u001b[0;34m(\u001b[0m\u001b[0;36m2\u001b[0m\u001b[0;34m*\u001b[0m\u001b[0mnpix\u001b[0m\u001b[0;34m)\u001b[0m\u001b[0;34m\u001b[0m\u001b[0;34m\u001b[0m\u001b[0m\n\u001b[1;32m      6\u001b[0m     \u001b[0mmaps_c_sm_nest\u001b[0m\u001b[0;34m[\u001b[0m\u001b[0;34m:\u001b[0m\u001b[0mnpix\u001b[0m\u001b[0;34m]\u001b[0m \u001b[0;34m=\u001b[0m \u001b[0mhp\u001b[0m\u001b[0;34m.\u001b[0m\u001b[0mpixelfunc\u001b[0m\u001b[0;34m.\u001b[0m\u001b[0mreorder\u001b[0m\u001b[0;34m(\u001b[0m\u001b[0mmaps_c_sm\u001b[0m\u001b[0;34m[\u001b[0m\u001b[0;34m:\u001b[0m\u001b[0mnpix\u001b[0m\u001b[0;34m]\u001b[0m\u001b[0;34m,\u001b[0m \u001b[0minp\u001b[0m\u001b[0;34m=\u001b[0m\u001b[0;34m'RING'\u001b[0m\u001b[0;34m,\u001b[0m \u001b[0mout\u001b[0m\u001b[0;34m=\u001b[0m\u001b[0;34m'NEST'\u001b[0m\u001b[0;34m)\u001b[0m\u001b[0;34m\u001b[0m\u001b[0;34m\u001b[0m\u001b[0m\n",
      "\u001b[0;32m/tmp/ipykernel_2515562/2394854775.py\u001b[0m in \u001b[0;36mApp_smooth\u001b[0;34m(maps, rad)\u001b[0m\n\u001b[1;32m      1\u001b[0m \u001b[0;32mdef\u001b[0m \u001b[0mApp_smooth\u001b[0m\u001b[0;34m(\u001b[0m\u001b[0mmaps\u001b[0m\u001b[0;34m,\u001b[0m \u001b[0mrad\u001b[0m\u001b[0;34m)\u001b[0m\u001b[0;34m:\u001b[0m\u001b[0;34m\u001b[0m\u001b[0;34m\u001b[0m\u001b[0m\n\u001b[1;32m      2\u001b[0m     \u001b[0mmaps_sm\u001b[0m \u001b[0;34m=\u001b[0m \u001b[0mnp\u001b[0m\u001b[0;34m.\u001b[0m\u001b[0mzeros\u001b[0m\u001b[0;34m(\u001b[0m\u001b[0;36m2\u001b[0m\u001b[0;34m*\u001b[0m\u001b[0mnpix\u001b[0m\u001b[0;34m)\u001b[0m\u001b[0;34m\u001b[0m\u001b[0;34m\u001b[0m\u001b[0m\n\u001b[0;32m----> 3\u001b[0;31m     \u001b[0mmaps_sm\u001b[0m\u001b[0;34m[\u001b[0m\u001b[0;34m:\u001b[0m\u001b[0mnpix\u001b[0m\u001b[0;34m]\u001b[0m \u001b[0;34m=\u001b[0m \u001b[0mhp\u001b[0m\u001b[0;34m.\u001b[0m\u001b[0msphtfunc\u001b[0m\u001b[0;34m.\u001b[0m\u001b[0msmoothing\u001b[0m\u001b[0;34m(\u001b[0m\u001b[0mmaps\u001b[0m\u001b[0;34m[\u001b[0m\u001b[0;34m:\u001b[0m\u001b[0mnpix\u001b[0m\u001b[0;34m]\u001b[0m\u001b[0;34m,\u001b[0m \u001b[0mfwhm\u001b[0m\u001b[0;34m=\u001b[0m\u001b[0mrad\u001b[0m\u001b[0;34m)\u001b[0m\u001b[0;34m\u001b[0m\u001b[0;34m\u001b[0m\u001b[0m\n\u001b[0m\u001b[1;32m      4\u001b[0m     \u001b[0mmaps_sm\u001b[0m\u001b[0;34m[\u001b[0m\u001b[0mnpix\u001b[0m\u001b[0;34m:\u001b[0m\u001b[0;36m2\u001b[0m\u001b[0;34m*\u001b[0m\u001b[0mnpix\u001b[0m\u001b[0;34m]\u001b[0m \u001b[0;34m=\u001b[0m \u001b[0mhp\u001b[0m\u001b[0;34m.\u001b[0m\u001b[0msphtfunc\u001b[0m\u001b[0;34m.\u001b[0m\u001b[0msmoothing\u001b[0m\u001b[0;34m(\u001b[0m\u001b[0mmaps\u001b[0m\u001b[0;34m[\u001b[0m\u001b[0mnpix\u001b[0m\u001b[0;34m:\u001b[0m\u001b[0;36m2\u001b[0m\u001b[0;34m*\u001b[0m\u001b[0mnpix\u001b[0m\u001b[0;34m]\u001b[0m\u001b[0;34m,\u001b[0m \u001b[0mfwhm\u001b[0m\u001b[0;34m=\u001b[0m\u001b[0mrad\u001b[0m\u001b[0;34m)\u001b[0m\u001b[0;34m\u001b[0m\u001b[0;34m\u001b[0m\u001b[0m\n\u001b[1;32m      5\u001b[0m     \u001b[0;32mreturn\u001b[0m \u001b[0mmaps_sm\u001b[0m\u001b[0;34m\u001b[0m\u001b[0;34m\u001b[0m\u001b[0m\n",
      "\u001b[0;32m~/anaconda3/lib/python3.9/site-packages/healpy/pixelfunc.py\u001b[0m in \u001b[0;36mwrapper\u001b[0;34m(map_in, *args, **kwds)\u001b[0m\n\u001b[1;32m    295\u001b[0m         \u001b[0mreturn_ma\u001b[0m \u001b[0;34m=\u001b[0m \u001b[0mis_ma\u001b[0m\u001b[0;34m(\u001b[0m\u001b[0mmap_in\u001b[0m\u001b[0;34m)\u001b[0m\u001b[0;34m\u001b[0m\u001b[0;34m\u001b[0m\u001b[0m\n\u001b[1;32m    296\u001b[0m         \u001b[0mm\u001b[0m \u001b[0;34m=\u001b[0m \u001b[0mma_to_array\u001b[0m\u001b[0;34m(\u001b[0m\u001b[0mmap_in\u001b[0m\u001b[0;34m)\u001b[0m\u001b[0;34m\u001b[0m\u001b[0;34m\u001b[0m\u001b[0m\n\u001b[0;32m--> 297\u001b[0;31m         \u001b[0mout\u001b[0m \u001b[0;34m=\u001b[0m \u001b[0mf\u001b[0m\u001b[0;34m(\u001b[0m\u001b[0mm\u001b[0m\u001b[0;34m,\u001b[0m \u001b[0;34m*\u001b[0m\u001b[0margs\u001b[0m\u001b[0;34m,\u001b[0m \u001b[0;34m**\u001b[0m\u001b[0mkwds\u001b[0m\u001b[0;34m)\u001b[0m\u001b[0;34m\u001b[0m\u001b[0;34m\u001b[0m\u001b[0m\n\u001b[0m\u001b[1;32m    298\u001b[0m         \u001b[0;32mreturn\u001b[0m \u001b[0mma\u001b[0m\u001b[0;34m(\u001b[0m\u001b[0mout\u001b[0m\u001b[0;34m)\u001b[0m \u001b[0;32mif\u001b[0m \u001b[0mreturn_ma\u001b[0m \u001b[0;32melse\u001b[0m \u001b[0mout\u001b[0m\u001b[0;34m\u001b[0m\u001b[0;34m\u001b[0m\u001b[0m\n\u001b[1;32m    299\u001b[0m \u001b[0;34m\u001b[0m\u001b[0m\n",
      "\u001b[0;32m~/anaconda3/lib/python3.9/site-packages/healpy/sphtfunc.py\u001b[0m in \u001b[0;36msmoothing\u001b[0;34m(map_in, fwhm, sigma, beam_window, pol, iter, lmax, mmax, use_weights, use_pixel_weights, datapath, verbose)\u001b[0m\n\u001b[1;32m    961\u001b[0m     \u001b[0;32mif\u001b[0m \u001b[0mpol\u001b[0m \u001b[0;32mor\u001b[0m \u001b[0mn_maps\u001b[0m \u001b[0;32min\u001b[0m \u001b[0;34m(\u001b[0m\u001b[0;36m0\u001b[0m\u001b[0;34m,\u001b[0m \u001b[0;36m1\u001b[0m\u001b[0;34m)\u001b[0m\u001b[0;34m:\u001b[0m\u001b[0;34m\u001b[0m\u001b[0;34m\u001b[0m\u001b[0m\n\u001b[1;32m    962\u001b[0m         \u001b[0;31m# Treat the maps together (1 or 3 maps)\u001b[0m\u001b[0;34m\u001b[0m\u001b[0;34m\u001b[0m\u001b[0m\n\u001b[0;32m--> 963\u001b[0;31m         alms = map2alm(\n\u001b[0m\u001b[1;32m    964\u001b[0m             \u001b[0mmap_in\u001b[0m\u001b[0;34m,\u001b[0m\u001b[0;34m\u001b[0m\u001b[0;34m\u001b[0m\u001b[0m\n\u001b[1;32m    965\u001b[0m             \u001b[0mlmax\u001b[0m\u001b[0;34m=\u001b[0m\u001b[0mlmax\u001b[0m\u001b[0;34m,\u001b[0m\u001b[0;34m\u001b[0m\u001b[0;34m\u001b[0m\u001b[0m\n",
      "\u001b[0;32m~/anaconda3/lib/python3.9/site-packages/healpy/sphtfunc.py\u001b[0m in \u001b[0;36mmap2alm\u001b[0;34m(maps, lmax, mmax, iter, pol, use_weights, datapath, gal_cut, use_pixel_weights, verbose)\u001b[0m\n\u001b[1;32m    258\u001b[0m \u001b[0;34m\u001b[0m\u001b[0m\n\u001b[1;32m    259\u001b[0m     \u001b[0;32mif\u001b[0m \u001b[0mpol\u001b[0m \u001b[0;32mor\u001b[0m \u001b[0minfo\u001b[0m \u001b[0;32min\u001b[0m \u001b[0;34m(\u001b[0m\u001b[0;36m0\u001b[0m\u001b[0;34m,\u001b[0m \u001b[0;36m1\u001b[0m\u001b[0;34m)\u001b[0m\u001b[0;34m:\u001b[0m\u001b[0;34m\u001b[0m\u001b[0;34m\u001b[0m\u001b[0m\n\u001b[0;32m--> 260\u001b[0;31m         alms = _sphtools.map2alm(\n\u001b[0m\u001b[1;32m    261\u001b[0m             \u001b[0mmaps\u001b[0m\u001b[0;34m,\u001b[0m\u001b[0;34m\u001b[0m\u001b[0;34m\u001b[0m\u001b[0m\n\u001b[1;32m    262\u001b[0m             \u001b[0mniter\u001b[0m\u001b[0;34m=\u001b[0m\u001b[0miter\u001b[0m\u001b[0;34m,\u001b[0m\u001b[0;34m\u001b[0m\u001b[0;34m\u001b[0m\u001b[0m\n",
      "\u001b[0;31mKeyboardInterrupt\u001b[0m: "
     ]
    }
   ],
   "source": [
    "#own\n",
    "niter = 100\n",
    "betas = np.linspace(1.,2.,100)\n",
    "Tds = np.linspace(10.,30,100)\n",
    "r_sample, beta_sample, Td_sample = gibbs_sampling_(i_r,beta_ave,Td_ave, rs,betas,Tds, niter, nus,nu_ref, Cs_inv,logdets, rad, amp)"
   ]
  },
  {
   "cell_type": "code",
   "execution_count": 633,
   "id": "c050c910-967a-4fa4-a6c1-ab98483bfd4d",
   "metadata": {
    "collapsed": true,
    "jupyter": {
     "outputs_hidden": true
    },
    "tags": []
   },
   "outputs": [
    {
     "name": "stdout",
     "output_type": "stream",
     "text": [
      "0.01 1.598081 19.395966\n",
      "1.0 1.5454545454545454 20.707070707070706\n",
      "1.0 1.7171717171717171 25.555555555555557\n",
      "1.0 1.7777777777777777 25.95959595959596\n",
      "1.0 1.696969696969697 29.19191919191919\n",
      "1.0 1.606060606060606 25.15151515151515\n",
      "1.0 1.6363636363636365 15.858585858585858\n",
      "1.0 1.7070707070707072 23.939393939393938\n",
      "1.0 1.7070707070707072 27.373737373737374\n",
      "1.0 1.7070707070707072 29.595959595959595\n",
      "1.0 1.696969696969697 29.19191919191919\n",
      "1.0 1.676767676767677 19.8989898989899\n",
      "1.0 1.6363636363636365 25.757575757575758\n",
      "1.0 1.6868686868686869 21.515151515151516\n",
      "1.0 1.7272727272727273 22.525252525252526\n",
      "1.0 1.7171717171717171 30.0\n",
      "1.0 1.6363636363636365 20.1010101010101\n",
      "1.0 1.6464646464646466 26.363636363636363\n",
      "1.0 1.6161616161616164 22.323232323232325\n",
      "1.0 1.6868686868686869 11.818181818181818\n",
      "1.0 1.7171717171717171 29.7979797979798\n",
      "1.0 1.6565656565656566 14.444444444444445\n",
      "1.0 1.6161616161616164 27.575757575757574\n",
      "1.0 1.5858585858585859 27.77777777777778\n",
      "1.0 1.6262626262626263 28.78787878787879\n",
      "1.0 1.5555555555555556 23.737373737373737\n",
      "1.0 1.6565656565656566 17.87878787878788\n",
      "1.0 1.6666666666666667 29.7979797979798\n",
      "1.0 1.6262626262626263 25.353535353535353\n",
      "1.0 1.6363636363636365 26.96969696969697\n",
      "1.0 1.7171717171717171 28.18181818181818\n",
      "1.0 1.6565656565656566 26.161616161616163\n",
      "1.0 1.7474747474747474 28.78787878787879\n",
      "1.0 1.6666666666666667 23.737373737373737\n",
      "1.0 1.696969696969697 14.444444444444445\n",
      "1.0 1.6565656565656566 28.585858585858585\n",
      "1.0 1.7676767676767677 30.0\n",
      "1.0 1.6565656565656566 29.19191919191919\n",
      "1.0 1.6565656565656566 27.77777777777778\n",
      "1.0 1.6363636363636365 27.575757575757574\n",
      "1.0 1.6666666666666667 14.040404040404042\n",
      "1.0 1.5757575757575757 28.383838383838384\n",
      "1.0 1.7373737373737375 28.585858585858585\n",
      "1.0 1.6262626262626263 27.373737373737374\n",
      "1.0 1.5454545454545454 21.919191919191917\n",
      "1.0 1.5858585858585859 18.080808080808083\n",
      "1.0 1.7070707070707072 25.15151515151515\n",
      "1.0 1.7171717171717171 28.18181818181818\n",
      "1.0 1.5454545454545454 25.555555555555557\n",
      "1.0 1.606060606060606 23.13131313131313\n",
      "1.0 1.6464646464646466 27.373737373737374\n",
      "1.0 1.5656565656565657 24.343434343434343\n",
      "1.0 1.7171717171717171 20.1010101010101\n",
      "1.0 1.6464646464646466 26.363636363636363\n",
      "1.0 1.6363636363636365 27.575757575757574\n",
      "1.0 1.6363636363636365 24.343434343434343\n",
      "1.0 1.676767676767677 28.585858585858585\n",
      "1.0 1.7272727272727273 25.15151515151515\n",
      "1.0 1.7575757575757578 26.96969696969697\n",
      "1.0 1.6666666666666667 26.363636363636363\n",
      "1.0 1.6464646464646466 29.19191919191919\n",
      "1.0 1.6666666666666667 29.393939393939394\n",
      "1.0 1.5858585858585859 28.78787878787879\n",
      "1.0 1.6565656565656566 26.767676767676768\n",
      "1.0 1.676767676767677 27.97979797979798\n",
      "1.0 1.6666666666666667 22.525252525252526\n",
      "1.0 1.7171717171717171 26.767676767676768\n",
      "1.0 1.6262626262626263 27.575757575757574\n",
      "1.0 1.5757575757575757 25.555555555555557\n",
      "1.0 1.474747474747475 12.626262626262626\n",
      "1.0 1.6565656565656566 25.757575757575758\n",
      "1.0 1.6565656565656566 23.737373737373737\n",
      "1.0 1.7070707070707072 23.939393939393938\n",
      "1.0 1.595959595959596 28.98989898989899\n",
      "1.0 1.5353535353535355 30.0\n",
      "1.0 1.7373737373737375 25.353535353535353\n",
      "1.0 1.7474747474747474 18.080808080808083\n",
      "1.0 1.6666666666666667 27.77777777777778\n",
      "1.0 1.6464646464646466 29.7979797979798\n",
      "1.0 1.696969696969697 28.383838383838384\n",
      "1.0 1.5858585858585859 26.767676767676768\n",
      "1.0 1.6565656565656566 13.636363636363637\n",
      "1.0 1.6262626262626263 12.626262626262626\n",
      "1.0 1.6868686868686869 29.7979797979798\n",
      "1.0 1.6363636363636365 26.161616161616163\n",
      "1.0 1.5353535353535355 29.19191919191919\n",
      "1.0 1.676767676767677 28.78787878787879\n",
      "1.0 1.5454545454545454 25.95959595959596\n",
      "1.0 1.7070707070707072 27.77777777777778\n",
      "1.0 1.6262626262626263 25.15151515151515\n",
      "1.0 1.7070707070707072 26.363636363636363\n",
      "1.0 1.6868686868686869 21.717171717171716\n",
      "1.0 1.5353535353535355 29.393939393939394\n",
      "1.0 1.6363636363636365 29.19191919191919\n",
      "1.0 1.6868686868686869 11.818181818181818\n",
      "1.0 1.6565656565656566 26.363636363636363\n",
      "1.0 1.676767676767677 26.363636363636363\n",
      "1.0 1.6868686868686869 13.838383838383837\n",
      "1.0 1.5656565656565657 27.97979797979798\n",
      "1.0 1.5454545454545454 18.080808080808083\n"
     ]
    }
   ],
   "source": [
    "#binary\n",
    "niter = 100\n",
    "betas = np.linspace(1.,2.,100)\n",
    "Tds = np.linspace(10.,30,100)\n",
    "r_sample, beta_sample, Td_sample = gibbs_sampling_(i_r,beta_ave,Td_ave, rs,betas,Tds, niter, nus,nu_ref, Cs_inv_,logdets_, rad, amp)"
   ]
  },
  {
   "cell_type": "code",
   "execution_count": 128,
   "id": "0ca2ddd2-af48-4cc4-bf5f-7e4f12647034",
   "metadata": {},
   "outputs": [
    {
     "name": "stdout",
     "output_type": "stream",
     "text": [
      "0.127 1.6723232323232322 20.682828282828282\n"
     ]
    }
   ],
   "source": [
    "r_est = np.mean(r_sample[1:])\n",
    "beta_est = np.mean(beta_sample[1:])\n",
    "Td_est = np.mean(Td_sample[1:])\n",
    "print(r_est, beta_est, Td_est)"
   ]
  },
  {
   "cell_type": "code",
   "execution_count": 129,
   "id": "b229f456-26fa-4cbb-9f40-933d402fba3f",
   "metadata": {
    "tags": []
   },
   "outputs": [
    {
     "data": {
      "text/plain": [
       "Text(0.5, 1.0, 'Td')"
      ]
     },
     "execution_count": 129,
     "metadata": {},
     "output_type": "execute_result"
    },
    {
     "data": {
      "image/png": "[encoded data removed]",
      "text/plain": [
       "<Figure size 1152x216 with 3 Axes>"
      ]
     },
     "metadata": {
      "needs_background": "light"
     },
     "output_type": "display_data"
    }
   ],
   "source": [
    "bins = 30\n",
    "fig = plt.figure(figsize=(16,3))\n",
    "ax1 = fig.add_subplot(1,3,1)\n",
    "ax1.hist(r_sample[1:], bins=bins)\n",
    "ax1.set_title('r')\n",
    "ax2 = fig.add_subplot(1,3,2)\n",
    "ax2.hist(beta_sample[1:], bins=bins)\n",
    "ax2.set_title('beta')\n",
    "ax3 = fig.add_subplot(1,3,3)\n",
    "ax3.hist(Td_sample[1:], bins=bins)\n",
    "ax3.set_title('Td')\n",
    "#ax3.xlim(10,29)"
   ]
  },
  {
   "cell_type": "code",
   "execution_count": 130,
   "id": "d78eb5ea-c91b-494d-a053-cd36b45486ef",
   "metadata": {
    "tags": []
   },
   "outputs": [
    {
     "data": {
      "text/plain": [
       "Text(0.5, 1.0, 'Td')"
      ]
     },
     "execution_count": 130,
     "metadata": {},
     "output_type": "execute_result"
    },
    {
     "data": {
      "image/png": "[encoded data removed]",
      "text/plain": [
       "<Figure size 1152x216 with 3 Axes>"
      ]
     },
     "metadata": {
      "needs_background": "light"
     },
     "output_type": "display_data"
    }
   ],
   "source": [
    "#bins = 10\n",
    "i = np.arange(0,101)\n",
    "fig = plt.figure(figsize=(16,3))\n",
    "ax1 = fig.add_subplot(1,3,1)\n",
    "ax1.plot(i,r_sample[0:])#, bins=bins)\n",
    "ax1.set_title('r')\n",
    "ax2 = fig.add_subplot(1,3,2)\n",
    "ax2.plot(i,beta_sample[0:])#, bins=bins)\n",
    "ax2.set_title('beta')\n",
    "ax3 = fig.add_subplot(1,3,3)\n",
    "ax3.plot(i,Td_sample[0:])#, bins=bins)\n",
    "ax3.set_title('Td')\n",
    "#ax3.xlim(10,29)"
   ]
  },
  {
   "cell_type": "code",
   "execution_count": null,
   "id": "fbcdb3b1-bf2d-4e60-b32f-074b7f5079b6",
   "metadata": {},
   "outputs": [],
   "source": []
  },
  {
   "cell_type": "code",
   "execution_count": null,
   "id": "a19dc716-9b37-4b00-b5a6-9df9d03e9d19",
   "metadata": {},
   "outputs": [],
   "source": []
  }
 ],
 "metadata": {
  "kernelspec": {
   "display_name": "Python 3 (ipykernel)",
   "language": "python",
   "name": "python3"
  },
  "language_info": {
   "codemirror_mode": {
    "name": "ipython",
    "version": 3
   },
   "file_extension": ".py",
   "mimetype": "text/x-python",
   "name": "python",
   "nbconvert_exporter": "python",
   "pygments_lexer": "ipython3",
   "version": "3.9.7"
  },
  "toc-autonumbering": true,
  "toc-showcode": false,
  "toc-showmarkdowntxt": false
 },
 "nbformat": 4,
 "nbformat_minor": 5
}
