{
 "cells": [
  {
   "cell_type": "code",
   "execution_count": 71,
   "id": "bd606d00-8802-4f8b-bd8f-ca596c4c2d93",
   "metadata": {},
   "outputs": [
    {
     "ename": "ModuleNotFoundError",
     "evalue": "No module named 'make_data_model'",
     "output_type": "error",
     "traceback": [
      "\u001b[0;31m---------------------------------------------------------------------------\u001b[0m",
      "\u001b[0;31mModuleNotFoundError\u001b[0m                       Traceback (most recent call last)",
      "Cell \u001b[0;32mIn[71], line 3\u001b[0m\n\u001b[1;32m      1\u001b[0m \u001b[38;5;28;01mimport\u001b[39;00m \u001b[38;5;21;01mfg_make_file\u001b[39;00m \u001b[38;5;28;01mas\u001b[39;00m \u001b[38;5;21;01mfg\u001b[39;00m\n\u001b[1;32m      2\u001b[0m \u001b[38;5;28;01mimport\u001b[39;00m \u001b[38;5;21;01mcmb_make_file\u001b[39;00m \u001b[38;5;28;01mas\u001b[39;00m \u001b[38;5;21;01mcmb\u001b[39;00m\n\u001b[0;32m----> 3\u001b[0m \u001b[38;5;28;01mimport\u001b[39;00m \u001b[38;5;21;01mmake_data_model\u001b[39;00m \u001b[38;5;28;01mas\u001b[39;00m \u001b[38;5;21;01mmake_m\u001b[39;00m\n\u001b[1;32m      4\u001b[0m \u001b[38;5;28;01mimport\u001b[39;00m \u001b[38;5;21;01mnumpy\u001b[39;00m \u001b[38;5;28;01mas\u001b[39;00m \u001b[38;5;21;01mnp\u001b[39;00m\n\u001b[1;32m      5\u001b[0m \u001b[38;5;28;01mimport\u001b[39;00m \u001b[38;5;21;01mhealpy\u001b[39;00m \u001b[38;5;28;01mas\u001b[39;00m \u001b[38;5;21;01mhp\u001b[39;00m\n",
      "\u001b[0;31mModuleNotFoundError\u001b[0m: No module named 'make_data_model'"
     ]
    }
   ],
   "source": [
    "import fg_make_file as fg\n",
    "import cmb_make_file as cmb\n",
    "import make_data_model as make_m\n",
    "import numpy as np\n",
    "import healpy as hp\n",
    "import warnings\n",
    "warnings.filterwarnings(\"ignore\")"
   ]
  },
  {
   "cell_type": "code",
   "execution_count": 65,
   "id": "1220b348-f685-406d-a04f-c553effb1104",
   "metadata": {},
   "outputs": [
    {
     "name": "stdout",
     "output_type": "stream",
     "text": [
      " WARNING: nu_mass_degeneracies ignored when share_delta_neff\n",
      " WARNING: nu_mass_degeneracies ignored when share_delta_neff\n",
      " WARNING: nu_mass_degeneracies ignored when share_delta_neff\n",
      " WARNING: nu_mass_degeneracies ignored when share_delta_neff\n",
      " WARNING: nu_mass_degeneracies ignored when share_delta_neff\n",
      " WARNING: nu_mass_degeneracies ignored when share_delta_neff\n",
      " WARNING: nu_mass_degeneracies ignored when share_delta_neff\n",
      " WARNING: nu_mass_degeneracies ignored when share_delta_neff\n"
     ]
    }
   ],
   "source": [
    "random_seed_cmb = 5123\n",
    "seed_syn = 12345\n",
    "nside = 2**2\n",
    "\n",
    "r_elements = [1, 0.1, 0.01, 0.001, 0.0001, 0.00001, 0.000001, 0.]\n",
    "r_elements_name = [\"1\", \"01\", \"001\", \"0001\", \"00001\", \"000001\", \"0000001\", \"0\"]\n",
    "\n",
    "# rturn CMB (r = i)\n",
    "# name : cmb_r_i\n",
    "for j, i in enumerate(r_elements):\n",
    "    variable_name = f'cmb_r_{r_elements_name[j].replace(\".\", \"_\")}'\n",
    "    locals()[variable_name] = cmb.cmb_make_file(nside, i, random_seed_cmb, seed_syn)"
   ]
  },
  {
   "cell_type": "code",
   "execution_count": 66,
   "id": "6bdd9f1f-ca8d-41ee-9b68-768ab50cad1a",
   "metadata": {},
   "outputs": [],
   "source": [
    "#f_elements = [40, 50, 100, 140, 280, 402]\n",
    "\n",
    "f_elements = [40, 100, 140]\n",
    "\n",
    "for k in f_elements:\n",
    "    synch = f'synch_{str(k).replace(\".\", \"_\")}'\n",
    "    locals()[synch] = fg.fg_make_file(k, nside)[0]\n",
    "\n",
    "    dust = f'dust_{str(k).replace(\".\", \"_\")}'\n",
    "    locals()[dust] = fg.fg_make_file(k, nside)[1]"
   ]
  },
  {
   "cell_type": "code",
   "execution_count": 67,
   "id": "3b746074-c868-4e8c-a43b-b7b9cb75dd82",
   "metadata": {},
   "outputs": [],
   "source": [
    "# which_model = \"s1\", \"d1\", or \"s1 and d1\"\n",
    "\n",
    "def make_data_m(cmb, freq_band, which_model, nside):\n",
    "\n",
    "    band = int(len(freq_band))\n",
    "\n",
    "    N_pix = hp.nside2npix(nside)\n",
    "\n",
    "    data_m = np.zeros(int(2*N_pix*band))\n",
    "\n",
    "    if which_model == \"s1\":\n",
    "        \n",
    "        for ii, freq in enumerate(freq_band):\n",
    "\n",
    "            # data m[I, Q, U]\n",
    "            m = fg.fg_make_file(freq, nside)[0] + cmb\n",
    "            \n",
    "            data_m[int((2*ii)*N_pix) : int((2*ii+1)*N_pix)] = m[1]\n",
    "            data_m[int((2*ii+1)*N_pix) : int(((2*ii+2))*N_pix)] = m[2]\n",
    "            \n",
    "    elif which_model == \"d1\":\n",
    "\n",
    "        for ii in freq_band:\n",
    "\n",
    "            # data m[I, Q, U]\n",
    "            m = fg.fg_make_file(freq, nside)[1] + cmb\n",
    "\n",
    "            data_m[int((2*ii)*N_pix) : int((2*ii+1)*N_pix)] = m[1]\n",
    "            data_m[int((2*ii+1)*N_pix) : int(((2*ii+2))*N_pix)] = m[2]     \n",
    "\n",
    "    elif which_model == \"d1 and s1\":\n",
    "\n",
    "        for ii in freq_band:\n",
    "\n",
    "            # data m[I, Q, U]\n",
    "            m = fg.fg_make_file(freq, nside)[0] + fg.fg_make_file(k, nside)[1] + cmb\n",
    "\n",
    "            data_m[int((2*ii)*N_pix) : int((2*ii+1)*N_pix)] = m[1]\n",
    "            data_m[int((2*ii+1)*N_pix) : int(((2*ii+2))*N_pix)] = m[2]\n",
    "\n",
    "    return data_m"
   ]
  },
  {
   "cell_type": "code",
   "execution_count": 68,
   "id": "a1cbd950-ab91-433c-af74-c97be674cb73",
   "metadata": {},
   "outputs": [
    {
     "name": "stdout",
     "output_type": "stream",
     "text": [
      "0\n",
      "192\n",
      "193\n",
      "384\n",
      "384\n",
      "576\n",
      "577\n",
      "768\n",
      "768\n",
      "960\n",
      "961\n",
      "1152\n"
     ]
    }
   ],
   "source": [
    "# which_model = \"s1\", \"d1\", or \"s1 and d1\"\n",
    "f_elements = [40, 100, 140]\n",
    "\n",
    "#return m_[Q, U]\n",
    "data_m = make_data_m(cmb_r_0, f_elements, \"s1\", nside)"
   ]
  },
  {
   "cell_type": "code",
   "execution_count": 69,
   "id": "068f5e0b-7ec3-477f-b144-80bdf1d922d1",
   "metadata": {},
   "outputs": [
    {
     "data": {
      "text/plain": [
       "array([-1.83163576,  0.90969056, -1.67675676, ...,  0.04019469,\n",
       "        0.07099599,  0.05233818])"
      ]
     },
     "execution_count": 69,
     "metadata": {},
     "output_type": "execute_result"
    }
   ],
   "source": [
    "data_m"
   ]
  },
  {
   "cell_type": "code",
   "execution_count": 47,
   "id": "b654f79d-585c-45ca-9fed-653a2e382a8c",
   "metadata": {},
   "outputs": [],
   "source": [
    "import matplotlib.pyplot as plt\n",
    "import healpy as hp\n",
    "%matplotlib inline\n",
    "\n",
    "#hp.mollview(cmb_r_001[2], title=\" map\", unit = \"μK\")\n",
    "#hp.mollview(dust_40[0], title=\" map\", unit = \"μK\")"
   ]
  },
  {
   "cell_type": "code",
   "execution_count": null,
   "id": "d161426c-b2b0-4a0a-b40c-4d510d92beed",
   "metadata": {},
   "outputs": [],
   "source": []
  }
 ],
 "metadata": {
  "kernelspec": {
   "display_name": "Python 3 (ipykernel)",
   "language": "python",
   "name": "python3"
  },
  "language_info": {
   "codemirror_mode": {
    "name": "ipython",
    "version": 3
   },
   "file_extension": ".py",
   "mimetype": "text/x-python",
   "name": "python",
   "nbconvert_exporter": "python",
   "pygments_lexer": "ipython3",
   "version": "3.10.12"
  }
 },
 "nbformat": 4,
 "nbformat_minor": 5
}
