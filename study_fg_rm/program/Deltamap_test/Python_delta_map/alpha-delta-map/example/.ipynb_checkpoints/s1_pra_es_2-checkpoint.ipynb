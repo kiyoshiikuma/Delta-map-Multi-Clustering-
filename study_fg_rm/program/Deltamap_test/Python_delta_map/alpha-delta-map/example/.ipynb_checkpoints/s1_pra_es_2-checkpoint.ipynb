{
 "cells": [
  {
   "cell_type": "code",
   "execution_count": 1,
   "id": "f6127507-bd24-4ecf-a005-cd20ca79f48f",
   "metadata": {},
   "outputs": [
    {
     "name": "stdout",
     "output_type": "stream",
     "text": [
      "Using CAMB 1.5.2 installed at /Users/ikumakiyoshi/.julia/conda/3/lib/python3.10/site-packages/camb\n"
     ]
    }
   ],
   "source": [
    "import sys\n",
    "sys.path.append('/Users/ikumakiyoshi/Library/Mobile Documents/com~apple~CloudDocs/study_fg_rm/program/Deltamap_test/Python_delta_map/function')\n",
    "import noise_make as ns\n",
    "import fg_make_file as fg\n",
    "import cmb_make_file as cmb\n",
    "import noise_make as ns\n",
    "import alpha_Delta_map as dm\n",
    "import healpy as hp\n",
    "import numpy as np\n",
    "from scipy.optimize import minimize\n",
    "from numpy.linalg import solve as bslash"
   ]
  },
  {
   "cell_type": "markdown",
   "id": "d362bf44-8ff8-4548-b4da-1e6b61453c5a",
   "metadata": {},
   "source": [
    "###　共分散行列計算"
   ]
  },
  {
   "cell_type": "code",
   "execution_count": 2,
   "id": "543d8728-8f2f-4397-99d3-db99c9b1d09e",
   "metadata": {},
   "outputs": [
    {
     "name": "stdout",
     "output_type": "stream",
     "text": [
      " WARNING: nu_mass_degeneracies ignored when share_delta_neff\n"
     ]
    }
   ],
   "source": [
    "nside = 4\n",
    "random_seed_cmb = 5123\n",
    "seed_syn = 5123\n",
    "\n",
    "W, X = dm.Cal_sYlm(nside)\n",
    "cl_scal, cl_lens, cl_tens = cmb.cmb_cell_make(nside, random_seed_cmb, seed_syn)\n",
    "cl_scal = cl_scal + cl_lens\n",
    "\n",
    "cl_scal = cl_scal.T\n",
    "cl_tens = cl_tens.T"
   ]
  },
  {
   "cell_type": "markdown",
   "id": "4ba8487b-3055-4152-9509-f4c4d63ba35b",
   "metadata": {},
   "source": [
    "### ここの計算が重たい(これあってる？？？)"
   ]
  },
  {
   "cell_type": "code",
   "execution_count": 3,
   "id": "4d2c2cb8-b047-4211-88f7-8de0d77bfdd8",
   "metadata": {},
   "outputs": [
    {
     "name": "stderr",
     "output_type": "stream",
     "text": [
      "/Users/ikumakiyoshi/Library/Mobile Documents/com~apple~CloudDocs/study_fg_rm/program/Deltamap_test/Python_delta_map/function/alpha_Delta_map.py:413: ComplexWarning: Casting complex values to real discards the imaginary part\n",
      "  C[0:npix, 0:npix] = C_QQ\n",
      "/Users/ikumakiyoshi/Library/Mobile Documents/com~apple~CloudDocs/study_fg_rm/program/Deltamap_test/Python_delta_map/function/alpha_Delta_map.py:414: ComplexWarning: Casting complex values to real discards the imaginary part\n",
      "  C[0:npix, npix:2*npix] = C_QU\n",
      "/Users/ikumakiyoshi/Library/Mobile Documents/com~apple~CloudDocs/study_fg_rm/program/Deltamap_test/Python_delta_map/function/alpha_Delta_map.py:415: ComplexWarning: Casting complex values to real discards the imaginary part\n",
      "  C[npix:2*npix, 0:npix] = C_UQ\n",
      "/Users/ikumakiyoshi/Library/Mobile Documents/com~apple~CloudDocs/study_fg_rm/program/Deltamap_test/Python_delta_map/function/alpha_Delta_map.py:416: ComplexWarning: Casting complex values to real discards the imaginary part\n",
      "  C[npix:2*npix, npix:2*npix] = C_UU\n"
     ]
    },
    {
     "name": "stdout",
     "output_type": "stream",
     "text": [
      "331.8847460746765\n"
     ]
    }
   ],
   "source": [
    "import time\n",
    "\n",
    "start = time.time() \n",
    "\n",
    "# TT, EE, BB, TE\n",
    "cov_mat_scal = dm.Cal_cov(W, X, cl_scal[1], cl_scal[2])\n",
    "cov_mat_tens = dm.Cal_cov(W, X, cl_tens[1], cl_tens[2])\n",
    "\n",
    "end = time.time()\n",
    "\n",
    "time_diff = end - start\n",
    "print(time_diff)"
   ]
  },
  {
   "cell_type": "code",
   "execution_count": 5,
   "id": "67a723e9-5a51-45c4-a82a-5ced22103ca4",
   "metadata": {},
   "outputs": [],
   "source": [
    "#np.save(\"cov_mat_scal\", cov_mat_scal)\n",
    "#np.save(\"cov_mat_tens\", cov_mat_tens)"
   ]
  },
  {
   "cell_type": "code",
   "execution_count": 6,
   "id": "a3b84ae6-9c84-40b0-b65e-5e1292053f95",
   "metadata": {},
   "outputs": [
    {
     "data": {
      "text/plain": [
       "array([0.        , 0.        , 0.03218081, 0.01588908, 0.00810637,\n",
       "       0.00413024, 0.00208972, 0.00106537, 0.00057034])"
      ]
     },
     "execution_count": 6,
     "metadata": {},
     "output_type": "execute_result"
    }
   ],
   "source": [
    "cl_scal[1]\n",
    "cl_tens[2]"
   ]
  },
  {
   "cell_type": "code",
   "execution_count": null,
   "id": "deba9b16-e2b2-4f59-aac7-e9c87844cdc9",
   "metadata": {},
   "outputs": [],
   "source": [
    "dm.Cal_matrix(W, W, X, X, cl_scal[1], cl_scal[2])"
   ]
  },
  {
   "cell_type": "code",
   "execution_count": 7,
   "id": "d9f7854f-2518-4e59-ba6e-e959467e649a",
   "metadata": {},
   "outputs": [],
   "source": [
    "cov_mat = dm.Cal_cov_mat(cov_mat_scal, cov_mat_tens, 0.01)"
   ]
  },
  {
   "cell_type": "code",
   "execution_count": 8,
   "id": "9a784706-44b3-437a-ab80-625612562723",
   "metadata": {},
   "outputs": [
    {
     "data": {
      "text/plain": [
       "array([[ 0.04604405, -0.0339935 ,  0.0266527 , ..., -0.00026345,\n",
       "         0.        ,  0.00026345],\n",
       "       [-0.0339935 ,  0.04604405, -0.0339935 , ...,  0.        ,\n",
       "        -0.00026345,  0.        ],\n",
       "       [ 0.0266527 , -0.0339935 ,  0.04604405, ...,  0.00026345,\n",
       "         0.        , -0.00026345],\n",
       "       ...,\n",
       "       [-0.00026345,  0.        ,  0.00026345, ...,  0.04604405,\n",
       "        -0.03466641,  0.0243245 ],\n",
       "       [ 0.        , -0.00026345,  0.        , ..., -0.03466641,\n",
       "         0.04604405, -0.03466641],\n",
       "       [ 0.00026345,  0.        , -0.00026345, ...,  0.0243245 ,\n",
       "        -0.03466641,  0.04604405]])"
      ]
     },
     "execution_count": 8,
     "metadata": {},
     "output_type": "execute_result"
    }
   ],
   "source": [
    "cov_mat"
   ]
  },
  {
   "cell_type": "markdown",
   "id": "be37772c-40a4-4cd8-a0f5-e48d62deed14",
   "metadata": {},
   "source": [
    "### noisde　作成"
   ]
  },
  {
   "cell_type": "code",
   "execution_count": 9,
   "id": "170c82b7-64c2-49c3-9654-31b7bd21a714",
   "metadata": {},
   "outputs": [],
   "source": [
    "noise_seed = [1, 2, 3]\n",
    "pol_sen = 0.2 # μK arcmin\n",
    "noise_map, sigma = ns.noise_calc_simle(pol_sen, nside, noise_seed)"
   ]
  },
  {
   "cell_type": "code",
   "execution_count": 10,
   "id": "c277da05-9db4-43ad-b216-9d810c249380",
   "metadata": {},
   "outputs": [],
   "source": [
    "N_pix = hp.nside2npix(nside)\n",
    "N_cov = np.identity(2 * N_pix) * sigma**2"
   ]
  },
  {
   "cell_type": "code",
   "execution_count": 11,
   "id": "5e852a92-1a62-4d9b-91e6-009d732a549f",
   "metadata": {},
   "outputs": [
    {
     "name": "stdout",
     "output_type": "stream",
     "text": [
      " WARNING: nu_mass_degeneracies ignored when share_delta_neff\n"
     ]
    }
   ],
   "source": [
    "random_seed_cmb = 5123\n",
    "seed_syn = 5123\n",
    "\n",
    "r = 0.001\n",
    "N_pix = hp.nside2npix(nside)\n",
    "\n",
    "cmb_map = cmb.cmb_make_file(nside, r, random_seed_cmb, seed_syn);"
   ]
  },
  {
   "cell_type": "code",
   "execution_count": 12,
   "id": "1ea081f8-a91b-46fa-9989-571e86f296fe",
   "metadata": {},
   "outputs": [
    {
     "name": "stderr",
     "output_type": "stream",
     "text": [
      "OMP: Info #276: omp_set_nested routine deprecated, please use omp_set_max_active_levels instead.\n"
     ]
    }
   ],
   "source": [
    "freq_band = [40, 50, 140]\n",
    "cmb_freq = 140\n",
    "freq_bs, freq_bd, beta_d, T_d = 23*10**9, 353*10**9, 1.5, 20.1\n",
    "\n",
    "Q_1, U_1, x = dm.calc_x_pra(freq_band, cmb_freq, nside, cmb_map, \"s1\", freq_bs, -3., freq_bd, beta_d, T_d)"
   ]
  },
  {
   "cell_type": "code",
   "execution_count": 13,
   "id": "cdc7b94f-6c93-4e0f-b997-4bbba8a156ed",
   "metadata": {},
   "outputs": [],
   "source": [
    "#r= 0.01\n",
    "cov_mat = dm.Cal_cov_mat(cov_mat_scal, cov_mat_tens, r) + N_cov"
   ]
  },
  {
   "cell_type": "code",
   "execution_count": 14,
   "id": "09f7287b-4792-4614-b3df-22f02b8ebb80",
   "metadata": {},
   "outputs": [],
   "source": [
    "noise_map_QU = np.concatenate([noise_map[0], noise_map[1]], 0)"
   ]
  },
  {
   "cell_type": "markdown",
   "id": "6584d31e-a13c-439c-b561-a2323d9ecea2",
   "metadata": {},
   "source": [
    "### パラメーター推定"
   ]
  },
  {
   "cell_type": "markdown",
   "id": "d79cdd1c-67d8-4ce3-a52c-a5f2b8565c54",
   "metadata": {},
   "source": [
    "### minimize関数で求める"
   ]
  },
  {
   "cell_type": "code",
   "execution_count": 15,
   "id": "6233d662-fc85-42b7-8cf9-01eedbf66463",
   "metadata": {},
   "outputs": [],
   "source": [
    "# 最小化したい関数を定義する例\n",
    "def minimize_function_chi_sq(beta_s, r):\n",
    "    \n",
    "    cov_mat = dm.Cal_cov_mat(cov_mat_scal, cov_mat_tens, r)+ N_cov\n",
    "\n",
    "    Q_1, U_1, x = dm.calc_x_pra(freq_band, cmb_freq, nside, cmb_map, \"s1\", freq_bs, beta_s, freq_bd, beta_d, T_d)\n",
    "\n",
    "    det_C = dm.log_det(cov_mat)\n",
    "\n",
    "    #x = x + noise_map\n",
    "\n",
    "    x = x + noise_map_QU\n",
    "    \n",
    "    return x @ bslash(cov_mat, x)\n",
    "    \n",
    "# 初期値を設定\n",
    "beta_s = -3\n",
    "r = 0.001\n",
    "\n",
    "# minimize関数を使って最小化を行う\n",
    "#result = minimize(minimize_function_chi_sq, initial_value, args = (r), bounds = [(-5., -2)],method='BFGS')\n",
    "result = minimize(minimize_function_chi_sq, beta_s, args = (r), bounds = [(-4., -2)], method='COBYLA')"
   ]
  },
  {
   "cell_type": "code",
   "execution_count": 16,
   "id": "8d596801-7b2b-4d36-b569-9220e57fd971",
   "metadata": {},
   "outputs": [
    {
     "data": {
      "text/plain": [
       "-3.0100539062499996"
      ]
     },
     "execution_count": 16,
     "metadata": {},
     "output_type": "execute_result"
    }
   ],
   "source": [
    "result\n",
    "result.fun\n",
    "result.x[0]"
   ]
  },
  {
   "cell_type": "code",
   "execution_count": 17,
   "id": "83383058-58ad-4213-94f3-4a397a7231d0",
   "metadata": {},
   "outputs": [
    {
     "name": "stderr",
     "output_type": "stream",
     "text": [
      "/Users/ikumakiyoshi/Library/Mobile Documents/com~apple~CloudDocs/study_fg_rm/program/Deltamap_test/Python_delta_map/function/alpha_Delta_map.py:447: RuntimeWarning: invalid value encountered in log\n",
      "  logdet = np.sum(np.log(np.linalg.eigvalsh(A)))\n"
     ]
    }
   ],
   "source": [
    "# 最小化したい関数を定義する例\n",
    "def minimize_function_like(r, beta_s):\n",
    "    \n",
    "    cov_mat = dm.Cal_cov_mat(cov_mat_scal, cov_mat_tens, r)+ N_cov\n",
    "\n",
    "    Q_1, U_1, x = dm.calc_x_pra(freq_band, cmb_freq, nside, cmb_map, \"s1\", freq_bs, beta_s, freq_bd, beta_d, T_d)\n",
    "\n",
    "    det_C = dm.log_det(cov_mat)\n",
    "\n",
    "    #x = x + noise_map\n",
    "\n",
    "    x = x + noise_map_QU\n",
    "    \n",
    "    return x @ bslash(cov_mat, x) + det_C\n",
    "\n",
    "# 初期値を設定\n",
    "beta_s = -3.\n",
    "r = 0.\n",
    "\n",
    "# minimize関数を使って最小化を行う\n",
    "result = minimize(minimize_function_like, r, args = (beta_s), bounds = [(0., 1)], method='COBYLA')"
   ]
  },
  {
   "cell_type": "code",
   "execution_count": 19,
   "id": "7d37e299-7abc-4f35-9406-610159f37249",
   "metadata": {},
   "outputs": [
    {
     "data": {
      "text/plain": [
       " message: NaN result encountered.\n",
       " success: False\n",
       "  status: 5\n",
       "     fun: -2351.395104041969\n",
       "       x: [ 0.000e+00]\n",
       "    nfev: 3\n",
       "   maxcv: 0.0"
      ]
     },
     "execution_count": 19,
     "metadata": {},
     "output_type": "execute_result"
    }
   ],
   "source": [
    "result.x[0]"
   ]
  },
  {
   "cell_type": "markdown",
   "id": "b6bf050d-054b-4c9a-871a-327dbb17dd33",
   "metadata": {},
   "source": [
    "### パラメータ推定"
   ]
  },
  {
   "cell_type": "code",
   "execution_count": 20,
   "id": "be0d7ef5-00ef-4fc8-8717-6a99a971f8a3",
   "metadata": {},
   "outputs": [],
   "source": [
    "r_in = np.arange(0, 1, 10**-3)"
   ]
  },
  {
   "cell_type": "code",
   "execution_count": 21,
   "id": "4bdc5313-40de-4a5c-9315-72bd9a42679d",
   "metadata": {},
   "outputs": [],
   "source": [
    "import math\n",
    "from numpy.linalg import solve as bslash\n",
    "\n",
    "like_array = []\n",
    "\n",
    "for r_pre in r_in:\n",
    "    \n",
    "    cov_mat = dm.Cal_cov_mat(cov_mat_scal, cov_mat_tens, r_pre) + N_cov\n",
    "\n",
    "    det_C = dm.log_det(cov_mat)\n",
    "    \n",
    "    like_array.append(x @ bslash(cov_mat, x) + det_C)\n",
    "\n",
    "    #Q_1, U_1, x = dm.calc_x_pra(freq_band, cmb_freq, nside, cmb_map, \"s1\", freq_bs, beta_s, freq_bd, beta_d, T_d)\n",
    "    \n",
    "    #x = x + noise_map"
   ]
  },
  {
   "cell_type": "code",
   "execution_count": 24,
   "id": "a69d38c2-e207-4a7f-b7fc-aae8e04bf059",
   "metadata": {},
   "outputs": [
    {
     "name": "stderr",
     "output_type": "stream",
     "text": [
      "No artists with labels found to put in legend.  Note that artists whose label start with an underscore are ignored when legend() is called with no argument.\n"
     ]
    },
    {
     "data": {
      "image/png": "[encoded data removed]",
      "text/plain": [
       "<Figure size 900x600 with 1 Axes>"
      ]
     },
     "metadata": {},
     "output_type": "display_data"
    }
   ],
   "source": [
    "import matplotlib.pyplot as plt\n",
    "\n",
    "#plot#\n",
    "fig = plt.figure(figsize=(9, 6))\n",
    "\n",
    "plt.plot(r_in, like_array , lw = 2.2)\n",
    "\n",
    "plt.ylabel(\"like\", fontsize=16)\n",
    "plt.xlabel('r', fontsize=16)\n",
    "\n",
    "plt.xticks(fontsize=12)\n",
    "plt.yticks(fontsize=12)\n",
    "\n",
    "plt.title(\"likelihood\", fontsize=16)\n",
    "\n",
    "plt.grid()\n",
    "plt.legend()\n",
    "\n",
    "plt.show()"
   ]
  },
  {
   "cell_type": "code",
   "execution_count": 27,
   "id": "d0911aec-d233-479d-8a53-d72be3d59fda",
   "metadata": {},
   "outputs": [
    {
     "data": {
      "text/plain": [
       "0.001"
      ]
     },
     "execution_count": 27,
     "metadata": {},
     "output_type": "execute_result"
    }
   ],
   "source": [
    "r_in[np.argmin(like_array)]"
   ]
  },
  {
   "cell_type": "markdown",
   "id": "eb925b3f-54f4-48f8-a479-3fde5858af37",
   "metadata": {},
   "source": [
    "###　カイ二乗検定"
   ]
  },
  {
   "cell_type": "code",
   "execution_count": 28,
   "id": "ba07f3da-47fa-4c30-9c74-af527c458435",
   "metadata": {},
   "outputs": [],
   "source": [
    "# 最小化したい関数を定義する例\n",
    "def minimize_function_chi_sq(beta_s, r):\n",
    "    \n",
    "    cov_mat = dm.Cal_cov_mat(cov_mat_scal, cov_mat_tens, r)+ N_cov\n",
    "\n",
    "    Q_1, U_1, x = dm.calc_x_pra(freq_band, cmb_freq, nside, cmb_map, \"s1\", freq_bs, beta_s, freq_bd, beta_d, T_d)\n",
    "\n",
    "    x = x + noise_map_QU\n",
    "    \n",
    "    return x @ bslash(cov_mat, x)"
   ]
  },
  {
   "cell_type": "markdown",
   "id": "ba131dee-0232-48cc-a0fd-ba3dbd47e9e2",
   "metadata": {},
   "source": [
    "### Likelihood"
   ]
  },
  {
   "cell_type": "code",
   "execution_count": 29,
   "id": "f774bdb2-126c-499f-81b1-3bf4f96d7b02",
   "metadata": {},
   "outputs": [],
   "source": [
    "# 最小化したい関数を定義する例\n",
    "def minimize_function_like(r, beta_s):\n",
    "    \n",
    "    cov_mat = dm.Cal_cov_mat(cov_mat_scal, cov_mat_tens, r)+ N_cov\n",
    "\n",
    "    Q_1, U_1, x = dm.calc_x_pra(freq_band, cmb_freq, nside, cmb_map, \"s1\", freq_bs, beta_s, freq_bd, beta_d, T_d)\n",
    "\n",
    "    x = x + noise_map_QU\n",
    "    \n",
    "    det_C = dm.log_det(cov_mat)\n",
    "    \n",
    "    return x @ bslash(cov_mat, x) + det_C"
   ]
  },
  {
   "cell_type": "code",
   "execution_count": 30,
   "id": "1b607d3a-220a-4e18-a5e5-0a6bf9f61e03",
   "metadata": {},
   "outputs": [
    {
     "name": "stdout",
     "output_type": "stream",
     "text": [
      "Iteration 1: beta_s = -3.0102097656250004\n",
      "Iteration 1: r = 0.001\n",
      "Iteration 2: beta_s = -3.010009765625\n",
      "Iteration 2: r = 0.001\n",
      "Iteration 3: beta_s = -3.0102097656250004\n",
      "Iteration 3: r = 0.001\n",
      "Iteration 4: beta_s = -3.010009765625\n",
      "Iteration 4: r = 0.001\n",
      "Iteration 5: beta_s = -3.0102097656250004\n",
      "Iteration 5: r = 0.001\n",
      "Iteration 6: beta_s = -3.010009765625\n",
      "Iteration 6: r = 0.001\n",
      "Iteration 7: beta_s = -3.0102097656250004\n",
      "Iteration 7: r = 0.001\n",
      "Iteration 8: beta_s = -3.010009765625\n",
      "Iteration 8: r = 0.001\n",
      "Iteration 9: beta_s = -3.0102097656250004\n",
      "Iteration 9: r = 0.001\n",
      "Iteration 10: beta_s = -3.010009765625\n",
      "Iteration 10: r = 0.001\n"
     ]
    }
   ],
   "source": [
    "num_iterations = 10\n",
    "\n",
    "for iteration in range(num_iterations):\n",
    "\n",
    "    if iteration == 0:\n",
    "\n",
    "        # chi sq スペクトルパラメータ決定\n",
    "        beta_pre = -3\n",
    "        r_pre = 1\n",
    "\n",
    "        # minimize関数\n",
    "        #result = minimize(minimize_function_chi_sq, beta_pre, args = (r_pre), bounds = [(-5., -2)],method='BFGS')\n",
    "        result_p = minimize(minimize_function_chi_sq, beta_pre, args = (r_pre), bounds = [(-5., -2)], method='COBYLA')\n",
    "\n",
    "        print(f\"Iteration {iteration + 1}: beta_s = {result_p.x[0]}\")\n",
    "        \n",
    "        # スペクトルパラメータを更新\n",
    "        beta_s_pre = result_p.x[0]\n",
    "        r_pre = 0.001\n",
    "        \n",
    "        result_r = minimize(minimize_function_like, r_pre, args = (beta_s_pre), bounds = [(0., 1)], method='COBYLA')\n",
    "    \n",
    "        print(f\"Iteration {iteration + 1}: r = {result_r.x[0]}\")\n",
    "\n",
    "    else:\n",
    "        \n",
    "        # chi sq スペクトルパラメータ決定\n",
    "        beta_pre = result_p.x[0]\n",
    "        r_pre = result_r.x[0]\n",
    "\n",
    "        # minimize関数\n",
    "        #result = minimize(minimize_function_chi_sq, beta_pre, args = (r_pre), bounds = [(-5., -2)],method='BFGS')\n",
    "        result_p = minimize(minimize_function_chi_sq, beta_pre, args = (r_pre), bounds = [(-5., -2)], method='COBYLA')\n",
    "\n",
    "        print(f\"Iteration {iteration + 1}: beta_s = {result_p.x[0]}\")\n",
    "        \n",
    "        # スペクトルパラメータを更新\n",
    "        beta_s_pre = result_p.x[0]\n",
    "        r_pre = result_r.x[0]\n",
    "        \n",
    "        result_r = minimize(minimize_function_like, r_pre, args = (beta_s_pre), bounds = [(0., 1)], method='COBYLA')\n",
    "        \n",
    "        print(f\"Iteration {iteration + 1}: r = {result_r.x[0]}\")"
   ]
  },
  {
   "cell_type": "code",
   "execution_count": null,
   "id": "df6f1e9f-f359-4cd0-9102-86baf0f8b90b",
   "metadata": {},
   "outputs": [],
   "source": []
  },
  {
   "cell_type": "code",
   "execution_count": null,
   "id": "89130bc3-0d1b-4425-8756-51fe44ed2e93",
   "metadata": {},
   "outputs": [],
   "source": []
  },
  {
   "cell_type": "code",
   "execution_count": null,
   "id": "df300775-39a3-4b33-92b3-28db2db9969b",
   "metadata": {},
   "outputs": [],
   "source": []
  },
  {
   "cell_type": "code",
   "execution_count": null,
   "id": "abc5d106-f738-4df2-909a-22c516b16586",
   "metadata": {},
   "outputs": [],
   "source": [
    "initial_guess = [0.0]\n",
    "\n",
    "# ループ条件\n",
    "target_value = 1e-6\n",
    "current_value = float('inf')  # 十分に大きな初期値を設定\n",
    "\n",
    "# ループ\n",
    "while current_value > target_value:\n",
    "    result = minimize(objective_function, x0=initial_guess)\n",
    "    current_value = result.fun  # 最適な目的関数の値\n",
    "    print(\"Current value:\", current_value)\n",
    "\n",
    "    # ここで必要な処理を実行\n",
    "\n",
    "    # 新しい初期値を設定（例: 直前の最適解を使用）\n",
    "    initial_guess = result.x\n",
    "\n",
    "print(\"Optimization converged.\")\n",
    "print(\"Final result:\", result)"
   ]
  },
  {
   "cell_type": "code",
   "execution_count": null,
   "id": "5263df48-c57a-4aab-937a-7361bfa165d5",
   "metadata": {},
   "outputs": [],
   "source": []
  },
  {
   "cell_type": "code",
   "execution_count": null,
   "id": "61545eb1-aad5-4f0e-bf6e-a629f31ac4e1",
   "metadata": {},
   "outputs": [],
   "source": []
  },
  {
   "cell_type": "code",
   "execution_count": null,
   "id": "8610f488-1d7c-4cfc-b34e-ed39a4483a27",
   "metadata": {},
   "outputs": [],
   "source": []
  }
 ],
 "metadata": {
  "kernelspec": {
   "display_name": "Python 3 (ipykernel)",
   "language": "python",
   "name": "python3"
  },
  "language_info": {
   "codemirror_mode": {
    "name": "ipython",
    "version": 3
   },
   "file_extension": ".py",
   "mimetype": "text/x-python",
   "name": "python",
   "nbconvert_exporter": "python",
   "pygments_lexer": "ipython3",
   "version": "3.10.12"
  }
 },
 "nbformat": 4,
 "nbformat_minor": 5
}
