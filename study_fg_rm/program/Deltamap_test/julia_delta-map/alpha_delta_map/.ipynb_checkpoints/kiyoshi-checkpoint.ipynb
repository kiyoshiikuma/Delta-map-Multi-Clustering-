{
 "cells": [
  {
   "cell_type": "markdown",
   "id": "924445d2-1b29-426e-9a94-1619eed38a93",
   "metadata": {},
   "source": [
    "### pythonとの比較"
   ]
  },
  {
   "cell_type": "code",
   "execution_count": 82,
   "id": "87009adb-7ce0-442a-a5cb-cd3d7647e2d3",
   "metadata": {},
   "outputs": [
    {
     "data": {
      "text/plain": [
       "4"
      ]
     },
     "execution_count": 82,
     "metadata": {},
     "output_type": "execute_result"
    }
   ],
   "source": [
    "using WignerD\n",
    "using Healpix\n",
    "using Base.Threads\n",
    "Threads.nthreads()"
   ]
  },
  {
   "cell_type": "code",
   "execution_count": 83,
   "id": "41f05174-5d22-4bb2-9522-0feb4b9dc071",
   "metadata": {},
   "outputs": [
    {
     "data": {
      "text/plain": [
       "Healpix resolution(NSIDE = 4)"
      ]
     },
     "execution_count": 83,
     "metadata": {},
     "output_type": "execute_result"
    }
   ],
   "source": [
    "nside = 4\n",
    "lmax= 2*nside\n",
    "npix = nside2npix(nside)\n",
    "res = Resolution(nside)"
   ]
  },
  {
   "cell_type": "code",
   "execution_count": 84,
   "id": "9b1de783-5db7-45ac-9de7-72fa22edcc8a",
   "metadata": {},
   "outputs": [],
   "source": [
    "save_Ylm = zeros(ComplexF64, 1, lmax+1, 2*lmax+1);"
   ]
  },
  {
   "cell_type": "code",
   "execution_count": 94,
   "id": "a8dbb5ed-e680-42a8-8643-7e915bbcb94c",
   "metadata": {},
   "outputs": [],
   "source": [
    "ang = pix2angRing(res, 1)\n",
    "for l in 2:lmax\n",
    "    @inbounds @threads  for m in -l:l\n",
    "        save_Ylm[1,l+1, lmax+1+m] = (-1)^m*sqrt((2*l+1)/(4pi))*WignerD.wignerDjmn(l,-m,2,ang[2],ang[1],0)\n",
    "    end\n",
    "end"
   ]
  },
  {
   "cell_type": "code",
   "execution_count": 96,
   "id": "18ff17b7-04b1-41fc-8883-5611e74672e1",
   "metadata": {},
   "outputs": [
    {
     "data": {
      "text/plain": [
       "(0.20448019896853498, 0.7853981633974483)"
      ]
     },
     "execution_count": 96,
     "metadata": {},
     "output_type": "execute_result"
    }
   ],
   "source": [
    "ang"
   ]
  },
  {
   "cell_type": "code",
   "execution_count": 101,
   "id": "d3774fb1-353d-4276-821e-106ba5126899",
   "metadata": {},
   "outputs": [
    {
     "data": {
      "text/plain": [
       "17-element Vector{ComplexF64}:\n",
       "                    0.0 + 0.0im\n",
       "                    0.0 + 0.0im\n",
       "                    0.0 + 0.0im\n",
       "                    0.0 + 0.0im\n",
       "                    0.0 + 0.0im\n",
       "                    0.0 + 0.0im\n",
       "  3.782384461320273e-17 - 0.617710259636283im\n",
       "   -0.08962682456308266 + 0.08962682456308264im\n",
       "   0.015927104684115734 - 0.0im\n",
       " -0.0009434402585587045 - 0.0009434402585587044im\n",
       " 4.1910077133733115e-21 + 6.844435009818757e-5im\n",
       "                    0.0 + 0.0im\n",
       "                    0.0 + 0.0im\n",
       "                    0.0 + 0.0im\n",
       "                    0.0 + 0.0im\n",
       "                    0.0 + 0.0im\n",
       "                    0.0 + 0.0im"
      ]
     },
     "execution_count": 101,
     "metadata": {},
     "output_type": "execute_result"
    }
   ],
   "source": [
    "save_Ylm[1,3,:]"
   ]
  },
  {
   "cell_type": "code",
   "execution_count": null,
   "id": "54f93fd2-95da-4fdc-b651-676e717eed3e",
   "metadata": {},
   "outputs": [],
   "source": []
  },
  {
   "cell_type": "code",
   "execution_count": null,
   "id": "637fd124-378b-4323-9472-efa9f7d40c8f",
   "metadata": {},
   "outputs": [],
   "source": []
  },
  {
   "cell_type": "code",
   "execution_count": 2,
   "id": "3eb6d512-30bb-480c-b93b-d38e26eaae47",
   "metadata": {},
   "outputs": [
    {
     "data": {
      "text/plain": [
       "4"
      ]
     },
     "execution_count": 2,
     "metadata": {},
     "output_type": "execute_result"
    }
   ],
   "source": [
    "using WignerD\n",
    "using Healpix\n",
    "using Base.Threads\n",
    "Threads.nthreads()"
   ]
  },
  {
   "cell_type": "markdown",
   "id": "ddadbbc0-a47b-4efa-9d5e-a09bfbe55254",
   "metadata": {},
   "source": [
    "$$\n",
    "_2Y_{\\ell m }(\\theta, \\phi) = (-1)^m \\sqrt{\\frac{2\\ell+1}{4\\pi}}D^{\\ell}_{-m2}(\\phi, \\theta, 0)\n",
    "$$"
   ]
  },
  {
   "cell_type": "markdown",
   "id": "a779a29b-5966-4feb-b0e6-0adf19197f1a",
   "metadata": {},
   "source": [
    "WignerD.wignerDjmn(l,m,n,φ,θ,ψ)"
   ]
  },
  {
   "cell_type": "code",
   "execution_count": 63,
   "id": "86753167-d8b5-489e-849c-346b487ab512",
   "metadata": {},
   "outputs": [
    {
     "data": {
      "text/plain": [
       "Healpix resolution(NSIDE = 4)"
      ]
     },
     "execution_count": 63,
     "metadata": {},
     "output_type": "execute_result"
    }
   ],
   "source": [
    "nside = 4\n",
    "lmax= 2*nside\n",
    "npix = nside2npix(nside)\n",
    "res = Resolution(nside)"
   ]
  },
  {
   "cell_type": "code",
   "execution_count": 64,
   "id": "4e6c850d-0331-4ce7-931e-49d2adacf68f",
   "metadata": {},
   "outputs": [],
   "source": [
    "save_Ylm = zeros(ComplexF64, npix, lmax+1, 2*lmax+1);"
   ]
  },
  {
   "cell_type": "code",
   "execution_count": 70,
   "id": "bbf276ac-429e-49dc-8e26-fa37124a73c8",
   "metadata": {},
   "outputs": [
    {
     "name": "stdout",
     "output_type": "stream",
     "text": [
      "  0.149378 seconds (112.50 k allocations: 6.925 MiB, 48.68% gc time, 79.69% compilation time)\n"
     ]
    }
   ],
   "source": [
    "@time @views for pix in 1:npix\n",
    "    ang = pix2angRing(res, pix)\n",
    "    for l in 2:lmax\n",
    "        @inbounds @threads for m in -l:l\n",
    "            save_Ylm[pix,l+1, lmax+1+m] = (-1)^m*sqrt((2*l+1)/(4pi))*WignerD.wignerDjmn(l,-m,2,ang[2],ang[1],0)\n",
    "        end\n",
    "    end\n",
    "end"
   ]
  },
  {
   "cell_type": "code",
   "execution_count": 71,
   "id": "6011cdb9-3d74-4d1e-ba2b-4920567e2602",
   "metadata": {},
   "outputs": [
    {
     "data": {
      "text/plain": [
       "calc_Yslm (generic function with 1 method)"
      ]
     },
     "execution_count": 71,
     "metadata": {},
     "output_type": "execute_result"
    }
   ],
   "source": [
    "function calc_Yslm(nside, s)\n",
    "    \n",
    "    lmax= 2*nside\n",
    "    npix = nside2npix(nside)\n",
    "    res = Resolution(nside)\n",
    "    \n",
    "    save_Ylm = zeros(ComplexF64, npix, lmax+1, 2*lmax+1);\n",
    "    \n",
    "    @views for pix in 1:npix\n",
    "        ang = pix2angRing(res, pix)\n",
    "        for l in 2:lmax\n",
    "            @inbounds @threads for m in -l:l\n",
    "                save_Ylm[pix,l+1, lmax+1+m] = (-1)^m*sqrt((2*l+1)/(4pi))*WignerD.wignerDjmn(l,-m,s,ang[2],ang[1],0)\n",
    "            end    \n",
    "        end\n",
    "    end\n",
    "\n",
    "    return save_Ylm\n",
    "end"
   ]
  },
  {
   "cell_type": "code",
   "execution_count": 72,
   "id": "48defc64-48d2-4b61-81a7-aa9a82c0cbc7",
   "metadata": {},
   "outputs": [
    {
     "data": {
      "text/plain": [
       "calc_WX (generic function with 1 method)"
      ]
     },
     "execution_count": 72,
     "metadata": {},
     "output_type": "execute_result"
    }
   ],
   "source": [
    "function calc_WX(nside)\n",
    "\n",
    "    Ylm = calc_Yslm(nside, 2)\n",
    "    Ylm_ = calc_Yslm(nside, -2)\n",
    "    \n",
    "    W = -1*(Ylm + Ylm_)/2\n",
    "    X = -1im*(Ylm - Ylm_)/2\n",
    "\n",
    "    return W, X\n",
    "    \n",
    "end"
   ]
  },
  {
   "cell_type": "code",
   "execution_count": 79,
   "id": "4f6779d6-9462-4071-ba90-d63a230e67f2",
   "metadata": {},
   "outputs": [
    {
     "data": {
      "text/plain": [
       "192"
      ]
     },
     "execution_count": 79,
     "metadata": {},
     "output_type": "execute_result"
    }
   ],
   "source": [
    "npix = nside2npix(nside)"
   ]
  },
  {
   "cell_type": "code",
   "execution_count": 81,
   "id": "b13f8206-77e2-4197-814f-29d1917362fc",
   "metadata": {},
   "outputs": [
    {
     "data": {
      "text/plain": [
       "17-element Vector{ComplexF64}:\n",
       "                    0.0 + 0.0im\n",
       "                    0.0 + 0.0im\n",
       "                    0.0 + 0.0im\n",
       "                    0.0 + 0.0im\n",
       "                    0.0 + 0.0im\n",
       "                    0.0 + 0.0im\n",
       " -2.933705399365821e-20 + 6.844435009829263e-5im\n",
       " -0.0009434402585586361 - 0.0009434402585586366im\n",
       "   0.015927104684115304 - 0.0im\n",
       "   -0.08962682456308256 + 0.08962682456308262im\n",
       " -2.647669122924191e-16 - 0.6177102596362832im\n",
       "                    0.0 + 0.0im\n",
       "                    0.0 + 0.0im\n",
       "                    0.0 + 0.0im\n",
       "                    0.0 + 0.0im\n",
       "                    0.0 + 0.0im\n",
       "                    0.0 + 0.0im"
      ]
     },
     "execution_count": 81,
     "metadata": {},
     "output_type": "execute_result"
    }
   ],
   "source": [
    "save_Ylm[192,3,:]"
   ]
  },
  {
   "cell_type": "code",
   "execution_count": 8,
   "id": "72b0e8f1-d934-4d8a-8933-6840e3af1565",
   "metadata": {},
   "outputs": [],
   "source": [
    "W, X = calc_WX(4);"
   ]
  },
  {
   "cell_type": "code",
   "execution_count": 9,
   "id": "2ad98471-3e71-47d6-a1f4-12ea4124baf8",
   "metadata": {},
   "outputs": [],
   "source": [
    "Ylm = calc_Yslm(nside, 2);"
   ]
  },
  {
   "cell_type": "code",
   "execution_count": 10,
   "id": "c0967d5f-46d4-434f-a33e-0affa95b2643",
   "metadata": {},
   "outputs": [],
   "source": [
    "# Ylm\n",
    "# nside = 4\n",
    "# npix = 192 by l = 2*nside + 1 = 9 by -l < m < l\n",
    "\n",
    "# save_Ylm[pix,l+1, lmax+1+m]\n",
    "# l+1だから、 l は 2からなので、3からつまっていく、、、、l = 0, 1の要素は0なので\n",
    "# lmax+1+m　も mの条件を守りながら詰められていく"
   ]
  },
  {
   "cell_type": "code",
   "execution_count": 11,
   "id": "4759d59d-3312-47f8-ac23-0a3e2ec54f77",
   "metadata": {},
   "outputs": [],
   "source": [
    "Ylm[1, :, :];"
   ]
  },
  {
   "cell_type": "code",
   "execution_count": 12,
   "id": "92bcba73-cc13-4ede-86bf-194b010116ff",
   "metadata": {},
   "outputs": [],
   "source": [
    "Ylm_ = calc_Yslm(nside, -2);"
   ]
  },
  {
   "cell_type": "code",
   "execution_count": 13,
   "id": "d2144ae1-b217-401a-8e0f-1e8f33d5b81e",
   "metadata": {},
   "outputs": [],
   "source": [
    "Ylm_[1, :, :];"
   ]
  },
  {
   "cell_type": "code",
   "execution_count": 14,
   "id": "62824399-99b7-4114-80a2-4ff5c8cdc0b4",
   "metadata": {},
   "outputs": [
    {
     "data": {
      "text/plain": [
       "17-element Vector{ComplexF64}:\n",
       " 0.0 + 0.0im\n",
       " 0.0 + 0.0im\n",
       " 0.0 + 0.0im\n",
       " 0.0 + 0.0im\n",
       " 0.0 + 0.0im\n",
       " 0.0 + 0.0im\n",
       " 0.0 + 0.0im\n",
       " 0.0 + 0.0im\n",
       " 0.0 + 0.0im\n",
       " 0.0 + 0.0im\n",
       " 0.0 + 0.0im\n",
       " 0.0 + 0.0im\n",
       " 0.0 + 0.0im\n",
       " 0.0 + 0.0im\n",
       " 0.0 + 0.0im\n",
       " 0.0 + 0.0im\n",
       " 0.0 + 0.0im"
      ]
     },
     "execution_count": 14,
     "metadata": {},
     "output_type": "execute_result"
    }
   ],
   "source": [
    "# sYlm(pix, l, m)\n",
    "# (npix = 1)\n",
    "save_Ylm[1, :, :]\n",
    "\n",
    "# (npx, l = 1, 2)\n",
    "# mを指定する場合、m → lmax + 1 + m\n",
    "save_Ylm[1, 3, :]\n",
    "\n",
    "# (npx, l = 9, 2)\n",
    "# mを指定する場合、m → lmax + 1 + m\n",
    "save_Ylm[1, 1, :]"
   ]
  },
  {
   "cell_type": "code",
   "execution_count": 15,
   "id": "d03c8a79-a48b-428e-8b84-bce64b18c165",
   "metadata": {},
   "outputs": [],
   "source": [
    "#WignerD.wignerDjmn(2,1,2,1,2,0)"
   ]
  },
  {
   "cell_type": "code",
   "execution_count": 16,
   "id": "5e886829-6bc9-4b1e-8fff-34122daf5241",
   "metadata": {},
   "outputs": [],
   "source": [
    "#sum(save_Ylm[1, 9, :])"
   ]
  },
  {
   "cell_type": "code",
   "execution_count": 17,
   "id": "f72198c3-6fbf-4271-ae9f-30762cc3be19",
   "metadata": {},
   "outputs": [],
   "source": [
    "save_Ylm[1, 9, 1];"
   ]
  },
  {
   "cell_type": "code",
   "execution_count": 18,
   "id": "1d946b0f-7038-48bf-8dcf-1f850b4b3dde",
   "metadata": {},
   "outputs": [],
   "source": [
    "abs.(save_Ylm[1, 9, :]).^2;"
   ]
  },
  {
   "cell_type": "code",
   "execution_count": 19,
   "id": "99a8ce42-996f-490a-8f6f-789d0e4ae965",
   "metadata": {},
   "outputs": [],
   "source": [
    "conj(save_Ylm[1, 9, :]);"
   ]
  },
  {
   "cell_type": "markdown",
   "id": "730ee7aa-00ff-4339-995d-be2f9504978f",
   "metadata": {},
   "source": [
    "### あるnpix, lのmでの足し合わせ"
   ]
  },
  {
   "cell_type": "code",
   "execution_count": 20,
   "id": "a8a9a657-79e9-4ce4-ac5c-a3a7787c9311",
   "metadata": {},
   "outputs": [],
   "source": [
    "a = save_Ylm[1, 9, :] .*  conj(save_Ylm[1, 9, :]);"
   ]
  },
  {
   "cell_type": "code",
   "execution_count": 21,
   "id": "ebcc87c9-95d0-452f-bf55-e0fc376336a7",
   "metadata": {},
   "outputs": [
    {
     "data": {
      "text/plain": [
       "1.3528170162811144 + 0.0im"
      ]
     },
     "execution_count": 21,
     "metadata": {},
     "output_type": "execute_result"
    }
   ],
   "source": [
    "sum(a)"
   ]
  },
  {
   "cell_type": "code",
   "execution_count": 22,
   "id": "7f1945cd-d1ae-4577-914a-029499e5057d",
   "metadata": {},
   "outputs": [
    {
     "data": {
      "text/plain": [
       "Any[]"
      ]
     },
     "execution_count": 22,
     "metadata": {},
     "output_type": "execute_result"
    }
   ],
   "source": [
    "aa = []"
   ]
  },
  {
   "cell_type": "code",
   "execution_count": 23,
   "id": "ea59a7af-e711-41b4-bcad-534fb04ddc76",
   "metadata": {},
   "outputs": [
    {
     "ename": "LoadError",
     "evalue": "UndefVarError: `calc_sum_m` not defined",
     "output_type": "error",
     "traceback": [
      "UndefVarError: `calc_sum_m` not defined",
      "",
      "Stacktrace:",
      " [1] top-level scope",
      "   @ In[23]:1"
     ]
    }
   ],
   "source": [
    "aaa = calc_sum_m(X, X, 10, 6, 1)"
   ]
  },
  {
   "cell_type": "code",
   "execution_count": 24,
   "id": "884a0de9-3180-4b0f-998d-484f54a5d65d",
   "metadata": {},
   "outputs": [
    {
     "ename": "LoadError",
     "evalue": "UndefVarError: `aaa` not defined",
     "output_type": "error",
     "traceback": [
      "UndefVarError: `aaa` not defined",
      "",
      "Stacktrace:",
      " [1] top-level scope",
      "   @ In[24]:2"
     ]
    }
   ],
   "source": [
    "using Printf\n",
    "aaa = parse(Float64, string(@sprintf(\"%.13f\", imag(aaa))))"
   ]
  },
  {
   "cell_type": "markdown",
   "id": "bb57c4d6-3e70-47e8-b0a7-011e2f27d348",
   "metadata": {},
   "source": [
    "### mの総和と,lの総和"
   ]
  },
  {
   "cell_type": "code",
   "execution_count": 25,
   "id": "d6e5b322-f3a8-4d5d-824e-8cd02b990e29",
   "metadata": {},
   "outputs": [
    {
     "data": {
      "text/plain": [
       "calc_sum_l (generic function with 1 method)"
      ]
     },
     "execution_count": 25,
     "metadata": {},
     "output_type": "execute_result"
    }
   ],
   "source": [
    "# mでの足し合わせを行う\n",
    "\n",
    "function calc_sum_m(Flm, Glm, npix1, npix2, l)\n",
    "    \n",
    "    # Σ_m W(npix_i) * W^*(npix_j)\n",
    "    WW_XX = sum(Flm[npix1,l,:] .* conj(Glm[npix2,l,:]))\n",
    "\n",
    "    return WW_XX\n",
    "\n",
    "end\n",
    "\n",
    "\n",
    "function calc_sum_l(Flm, Glm, npix1, npix2, cl, wl, beam_pol, nside)\n",
    "    \n",
    "    mat_comp = []\n",
    "    \n",
    "    lmax = 2*nside\n",
    "    \n",
    "    for l in 3 : lmax + 1\n",
    "\n",
    "        # dl → cl\n",
    "        #fact = l * (l+1) / (2 * pi)\n",
    "        fact = 1\n",
    "\n",
    "        # WW_XX は -lからlだけど 3から、lmax + 1 まで詰まっている\n",
    "        WW_XX = calc_sum_m(Flm, Glm, npix1, npix2, l)\n",
    "\n",
    "        # Σ_l Cl * wl^2 * W(npix_i, npix_j)\n",
    "        Cov_mat = wl[l]^2 * beam_pol[l]^2 * cl[l] * WW_XX / fact\n",
    "\n",
    "        # im 部分は小さいので切り落とす\n",
    "        push!(mat_comp, real(Cov_mat))\n",
    "        #push!(mat_comp, Cov_mat)\n",
    "\n",
    "    end \n",
    "        \n",
    "    return sum(mat_comp)\n",
    "\n",
    "end"
   ]
  },
  {
   "cell_type": "code",
   "execution_count": 26,
   "id": "fea0a5d7-e34e-4d47-9f9f-7e3a0ecf0ee0",
   "metadata": {},
   "outputs": [],
   "source": [
    "#gaussbeam(0, 9, pol=true)"
   ]
  },
  {
   "cell_type": "code",
   "execution_count": 27,
   "id": "6c357234-0b37-4448-a50c-262e69e832e4",
   "metadata": {},
   "outputs": [],
   "source": [
    "using PyCall\n",
    "\n",
    "@pyimport healpy as hp"
   ]
  },
  {
   "cell_type": "code",
   "execution_count": 28,
   "id": "c3584ece-5968-4d9c-94cc-1c1dfa1ec928",
   "metadata": {},
   "outputs": [],
   "source": [
    "#hp.sphtfunc.gauss_beam(0, 9, pol=true)[:,1] "
   ]
  },
  {
   "cell_type": "code",
   "execution_count": 29,
   "id": "45e9660f-5a31-4ec2-ac6a-cb7e559f63e2",
   "metadata": {},
   "outputs": [
    {
     "data": {
      "text/plain": [
       "calc_cov_mat (generic function with 1 method)"
      ]
     },
     "execution_count": 29,
     "metadata": {},
     "output_type": "execute_result"
    }
   ],
   "source": [
    "function calc_cov_mat(F1lm, F2lm, G1lm, G2lm, clEE, clBB, nside)\n",
    "    \n",
    "    npix = nside2npix(nside)\n",
    "    lmax = 2*nside\n",
    "\n",
    "    # beam, pixwinも考えない場合(= 1) theta_pixも適当---------------------------------------#\n",
    "    fwhm = 0\n",
    "    \n",
    "    wl = pixwin(nside, pol=true)\n",
    "    \n",
    "    wl_P = wl[2][1:lmax + 1] * 0 .+ 1\n",
    "    \n",
    "    beam = gaussbeam(fwhm, Int(lmax + 1), pol=true) * 0 .+ 1\n",
    "    \n",
    "    #beam_EE = beam[:,2] * 0 .+ 1\n",
    "    #beam_BB = beam[:,3] * 0 .+ 1\n",
    "\n",
    "    beam_EE = beam * 0 .+ 1\n",
    "    beam_BB = beam * 0 .+ 1\n",
    "    \n",
    "    #----------------------------------------------------------------------------#\n",
    "\n",
    "    matrix = zeros((npix,npix))*1.0im\n",
    "    for i in 1 : npix\n",
    "        \n",
    "        for j in 1 : npix\n",
    "            \n",
    "            comp = calc_sum_l(F1lm, F2lm, i, j, clEE, wl_P, beam_EE, nside) + calc_sum_l(G1lm, G2lm, i, j, clBB, wl_P, beam_BB, nside)\n",
    "\n",
    "            # i = 1の時　(n1, n1),　(n1, n2)　, (n1, n3)...,(n1, n_npix)　 \n",
    "            # :\n",
    "            # :\n",
    "            # i = の時　(n1, n1),　(n1, n2)　, (n1, n3)...,(n1, n_npix)　 \n",
    "            \n",
    "            matrix[i,j] = comp\n",
    "        end\n",
    "    end\n",
    "            \n",
    "    return matrix\n",
    "\n",
    "end\n",
    "    "
   ]
  },
  {
   "cell_type": "code",
   "execution_count": 30,
   "id": "a437b6cf-dd35-44bc-b440-37ad5d000210",
   "metadata": {},
   "outputs": [],
   "source": [
    "win = pixwin(4, pol=true);"
   ]
  },
  {
   "cell_type": "code",
   "execution_count": 31,
   "id": "a726dfb8-34e4-43b5-ab0f-7b6f7edd4aa5",
   "metadata": {},
   "outputs": [],
   "source": [
    "win[2][1:2*nside];"
   ]
  },
  {
   "cell_type": "code",
   "execution_count": 32,
   "id": "d3749352-d812-40f5-9cd6-c9e526aad146",
   "metadata": {},
   "outputs": [
    {
     "name": "stdout",
     "output_type": "stream",
     "text": [
      "Using CAMB 1.5.2 installed at /Users/ikumakiyoshi/.julia/conda/3/lib/python3.10/site-packages/camb\n"
     ]
    },
    {
     "data": {
      "text/plain": [
       "log_det (generic function with 1 method)"
      ]
     },
     "execution_count": 32,
     "metadata": {},
     "output_type": "execute_result"
    }
   ],
   "source": [
    "using PyCall\n",
    "using PyPlot\n",
    "\n",
    "@pyimport sys\n",
    "pushfirst!(PyVector(pyimport(\"sys\")[\"path\"]), \"/Users/ikumakiyoshi/Library/Mobile Documents/com~apple~CloudDocs/study_fg_rm/program/Deltamap_test/julia_delta-map/function_julia\")\n",
    "\n",
    "@pyimport cmb_make_file as cmb_make\n",
    "\n",
    "include(\"/Users/ikumakiyoshi/Library/Mobile Documents/com~apple~CloudDocs/study_fg_rm/program/Deltamap_test/julia_delta-map/function_julia/make_data_m.jl\")\n",
    "include(\"/Users/ikumakiyoshi/Library/Mobile Documents/com~apple~CloudDocs/study_fg_rm/program/Deltamap_test/julia_delta-map/function_julia/Delta_map.jl\")\n",
    "include(\"/Users/ikumakiyoshi/Library/Mobile Documents/com~apple~CloudDocs/study_fg_rm/program/Deltamap_test/julia_delta-map/function_julia/Delta_map_alpha.jl\")"
   ]
  },
  {
   "cell_type": "code",
   "execution_count": 33,
   "id": "eb834a09-6682-41c4-9d6e-ab0d515f84e0",
   "metadata": {},
   "outputs": [
    {
     "name": "stdout",
     "output_type": "stream",
     "text": [
      " WARNING: nu_mass_degeneracies ignored when share_delta_neff\n"
     ]
    }
   ],
   "source": [
    "random_seed_cmb = 5123\n",
    "seed_syn = 12345\n",
    "nside = 4\n",
    "\n",
    "cl_scal, cl_tens = cmb_make.cmb_cl_calc(nside, random_seed_cmb, seed_syn);"
   ]
  },
  {
   "cell_type": "code",
   "execution_count": 34,
   "id": "fff9ebe4-b7f2-4aff-b6f7-6c007eaba453",
   "metadata": {},
   "outputs": [],
   "source": [
    "clEE = cl_scal[:,2][1:2*nside+1]\n",
    "clBB = cl_tens[:,3][1:2*nside+1];"
   ]
  },
  {
   "cell_type": "code",
   "execution_count": 35,
   "id": "b66d1fad-f553-4d5f-baf8-ef03373686a9",
   "metadata": {},
   "outputs": [
    {
     "data": {
      "text/plain": [
       "9-element Vector{Float64}:\n",
       " 0.0\n",
       " 0.0\n",
       " 0.03218080569568986\n",
       " 0.01588908026162604\n",
       " 0.008106372625157109\n",
       " 0.004130238342372817\n",
       " 0.0020897191840570026\n",
       " 0.0010653703157161658\n",
       " 0.0005703369413699805"
      ]
     },
     "execution_count": 35,
     "metadata": {},
     "output_type": "execute_result"
    }
   ],
   "source": [
    "cl_scal[:,2][1:2*nside+1]\n",
    "cl_tens[:,3][1:2*nside + 1]"
   ]
  },
  {
   "cell_type": "code",
   "execution_count": 41,
   "id": "c94f0966-54fc-4c8f-b644-e4c5421cbe30",
   "metadata": {},
   "outputs": [
    {
     "data": {
      "text/plain": [
       "192×192 Matrix{ComplexF64}:\n",
       "   0.0457664+0.0im   -0.0337839+0.0im  …   -0.0062483+0.0im\n",
       "  -0.0337839+0.0im    0.0457664+0.0im      0.00642607+0.0im\n",
       "   0.0264958+0.0im   -0.0337839+0.0im      -0.0062483+0.0im\n",
       "  -0.0337839+0.0im    0.0264958+0.0im       0.0063871+0.0im\n",
       "   0.0274094+0.0im   -0.0116227+0.0im     -0.00490636+0.0im\n",
       "   0.0274094+0.0im   -0.0181208+0.0im  …  -0.00410684+0.0im\n",
       "  -0.0181208+0.0im    0.0274094+0.0im      0.00458842+0.0im\n",
       "  -0.0116227+0.0im    0.0274094+0.0im      0.00458842+0.0im\n",
       "   0.0122336+0.0im   -0.0181208+0.0im     -0.00410684+0.0im\n",
       "   0.0122336+0.0im   -0.0116227+0.0im     -0.00490636+0.0im\n",
       "  -0.0116227+0.0im    0.0122336+0.0im  …    0.0047112+0.0im\n",
       "  -0.0181208+0.0im    0.0122336+0.0im       0.0047112+0.0im\n",
       "   0.0116144+0.0im   -0.0013142+0.0im     -0.00425006+0.0im\n",
       "            ⋮                          ⋱  \n",
       "   0.0047112+0.0im  -0.00410684+0.0im  …   -0.0181208+0.0im\n",
       "   0.0047112+0.0im  -0.00490636+0.0im      -0.0116227+0.0im\n",
       " -0.00490636+0.0im    0.0047112+0.0im       0.0122336+0.0im\n",
       " -0.00410684+0.0im    0.0047112+0.0im       0.0122336+0.0im\n",
       "  0.00458842+0.0im  -0.00490636+0.0im      -0.0116227+0.0im\n",
       "  0.00458842+0.0im  -0.00410684+0.0im  …   -0.0181208+0.0im\n",
       " -0.00410684+0.0im   0.00458842+0.0im       0.0274094+0.0im\n",
       " -0.00490636+0.0im   0.00458842+0.0im       0.0274094+0.0im\n",
       "   0.0063871+0.0im   -0.0062483+0.0im      -0.0337839+0.0im\n",
       "  -0.0062483+0.0im    0.0063871+0.0im       0.0264958+0.0im\n",
       "  0.00642607+0.0im   -0.0062483+0.0im  …   -0.0337839+0.0im\n",
       "  -0.0062483+0.0im   0.00642607+0.0im       0.0457664+0.0im"
      ]
     },
     "execution_count": 41,
     "metadata": {},
     "output_type": "execute_result"
    }
   ],
   "source": [
    "cov_mat = calc_cov_mat(W, W, X, X, cl_scal[:,2][1:2*nside + 1], cl_scal[:,3][1:2*nside + 1], 4)"
   ]
  },
  {
   "cell_type": "code",
   "execution_count": 42,
   "id": "26073207-ac7f-4e52-aab3-513c0bbfc05b",
   "metadata": {},
   "outputs": [
    {
     "data": {
      "text/plain": [
       "true"
      ]
     },
     "execution_count": 42,
     "metadata": {},
     "output_type": "execute_result"
    }
   ],
   "source": [
    "cov_mat == transpose(cov_mat)"
   ]
  },
  {
   "cell_type": "code",
   "execution_count": 55,
   "id": "17d794f5-092b-4826-a9bb-21aee175e931",
   "metadata": {},
   "outputs": [
    {
     "data": {
      "text/plain": [
       "log_det (generic function with 1 method)"
      ]
     },
     "execution_count": 55,
     "metadata": {},
     "output_type": "execute_result"
    }
   ],
   "source": [
    "function log_det(A)\n",
    "    \n",
    "    logdet = sum(log.(eigvals(A)))\n",
    "    \n",
    "    return logdet\n",
    "    \n",
    "end"
   ]
  },
  {
   "cell_type": "code",
   "execution_count": 58,
   "id": "4647a98a-86a9-4ed3-ae78-e40bc26fe7f8",
   "metadata": {},
   "outputs": [
    {
     "data": {
      "text/plain": [
       "192-element Vector{Float64}:\n",
       " -2.1347658799514846e-16\n",
       " -1.5632240980733628e-16\n",
       " -1.5030828121479317e-16\n",
       " -1.1794470376487902e-16\n",
       " -1.1052660914319957e-16\n",
       " -1.0349286983826936e-16\n",
       " -9.483131480593418e-17\n",
       " -9.13490859253857e-17\n",
       " -8.885332309143981e-17\n",
       " -7.707403271706654e-17\n",
       " -7.300268455236639e-17\n",
       " -6.397317137266798e-17\n",
       " -5.720249145192706e-17\n",
       "  ⋮\n",
       "  0.290689019687373\n",
       "  0.2997259412320294\n",
       "  0.2997259412320296\n",
       "  0.31579115636712235\n",
       "  0.3157911563671228\n",
       "  0.39967301064823335\n",
       "  0.4810595511091348\n",
       "  0.4810595511091357\n",
       "  0.5654839217359292\n",
       "  0.7042718996574253\n",
       "  0.7097162065382332\n",
       "  1.0246612335818863"
      ]
     },
     "execution_count": 58,
     "metadata": {},
     "output_type": "execute_result"
    }
   ],
   "source": [
    "eigvals(cov_mat)"
   ]
  },
  {
   "cell_type": "code",
   "execution_count": 62,
   "id": "b3e0f70c-a700-49c9-b127-fe6df336865f",
   "metadata": {},
   "outputs": [],
   "source": [
    "#log.(eigvals(cov_mat))"
   ]
  },
  {
   "cell_type": "code",
   "execution_count": 50,
   "id": "c63fbf6d-3bce-41bb-85c0-25a51dea53a7",
   "metadata": {},
   "outputs": [
    {
     "data": {
      "text/plain": [
       "192×192 Matrix{ComplexF64}:\n",
       "   0.0457664+0.0im   -0.0337839+0.0im  …   -0.0062483+0.0im\n",
       "  -0.0337839+0.0im    0.0457664+0.0im      0.00642607+0.0im\n",
       "   0.0264958+0.0im   -0.0337839+0.0im      -0.0062483+0.0im\n",
       "  -0.0337839+0.0im    0.0264958+0.0im       0.0063871+0.0im\n",
       "   0.0274094+0.0im   -0.0116227+0.0im     -0.00490636+0.0im\n",
       "   0.0274094+0.0im   -0.0181208+0.0im  …  -0.00410684+0.0im\n",
       "  -0.0181208+0.0im    0.0274094+0.0im      0.00458842+0.0im\n",
       "  -0.0116227+0.0im    0.0274094+0.0im      0.00458842+0.0im\n",
       "   0.0122336+0.0im   -0.0181208+0.0im     -0.00410684+0.0im\n",
       "   0.0122336+0.0im   -0.0116227+0.0im     -0.00490636+0.0im\n",
       "  -0.0116227+0.0im    0.0122336+0.0im  …    0.0047112+0.0im\n",
       "  -0.0181208+0.0im    0.0122336+0.0im       0.0047112+0.0im\n",
       "   0.0116144+0.0im   -0.0013142+0.0im     -0.00425006+0.0im\n",
       "            ⋮                          ⋱  \n",
       "   0.0047112+0.0im  -0.00410684+0.0im  …   -0.0181208+0.0im\n",
       "   0.0047112+0.0im  -0.00490636+0.0im      -0.0116227+0.0im\n",
       " -0.00490636+0.0im    0.0047112+0.0im       0.0122336+0.0im\n",
       " -0.00410684+0.0im    0.0047112+0.0im       0.0122336+0.0im\n",
       "  0.00458842+0.0im  -0.00490636+0.0im      -0.0116227+0.0im\n",
       "  0.00458842+0.0im  -0.00410684+0.0im  …   -0.0181208+0.0im\n",
       " -0.00410684+0.0im   0.00458842+0.0im       0.0274094+0.0im\n",
       " -0.00490636+0.0im   0.00458842+0.0im       0.0274094+0.0im\n",
       "   0.0063871+0.0im   -0.0062483+0.0im      -0.0337839+0.0im\n",
       "  -0.0062483+0.0im    0.0063871+0.0im       0.0264958+0.0im\n",
       "  0.00642607+0.0im   -0.0062483+0.0im  …   -0.0337839+0.0im\n",
       "  -0.0062483+0.0im   0.00642607+0.0im       0.0457664+0.0im"
      ]
     },
     "execution_count": 50,
     "metadata": {},
     "output_type": "execute_result"
    }
   ],
   "source": [
    "cov_mat"
   ]
  },
  {
   "cell_type": "code",
   "execution_count": null,
   "id": "3d91ea72-f5dd-4740-9e13-cc05fd82aa02",
   "metadata": {},
   "outputs": [],
   "source": []
  },
  {
   "cell_type": "code",
   "execution_count": null,
   "id": "24a649b3-c41c-4f7c-965a-499b9612395b",
   "metadata": {},
   "outputs": [],
   "source": []
  },
  {
   "cell_type": "code",
   "execution_count": 43,
   "id": "aa8257ca-1357-42ca-a8d5-a8d355a2a109",
   "metadata": {},
   "outputs": [
    {
     "ename": "LoadError",
     "evalue": "UndefVarError: `c_ell` not defined",
     "output_type": "error",
     "traceback": [
      "UndefVarError: `c_ell` not defined",
      "",
      "Stacktrace:",
      " [1] top-level scope",
      "   @ In[43]:2"
     ]
    }
   ],
   "source": [
    "using PyPlot\n",
    "a = 1: length(c_ell[:,2])\n",
    "\n",
    "loglog(a, c_ell[:,2])\n",
    "loglog(a, c_ell[:,3])"
   ]
  },
  {
   "cell_type": "code",
   "execution_count": 39,
   "id": "ac8acbe6-7608-422d-9015-efc2b3f43862",
   "metadata": {},
   "outputs": [
    {
     "ename": "LoadError",
     "evalue": "UndefVarError: `c_ell` not defined",
     "output_type": "error",
     "traceback": [
      "UndefVarError: `c_ell` not defined",
      "",
      "Stacktrace:",
      " [1] top-level scope",
      "   @ In[39]:1"
     ]
    }
   ],
   "source": [
    "loglog(a, c_ell[:,2]./(2*pi./(a.*(a.+1))))\n",
    "loglog(a, c_ell[:,3]./(2*pi./(a.*(a.+1))))"
   ]
  },
  {
   "cell_type": "code",
   "execution_count": 40,
   "id": "223cafb5-e8b2-4591-bf6b-5dcec3ce525b",
   "metadata": {},
   "outputs": [],
   "source": [
    "#clEE = cl_scal[:,2][2:2*nside + 1]\n",
    "#clBB = cl_tens[:,3][2:2*nside + 1];"
   ]
  },
  {
   "cell_type": "code",
   "execution_count": null,
   "id": "4de8f1cf-9dde-4991-a909-a0519d1cb2ea",
   "metadata": {},
   "outputs": [],
   "source": []
  }
 ],
 "metadata": {
  "kernelspec": {
   "display_name": "Julia (4 threads) 1.9.1",
   "language": "julia",
   "name": "julia-4-threads-1.9"
  },
  "language_info": {
   "file_extension": ".jl",
   "mimetype": "application/julia",
   "name": "julia",
   "version": "1.9.1"
  }
 },
 "nbformat": 4,
 "nbformat_minor": 5
}
