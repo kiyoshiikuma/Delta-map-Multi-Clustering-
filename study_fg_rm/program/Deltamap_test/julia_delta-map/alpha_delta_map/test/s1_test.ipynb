{
 "cells": [
  {
   "cell_type": "code",
   "execution_count": 1,
   "id": "194002b2-d7b1-475e-9f17-e728995186a7",
   "metadata": {},
   "outputs": [
    {
     "name": "stdout",
     "output_type": "stream",
     "text": [
      "Using CAMB 1.5.2 installed at /Users/ikumakiyoshi/.julia/conda/3/lib/python3.10/site-packages/camb\n"
     ]
    }
   ],
   "source": [
    "using PyCall\n",
    "using PyPlot\n",
    "\n",
    "@pyimport sys\n",
    "pushfirst!(PyVector(pyimport(\"sys\")[\"path\"]), \"/Users/ikumakiyoshi/Library/Mobile Documents/com~apple~CloudDocs/study_fg_rm/program/Deltamap_test/julia_delta-map/function_julia\")\n",
    "\n",
    "@pyimport cmb_make_file as cmb_make\n",
    "@pyimport smoothing_map as sm\n",
    "\n",
    "include(\"/Users/ikumakiyoshi/Library/Mobile Documents/com~apple~CloudDocs/study_fg_rm/program/Deltamap_test/julia_delta-map/function_julia/make_data_m.jl\")\n",
    "include(\"/Users/ikumakiyoshi/Library/Mobile Documents/com~apple~CloudDocs/study_fg_rm/program/Deltamap_test/julia_delta-map/function_julia/Delta_map.jl\")\n",
    "include(\"/Users/ikumakiyoshi/Library/Mobile Documents/com~apple~CloudDocs/study_fg_rm/program/Deltamap_test/julia_delta-map/function_julia/Delta_map_alpha.jl\")\n",
    "include(\"/Users/ikumakiyoshi/Library/Mobile Documents/com~apple~CloudDocs/study_fg_rm/program/Deltamap_test/julia_delta-map/function_julia/cov_mat_calc.jl\")\n",
    "include(\"/Users/ikumakiyoshi/Library/Mobile Documents/com~apple~CloudDocs/study_fg_rm/program/Deltamap_test/julia_delta-map/function_julia/calc_noise.jl\");"
   ]
  },
  {
   "cell_type": "code",
   "execution_count": 2,
   "id": "e92d3bc5-3d4e-4c8d-8ddb-582e2c85f5a8",
   "metadata": {},
   "outputs": [
    {
     "name": "stdout",
     "output_type": "stream",
     "text": [
      " WARNING: nu_mass_degeneracies ignored when share_delta_neff\n",
      " WARNING: nu_mass_degeneracies ignored when share_delta_neff\n"
     ]
    }
   ],
   "source": [
    "random_seed_cmb = 5123\n",
    "#seed_syn = 12345\n",
    "seed_syn = 5123\n",
    "nside = 4\n",
    "\n",
    "r = 0.01\n",
    "\n",
    "cmb_data = cmb_make.cmb_make_file(nside, r, random_seed_cmb, seed_syn);\n",
    "cl_scal, cl_tens = cmb_make.cmb_cl_calc(nside, random_seed_cmb, seed_syn);"
   ]
  },
  {
   "cell_type": "code",
   "execution_count": 3,
   "id": "5424a9cf-6a1b-4574-a014-d2a427e34069",
   "metadata": {},
   "outputs": [],
   "source": [
    "xx = [cmb_data[2, :]; cmb_data[3, :]];"
   ]
  },
  {
   "cell_type": "markdown",
   "id": "a79d4e78-ed0b-46b1-9e3f-183c0ab52891",
   "metadata": {},
   "source": [
    "### smoothing MAP"
   ]
  },
  {
   "cell_type": "code",
   "execution_count": 4,
   "id": "af840ec7-9b13-4ee8-a234-6112411fcec4",
   "metadata": {},
   "outputs": [
    {
     "name": "stderr",
     "output_type": "stream",
     "text": [
      "WARNING: AstropyDeprecationWarning: \"verbose\" was deprecated in version 1.15.0 and will be removed in a future version.  [smoothing_map]\n"
     ]
    },
    {
     "data": {
      "text/plain": [
       "3×192 Matrix{Float64}:\n",
       " -11.4344      1.52072    14.9311     …   4.95507    11.976      -24.9651\n",
       "   0.0377907  -0.0347915   0.0986203      0.0531961   0.066438    -0.137324\n",
       "  -0.0574466  -0.0515513   0.060389      -0.112901    0.0719017   -0.0395733"
      ]
     },
     "execution_count": 4,
     "metadata": {},
     "output_type": "execute_result"
    }
   ],
   "source": [
    "smoothing_cmb_map = sm.smootinhg_map(cmb_data, nside)"
   ]
  },
  {
   "cell_type": "code",
   "execution_count": 5,
   "id": "0f71ee91-eaee-4572-8633-68eb3f805a41",
   "metadata": {},
   "outputs": [],
   "source": [
    "xxx = [smoothing_cmb_map[2, :]; smoothing_cmb_map[3, :]];"
   ]
  },
  {
   "cell_type": "code",
   "execution_count": 6,
   "id": "d7a7813c-0152-431e-ab1c-9a364a44cc51",
   "metadata": {},
   "outputs": [],
   "source": [
    "# ここミスった\n",
    "cl_scal_EE = cl_scal[:,2][1:2*nside+1]\n",
    "cl_scal_BB = cl_scal[:,3][1:2*nside+1]\n",
    "cl_tens_EE = cl_tens[:,2][1:2*nside+1]\n",
    "cl_tens_BB = cl_tens[:,3][1:2*nside+1];"
   ]
  },
  {
   "cell_type": "code",
   "execution_count": 7,
   "id": "08c3d6fa-9671-4af6-9fb3-597b6d4bf307",
   "metadata": {},
   "outputs": [],
   "source": [
    "#freq_band = [40, 50, 100, 140, 280, 402]\n",
    "freq_band = [40, 100, 140]\n",
    "which_model = \"s1\";"
   ]
  },
  {
   "cell_type": "code",
   "execution_count": 8,
   "id": "8cd64755-3b38-4c75-b1a3-efe5a648aedc",
   "metadata": {},
   "outputs": [],
   "source": [
    "beta_s, freq_bs, freq_bd, beta_d, T_d = -3, 23*10^9, 353*10^9, 1.5, 20.1\n",
    "\n",
    "# (freq_band, cmb_freq, nside, cmb_data, \"s1\", freq_bs, beta_s, freq_bd, beta_d, T_d)\n",
    "Q, U, x_map = calc_x_pra(freq_band, 140, nside, cmb_data, \"s1\", freq_bs, beta_s, freq_bd, beta_d, T_d);"
   ]
  },
  {
   "cell_type": "code",
   "execution_count": 9,
   "id": "2615e725-c250-4f73-b80d-62734312c379",
   "metadata": {},
   "outputs": [
    {
     "name": "stdout",
     "output_type": "stream",
     "text": [
      "  0.000830 seconds (397 allocations: 126.211 KiB)\n"
     ]
    }
   ],
   "source": [
    "@time calc_x_pra(freq_band, 140, nside, cmb_data, \"s1\", freq_bs, beta_s, freq_bd, beta_d, T_d);"
   ]
  },
  {
   "cell_type": "code",
   "execution_count": 10,
   "id": "3846717a-d0fc-43b5-aedf-1b9db4c844de",
   "metadata": {},
   "outputs": [
    {
     "name": "stdout",
     "output_type": "stream",
     "text": [
      "  3.174471 seconds (19.50 M allocations: 3.111 GiB, 10.46% gc time, 292.31% compilation time)\n",
      "  0.448447 seconds (13.09 M allocations: 2.700 GiB, 46.91% gc time)\n"
     ]
    }
   ],
   "source": [
    "@time cov_mat_scal = calc_cmb_cov_mat(cl_scal_EE, cl_scal_BB, nside)\n",
    "@time cov_mat_tens = calc_cmb_cov_mat(cl_tens_EE, cl_tens_BB, nside);"
   ]
  },
  {
   "cell_type": "code",
   "execution_count": 11,
   "id": "776fa47d-f953-4e2c-be9e-ad82b6c07c67",
   "metadata": {},
   "outputs": [],
   "source": [
    "using NPZ\n",
    "\n",
    "cov_mat_scal_py = npzread(\"/Users/ikumakiyoshi/Library/Mobile Documents/com~apple~CloudDocs/study_fg_rm/program/Deltamap_test/julia_delta-map/python_cov_mat/cov_mat_scal_2.npy\")\n",
    "cov_mat_tens_py = npzread(\"/Users/ikumakiyoshi/Library/Mobile Documents/com~apple~CloudDocs/study_fg_rm/program/Deltamap_test/julia_delta-map/python_cov_mat/cov_mat_tens_2.npy\");"
   ]
  },
  {
   "cell_type": "code",
   "execution_count": 12,
   "id": "6c70a6b1-54b7-4f71-883c-8b42221a63a3",
   "metadata": {},
   "outputs": [],
   "source": [
    "cov_mat = calc_all_cov_mat(cov_mat_scal, cov_mat_tens, r);\n",
    "cov_mat_py = calc_all_cov_mat(cov_mat_scal_py, cov_mat_tens_py, r);"
   ]
  },
  {
   "cell_type": "code",
   "execution_count": 13,
   "id": "1a168911-eb11-4ff0-a0a2-16369d0d626f",
   "metadata": {},
   "outputs": [],
   "source": [
    "cov_mat;"
   ]
  },
  {
   "cell_type": "code",
   "execution_count": 14,
   "id": "fc6e2d9f-af8c-45e7-b467-ddd0be96c557",
   "metadata": {},
   "outputs": [
    {
     "data": {
      "image/png": "[encoded data removed]",
      "text/plain": [
       "Figure(PyObject <Figure size 640x480 with 1 Axes>)"
      ]
     },
     "metadata": {},
     "output_type": "display_data"
    },
    {
     "data": {
      "text/plain": [
       "PyObject <matplotlib.legend.Legend object at 0x2831aef20>"
      ]
     },
     "execution_count": 14,
     "metadata": {},
     "output_type": "execute_result"
    }
   ],
   "source": [
    "using PyPlot\n",
    "\n",
    "len = 1:1:147456\n",
    "\n",
    "PyPlot.plot(len, cov_mat_scal[:], label = \"scal\")\n",
    "PyPlot.plot(len, cov_mat_tens[:], label = \"tens\", linestyle = \"dashed\")\n",
    "PyPlot.grid()\n",
    "PyPlot.xlim(1, 1000)\n",
    "PyPlot.legend()"
   ]
  },
  {
   "cell_type": "code",
   "execution_count": 15,
   "id": "efd308c5-0998-4648-ba84-f45ff2c71146",
   "metadata": {},
   "outputs": [
    {
     "data": {
      "text/plain": [
       "147456"
      ]
     },
     "execution_count": 15,
     "metadata": {},
     "output_type": "execute_result"
    }
   ],
   "source": [
    "prod(size(cov_mat))"
   ]
  },
  {
   "cell_type": "code",
   "execution_count": 16,
   "id": "80e99eb9-1fe6-4684-89eb-38155b022bfe",
   "metadata": {},
   "outputs": [],
   "source": [
    "#using Plots \n",
    "\n",
    "#heatmap(cov_mat)"
   ]
  },
  {
   "cell_type": "code",
   "execution_count": 17,
   "id": "ec8c2e44-2623-4aad-976a-bb466bf9c325",
   "metadata": {},
   "outputs": [],
   "source": [
    "cov_mat - cov_mat_py;"
   ]
  },
  {
   "cell_type": "code",
   "execution_count": 18,
   "id": "8d244b9f-bae7-431e-91fd-367c2c8b4475",
   "metadata": {},
   "outputs": [
    {
     "data": {
      "text/plain": [
       "true"
      ]
     },
     "execution_count": 18,
     "metadata": {},
     "output_type": "execute_result"
    }
   ],
   "source": [
    "all(cov_mat - cov_mat_py .≤ 1e-6)"
   ]
  },
  {
   "cell_type": "code",
   "execution_count": 19,
   "id": "fa5eb5da-a5d3-4dc0-b3d9-3be6f7341709",
   "metadata": {},
   "outputs": [],
   "source": [
    "noise_seed = [1, 2, 3]\n",
    "pol_sen = 0.2 # μK\n",
    "nside = 4\n",
    "\n",
    "art_noise_cov_mat =  calc_noise_cov_mat(pol_sen, nside, noise_seed);\n",
    "art_noise_map, sigma = calc_noise_map(pol_sen, nside, noise_seed);"
   ]
  },
  {
   "cell_type": "markdown",
   "id": "6ce8cbd8-1c37-4ab2-a751-e6e1bc3de2e1",
   "metadata": {},
   "source": [
    "### logdetの計算"
   ]
  },
  {
   "cell_type": "code",
   "execution_count": 20,
   "id": "3f756f67-48a1-420a-acc3-232d51d3da77",
   "metadata": {},
   "outputs": [
    {
     "data": {
      "text/plain": [
       "-4640.168000454326"
      ]
     },
     "execution_count": 20,
     "metadata": {},
     "output_type": "execute_result"
    }
   ],
   "source": [
    "log_det(cov_mat + art_noise_cov_mat)"
   ]
  },
  {
   "cell_type": "code",
   "execution_count": 21,
   "id": "800e3638-96e1-4f04-95de-65e15457b762",
   "metadata": {},
   "outputs": [
    {
     "data": {
      "text/plain": [
       "-4640.168000461168"
      ]
     },
     "execution_count": 21,
     "metadata": {},
     "output_type": "execute_result"
    }
   ],
   "source": [
    "cholesky_logdet(cov_mat + art_noise_cov_mat)"
   ]
  },
  {
   "cell_type": "code",
   "execution_count": 22,
   "id": "77681ede-1e0f-40ad-b7f2-4afee362cb4f",
   "metadata": {},
   "outputs": [
    {
     "data": {
      "text/plain": [
       "-4640.1677085847405"
      ]
     },
     "execution_count": 22,
     "metadata": {},
     "output_type": "execute_result"
    }
   ],
   "source": [
    "log_det(cov_mat_py + art_noise_cov_mat)"
   ]
  },
  {
   "cell_type": "code",
   "execution_count": 23,
   "id": "9bbbbaea-3af9-4e63-9622-a82ac7056c4a",
   "metadata": {},
   "outputs": [
    {
     "data": {
      "text/plain": [
       "-Inf"
      ]
     },
     "execution_count": 23,
     "metadata": {},
     "output_type": "execute_result"
    }
   ],
   "source": [
    "log(det(cov_mat + art_noise_cov_mat))"
   ]
  },
  {
   "cell_type": "code",
   "execution_count": 24,
   "id": "92c63d33-dccc-40a7-868e-95a09ff0f956",
   "metadata": {},
   "outputs": [],
   "source": [
    "noise_map = [art_noise_map[1]; art_noise_map[2]];"
   ]
  },
  {
   "cell_type": "markdown",
   "id": "2909d337-c9e3-4f57-87df-e801ce57b786",
   "metadata": {},
   "source": [
    "### clean_mapの確認"
   ]
  },
  {
   "cell_type": "code",
   "execution_count": 25,
   "id": "be377c05-ba7d-4898-8610-703545b64607",
   "metadata": {},
   "outputs": [],
   "source": [
    "#==\n",
    "using PyCall\n",
    "\n",
    "npix = nside2npix(nside)\n",
    "\n",
    "plt = pyimport(\"matplotlib.pyplot\")\n",
    "hp = pyimport(\"healpy\")\n",
    "\n",
    "fig, (ax1, ax2) = plt.subplots(ncols=2, figsize=(12, 6))\n",
    "\n",
    "plt.axes(ax1)\n",
    "hp.mollview(x[1:npix], title=\"clean_map_Q\", hold=true)\n",
    "\n",
    "plt.axes(ax2)\n",
    "hp.mollview(x[npix + 1:2 * npix], title=\"clean_map_U\", hold=true)\n",
    "\n",
    "fig, (ax1, ax2) = plt.subplots(ncols=2, figsize=(12, 6))\n",
    "\n",
    "plt.axes(ax1)\n",
    "hp.mollview(cmb_data[2, :], title=\"Imput_map_Q\", hold=true)\n",
    "\n",
    "plt.axes(ax2)\n",
    "hp.mollview(cmb_data[3, :], title=\"Imput_map_U\", hold=true)\n",
    "\n",
    "fig, (ax1, ax2) = plt.subplots(ncols=2, figsize=(12, 6))\n",
    "\n",
    "plt.axes(ax1)\n",
    "hp.mollview(smoothing_cmb_map[2, :], title=\"Imput_map_Q\", hold=true)\n",
    "\n",
    "plt.axes(ax2)\n",
    "hp.mollview(smoothing_cmb_map[3, :], title=\"Imput_map_U\", hold=true)\n",
    "==#"
   ]
  },
  {
   "cell_type": "code",
   "execution_count": 26,
   "id": "e07a7b1c-74fc-4448-9e01-61126a9d4004",
   "metadata": {},
   "outputs": [],
   "source": [
    "cov_mat_py1 = npzread(\"/Users/ikumakiyoshi/Library/Mobile Documents/com~apple~CloudDocs/study_fg_rm/program/Deltamap_test/julia_delta-map/python_cov_mat/cov_mat_py.npy\")\n",
    "xx_py = npzread(\"/Users/ikumakiyoshi/Library/Mobile Documents/com~apple~CloudDocs/study_fg_rm/program/Deltamap_test/julia_delta-map/python_cov_mat/xx_py.npy\");"
   ]
  },
  {
   "cell_type": "code",
   "execution_count": 27,
   "id": "3c7431be-304b-4742-bcf3-0b5c32d9c119",
   "metadata": {},
   "outputs": [],
   "source": [
    "#x_map' / cov_mat * x_map"
   ]
  },
  {
   "cell_type": "code",
   "execution_count": 28,
   "id": "72c128a7-65ee-440a-9473-8a905ce99b21",
   "metadata": {},
   "outputs": [],
   "source": [
    "#xx_py' / cov_mat_py1 * xx_py"
   ]
  },
  {
   "cell_type": "code",
   "execution_count": 29,
   "id": "d185e465-305e-42cb-804c-1dd28024118c",
   "metadata": {},
   "outputs": [],
   "source": [
    "#x_map' / cov_mat_py1 * x_map"
   ]
  },
  {
   "cell_type": "code",
   "execution_count": 30,
   "id": "ea68473c-129e-40ab-8d72-69e6ca07667f",
   "metadata": {},
   "outputs": [],
   "source": [
    "#xx - xx_py;"
   ]
  },
  {
   "cell_type": "code",
   "execution_count": 31,
   "id": "5655caca-6d5a-4651-9231-61f9be716b07",
   "metadata": {},
   "outputs": [],
   "source": [
    "# lmaxの違いだった\n",
    "#==\n",
    "\n",
    "using PyPlot\n",
    "hp = pyimport(\"healpy\")\n",
    "\n",
    "fig, (ax1, ax2) = plt.subplots(ncols=2, figsize=(12, 6))\n",
    "\n",
    "plt.axes(ax1)\n",
    "hp.mollview(xx[1:192, 1], title=\"julia_Q\", hold=true)\n",
    "\n",
    "plt.axes(ax2)\n",
    "hp.mollview(xx[193:384, 1], title=\"julia_U\", hold=true)\n",
    "\n",
    "fig, (ax1, ax2) = plt.subplots(ncols=2, figsize=(12, 6))\n",
    "\n",
    "plt.axes(ax1)\n",
    "hp.mollview(xx_py[1:192, 1], title=\"python_Q\", hold=true)\n",
    "\n",
    "plt.axes(ax2)\n",
    "hp.mollview(xx_py[193:384, 1], title=\"python_U\", hold=true)\n",
    "\n",
    "==#"
   ]
  },
  {
   "cell_type": "code",
   "execution_count": null,
   "id": "b7069d35-71b3-4309-b9e1-d21b3baf0cda",
   "metadata": {},
   "outputs": [],
   "source": []
  },
  {
   "cell_type": "code",
   "execution_count": 32,
   "id": "b82640e3-df11-4284-8291-3ecd2fede122",
   "metadata": {},
   "outputs": [],
   "source": [
    "# いい精度であってる\n",
    "#cov_mat - cov_mat_py1"
   ]
  },
  {
   "cell_type": "markdown",
   "id": "fd2f31cf-8770-4367-adf7-38f36b0e6e6b",
   "metadata": {},
   "source": [
    "### likelihood for ループ"
   ]
  },
  {
   "cell_type": "code",
   "execution_count": 63,
   "id": "d0458cef-e65f-4d25-8e69-736aa90ae7cf",
   "metadata": {},
   "outputs": [
    {
     "name": "stdout",
     "output_type": "stream",
     "text": [
      " 25.504597 seconds (269.01 k allocations: 66.078 GiB, 9.62% gc time)\n"
     ]
    }
   ],
   "source": [
    "r_in = 0:1e-4:1\n",
    "like_array = zeros(length(r_in))\n",
    "i = 1\n",
    "#setprecision(BigFloat, 100) \n",
    "\n",
    "Q, U, x_map = calc_x_pra(freq_band, 140, nside, cmb_data, \"s1\", freq_bs, -3., freq_bd, beta_d, T_d);\n",
    "\n",
    "@inbounds @time for r_pre in r_in\n",
    "    \n",
    "    cov_mat = calc_all_cov_mat(cov_mat_scal, cov_mat_tens, r_pre) + art_noise_cov_mat\n",
    "\n",
    "    x_with_noise = x_map + noise_map\n",
    "\n",
    "    #det_C = log_det(cov_mat)\n",
    "\n",
    "    # コレスキー ver\n",
    "    det_C = cholesky_logdet(cov_mat)\n",
    "\n",
    "    like_array[i] = x_with_noise' / cov_mat * x_with_noise + det_C\n",
    "\n",
    "    i += 1\n",
    "    \n",
    "    #push!(like_array, x_with_noise' / cov_mat * x_with_noise + det_C)\n",
    "\n",
    "    #================python======================#\n",
    "    #cov_mat_py = calc_all_cov_mat(cov_mat_scal_py, cov_mat_tens_py, r_pre) + art_noise_cov_mat\n",
    "    #det_C = cholesky_logdet(cov_mat_py)\n",
    "    #push!(like_array, x_with_noise' / cov_mat_py * x_with_noise  + det_C)\n",
    "    \n",
    "    # big float\n",
    "    #push!(like_array, big.(x_map)' / big.(cov_mat) * big.(x_map) + big.(det_C))\n",
    "\n",
    "end"
   ]
  },
  {
   "cell_type": "code",
   "execution_count": 64,
   "id": "7bde7dbe-5a89-4797-80aa-618d7143c1ae",
   "metadata": {},
   "outputs": [],
   "source": [
    "like_array = (like_array ./ maximum(like_array));"
   ]
  },
  {
   "cell_type": "code",
   "execution_count": 65,
   "id": "4ac31139-b00c-40ea-adc5-13d543977e83",
   "metadata": {},
   "outputs": [
    {
     "data": {
      "image/png": "[encoded data removed]",
      "text/plain": [
       "Figure(PyObject <Figure size 640x480 with 1 Axes>)"
      ]
     },
     "metadata": {},
     "output_type": "display_data"
    }
   ],
   "source": [
    "using PyPlot\n",
    "PyPlot.plot(r_in, like_array)\n",
    "PyPlot.grid()"
   ]
  },
  {
   "cell_type": "code",
   "execution_count": 66,
   "id": "33848694-67e8-41b8-ab0e-1e51202f1b1b",
   "metadata": {},
   "outputs": [
    {
     "data": {
      "text/plain": [
       "0.0078"
      ]
     },
     "execution_count": 66,
     "metadata": {},
     "output_type": "execute_result"
    }
   ],
   "source": [
    "#r_in[argmin(like_array)]\n",
    "\n",
    "r_in[argmax(like_array)]"
   ]
  },
  {
   "cell_type": "markdown",
   "id": "f7d3c2a4-01db-4004-b08c-c3c4e89483b3",
   "metadata": {},
   "source": [
    "### χ^2のループ"
   ]
  },
  {
   "cell_type": "code",
   "execution_count": 71,
   "id": "607bb62c-ec33-4f3a-ae92-019c9a4d66c9",
   "metadata": {},
   "outputs": [
    {
     "name": "stdout",
     "output_type": "stream",
     "text": [
      "  3.414840 seconds (821.91 k allocations: 2.458 GiB, 3.37% gc time)\n"
     ]
    }
   ],
   "source": [
    "chi_sq_array = []\n",
    "\n",
    "beta_in = -4:1e-3:-2\n",
    "\n",
    "cov_mat = calc_all_cov_mat(cov_mat_scal, cov_mat_tens, 0.01) + art_noise_cov_mat\n",
    "\n",
    "#setprecision(BigFloat, 100) \n",
    "\n",
    "@time for beta_pre in beta_in\n",
    "\n",
    "    Q, U, x_map = calc_x_pra(freq_band, 140, nside, cmb_data, \"s1\", freq_bs, beta_pre, freq_bd, beta_d, T_d)\n",
    "    \n",
    "    x = x_map + noise_map\n",
    "\n",
    "    push!(chi_sq_array, x_map' / cov_mat * x_map)\n",
    "\n",
    "    #push!(like_array, big.(x_map)' / big.(cov_mat) * big.(x_map) + big.(det_C))\n",
    "end"
   ]
  },
  {
   "cell_type": "code",
   "execution_count": 72,
   "id": "a096a601-577f-4167-97d3-79c9fd25f015",
   "metadata": {},
   "outputs": [
    {
     "data": {
      "image/png": "[encoded data removed]",
      "text/plain": [
       "Figure(PyObject <Figure size 640x480 with 1 Axes>)"
      ]
     },
     "metadata": {},
     "output_type": "display_data"
    }
   ],
   "source": [
    "fig = ()\n",
    "PyPlot.plot(beta_in, chi_sq_array)\n",
    "PyPlot.grid()"
   ]
  },
  {
   "cell_type": "code",
   "execution_count": 73,
   "id": "7d006d81-491e-47c3-9b5f-bf70f1d86e77",
   "metadata": {},
   "outputs": [
    {
     "data": {
      "text/plain": [
       "-3.009"
      ]
     },
     "execution_count": 73,
     "metadata": {},
     "output_type": "execute_result"
    }
   ],
   "source": [
    "chi_sq_array\n",
    "beta_in[argmin(chi_sq_array)]"
   ]
  },
  {
   "cell_type": "markdown",
   "id": "d0bff1e9-c348-430b-89ee-84489e889bde",
   "metadata": {},
   "source": [
    "### Optimによるパラメータ推定"
   ]
  },
  {
   "cell_type": "code",
   "execution_count": 40,
   "id": "ec55fb33-5272-4402-a0db-89a69cfa1955",
   "metadata": {},
   "outputs": [
    {
     "data": {
      "text/plain": [
       "minimize_function_chi_sq (generic function with 1 method)"
      ]
     },
     "execution_count": 40,
     "metadata": {},
     "output_type": "execute_result"
    }
   ],
   "source": [
    "r = 0.001\n",
    "\n",
    "function minimize_function_chi_sq(param)\n",
    "    \n",
    "    #beta_s, r = param[1], param[2]\n",
    "    beta_s = param\n",
    "    \n",
    "    cov_mat = calc_all_cov_mat(cov_mat_scal, cov_mat_tens, r) + art_noise_cov_mat\n",
    "\n",
    "    Q_1, U_1, x_map = calc_x_pra(freq_band, 140, nside, cmb_data, \"s1\", freq_bs, beta_s, freq_bd, beta_d, T_d)\n",
    "\n",
    "    x_with_noise = x_map + noise_map\n",
    "    \n",
    "    return x_map' / cov_mat * x_map\n",
    "\n",
    "end"
   ]
  },
  {
   "cell_type": "code",
   "execution_count": 41,
   "id": "187af689-e256-48b6-8cc4-cb7e3b34a4ae",
   "metadata": {},
   "outputs": [
    {
     "data": {
      "text/plain": [
       "minimize_function_like (generic function with 1 method)"
      ]
     },
     "execution_count": 41,
     "metadata": {},
     "output_type": "execute_result"
    }
   ],
   "source": [
    "beta_s = -3.\n",
    "\n",
    "function minimize_function_like(param)\n",
    "\n",
    "    #beta_s, r = param[1], param[2]\n",
    "    r = param\n",
    "    \n",
    "    cov_mat = calc_all_cov_mat(cov_mat_scal, cov_mat_tens, r) + art_noise_cov_mat\n",
    "\n",
    "    Q_1, U_1, x_map = calc_x_pra(freq_band, 140, nside, cmb_data, \"s1\", freq_bs, beta_s, freq_bd, beta_d, T_d)\n",
    "\n",
    "    x_with_noise = x_map + noise_map\n",
    "    \n",
    "    det_C = cholesky_logdet(cov_mat)\n",
    "    \n",
    "    return x_with_noise' / cov_mat * x_with_noise + det_C\n",
    "\n",
    "end"
   ]
  },
  {
   "cell_type": "code",
   "execution_count": 42,
   "id": "2f373a20-4139-4df9-bf05-b5b7dea71701",
   "metadata": {},
   "outputs": [
    {
     "name": "stdout",
     "output_type": "stream",
     "text": [
      "Results of Optimization Algorithm\n",
      " * Algorithm: Brent's Method\n",
      " * Search Interval: [-4.000000, -2.000000]\n",
      " * Minimizer: -3.008673e+00\n",
      " * Minimum: 1.313316e+03\n",
      " * Iterations: 14\n",
      " * Convergence: max(|x - x_upper|, |x - x_lower|) <= 2*(1.5e-08*|x|+2.2e-16): true\n",
      " * Objective Function Calls: 15\n"
     ]
    }
   ],
   "source": [
    "using Optim\n",
    "\n",
    "result = optimize(minimize_function_chi_sq, -4.0, -2.0) #-2から1の間の最小値を探す。\n",
    "\n",
    "optimal_values = Optim.minimizer(result)\n",
    "minimized_value = Optim.minimum(result)\n",
    "\n",
    "# 結果の表示\n",
    "println(result)"
   ]
  },
  {
   "cell_type": "code",
   "execution_count": 43,
   "id": "10dc7a94-4abc-4d39-b177-786b2a23ce1c",
   "metadata": {},
   "outputs": [
    {
     "data": {
      "text/plain": [
       "-3.0086732017463063"
      ]
     },
     "execution_count": 43,
     "metadata": {},
     "output_type": "execute_result"
    }
   ],
   "source": [
    "optimal_values"
   ]
  },
  {
   "cell_type": "code",
   "execution_count": 44,
   "id": "5a0a69e3-2bde-4edf-ac75-8ef77118d967",
   "metadata": {},
   "outputs": [
    {
     "name": "stdout",
     "output_type": "stream",
     "text": [
      "Results of Optimization Algorithm\n",
      " * Algorithm: Brent's Method\n",
      " * Search Interval: [0.000000, 1.000000]\n",
      " * Minimizer: 7.772911e-03\n",
      " * Minimum: -3.481156e+03\n",
      " * Iterations: 32\n",
      " * Convergence: max(|x - x_upper|, |x - x_lower|) <= 2*(1.5e-08*|x|+2.2e-16): true\n",
      " * Objective Function Calls: 33\n"
     ]
    }
   ],
   "source": [
    "using Optim\n",
    "\n",
    "result = optimize(minimize_function_like, 0., 1) #-2から1の間の最小値を探す。\n",
    "\n",
    "optimal_values = Optim.minimizer(result)\n",
    "minimized_value = Optim.minimum(result)\n",
    "\n",
    "# 結果の表示\n",
    "println(result)"
   ]
  },
  {
   "cell_type": "code",
   "execution_count": 45,
   "id": "5bf3e6ea-4a38-4e09-ae98-b7e5092f78ca",
   "metadata": {},
   "outputs": [
    {
     "data": {
      "text/plain": [
       "0.007772911378975566"
      ]
     },
     "execution_count": 45,
     "metadata": {},
     "output_type": "execute_result"
    }
   ],
   "source": [
    "optimal_values\n",
    "#minimized_value"
   ]
  },
  {
   "cell_type": "markdown",
   "id": "74dedd94-5f37-4e5c-8874-4532fcd7ea75",
   "metadata": {},
   "source": [
    "### 最小化のアルゴリズム"
   ]
  },
  {
   "cell_type": "code",
   "execution_count": 87,
   "id": "37184ef6-139d-45eb-9213-06ad9e0d8931",
   "metadata": {},
   "outputs": [
    {
     "data": {
      "text/plain": [
       "minimize_function_like (generic function with 1 method)"
      ]
     },
     "execution_count": 87,
     "metadata": {},
     "output_type": "execute_result"
    }
   ],
   "source": [
    "include(\"/Users/ikumakiyoshi/Library/Mobile Documents/com~apple~CloudDocs/study_fg_rm/program/Deltamap_test/julia_delta-map/function_julia/param_estimate.jl\")\n"
   ]
  },
  {
   "cell_type": "code",
   "execution_count": 88,
   "id": "2e7185d0-9eed-4808-bfe5-49be218f9a95",
   "metadata": {},
   "outputs": [],
   "source": [
    "#pram_estimate(r, freq_band, 140, nside, cmb_data, which_model, freq_bs, beta_s, freq_bd, beta_d, T_d, cov_mat_scal, cov_mat_tens)\n",
    "\n"
   ]
  },
  {
   "cell_type": "code",
   "execution_count": 77,
   "id": "a0480b0a-77e2-4ecd-8c63-0bb9ef68ca5d",
   "metadata": {},
   "outputs": [
    {
     "data": {
      "text/plain": [
       "minimize_function_chi_sq (generic function with 2 methods)"
      ]
     },
     "execution_count": 77,
     "metadata": {},
     "output_type": "execute_result"
    }
   ],
   "source": [
    "function minimize_function_chi_sq(beta_s, r)\n",
    "    \n",
    "    cov_mat = calc_all_cov_mat(cov_mat_scal, cov_mat_tens, r) + art_noise_cov_mat\n",
    "\n",
    "    Q_1, U_1, x_map = calc_x_pra(freq_band, 140, nside, cmb_data, \"s1\", freq_bs, beta_s, freq_bd, beta_d, T_d)\n",
    "\n",
    "    x_with_noise = x_map + noise_map\n",
    "    \n",
    "    return x_with_noise' / cov_mat * x_with_noise\n",
    "\n",
    "end"
   ]
  },
  {
   "cell_type": "code",
   "execution_count": 83,
   "id": "0e280455-c1e6-4d44-8d82-d5375b9baf1f",
   "metadata": {},
   "outputs": [
    {
     "data": {
      "text/plain": [
       "minimize_function_like (generic function with 2 methods)"
      ]
     },
     "execution_count": 83,
     "metadata": {},
     "output_type": "execute_result"
    }
   ],
   "source": [
    "function minimize_function_like(r, beta_s)\n",
    "\n",
    "    cov_mat = calc_all_cov_mat(cov_mat_scal, cov_mat_tens, r) + art_noise_cov_mat\n",
    "\n",
    "    Q_1, U_1, x_map = calc_x_pra(freq_band, 140, nside, cmb_data, \"s1\", freq_bs, beta_s, freq_bd, beta_d, T_d)\n",
    "\n",
    "    x_with_noise = x_map + noise_map\n",
    "    \n",
    "    det_C = cholesky_logdet(cov_mat)\n",
    "    \n",
    "    return x_with_noise' / cov_mat * x_with_noise + det_C\n",
    "\n",
    "end"
   ]
  },
  {
   "cell_type": "code",
   "execution_count": 79,
   "id": "3dc5267f-f448-483e-a136-6d5db8859b05",
   "metadata": {},
   "outputs": [
    {
     "name": "stdout",
     "output_type": "stream",
     "text": [
      "Optimum beta_s: -3.0091196655785786\n",
      "Minimum value: 1493.7447685376465\n"
     ]
    }
   ],
   "source": [
    "using Optim\n",
    "\n",
    "# 固定するrの値と初期のbeta_sの値を設定します\n",
    "fixed_r = 0.001\n",
    "initial_beta_s = -3 # 初期値は範囲の中心に設定\n",
    "\n",
    "# 最適化のための関数を定義\n",
    "objective_function(beta_s) = minimize_function_chi_sq(beta_s, fixed_r)\n",
    "\n",
    "# 最適化オプションを設定（Brent法を使用）\n",
    "opt = optimize(objective_function, -4.0, -2.0, Brent())\n",
    "\n",
    "# 結果を取得\n",
    "optimum_beta_s = Optim.minimizer(opt)\n",
    "optimum_value = Optim.minimum(opt)\n",
    "\n",
    "println(\"Optimum beta_s: \", optimum_beta_s)\n",
    "println(\"Minimum value: \", optimum_value)"
   ]
  },
  {
   "cell_type": "code",
   "execution_count": 85,
   "id": "618e9c44-0092-4688-a52a-b52d22b53da0",
   "metadata": {},
   "outputs": [
    {
     "name": "stdout",
     "output_type": "stream",
     "text": [
      "Optimum beta_s: 0.007772911378975566\n",
      "Minimum value: -3481.156481142707\n"
     ]
    }
   ],
   "source": [
    "using Optim\n",
    "\n",
    "initial_r = 0.001\n",
    "fixed_beta_s = -3\n",
    "\n",
    "# 最適化のための関数を定義\n",
    "objective_function(r) = minimize_function_like(r, fixed_beta_s)\n",
    "\n",
    "# 最適化オプションを設定（Brent法を使用）\n",
    "opt = optimize(objective_function, 0., 1., Brent())\n",
    "\n",
    "# 結果を取得\n",
    "optimum_r = Optim.minimizer(opt)\n",
    "optimum_value = Optim.minimum(opt)\n",
    "\n",
    "println(\"Optimum beta_s: \", optimum_r)\n",
    "println(\"Minimum value: \", optimum_value)"
   ]
  },
  {
   "cell_type": "code",
   "execution_count": null,
   "id": "115e5c61-c7e4-4a80-848b-24de580e31b8",
   "metadata": {},
   "outputs": [],
   "source": []
  },
  {
   "cell_type": "code",
   "execution_count": null,
   "id": "320a9b90-e786-4497-92a6-7eb9e58ff577",
   "metadata": {},
   "outputs": [],
   "source": []
  },
  {
   "cell_type": "code",
   "execution_count": null,
   "id": "6af9dbbd-c32d-481b-8877-757d57f7cb9d",
   "metadata": {},
   "outputs": [],
   "source": []
  },
  {
   "cell_type": "code",
   "execution_count": null,
   "id": "2d998324-29db-4b09-b41a-d6535b8d0342",
   "metadata": {},
   "outputs": [],
   "source": []
  },
  {
   "cell_type": "code",
   "execution_count": null,
   "id": "9605350f-fcd7-438d-b413-29c2f3cf4324",
   "metadata": {},
   "outputs": [],
   "source": []
  },
  {
   "cell_type": "code",
   "execution_count": null,
   "id": "28279826-f39c-448f-9df6-4c374321f8c0",
   "metadata": {},
   "outputs": [],
   "source": []
  }
 ],
 "metadata": {
  "kernelspec": {
   "display_name": "Julia (4 threads) 1.9.1",
   "language": "julia",
   "name": "julia-4-threads-1.9"
  },
  "language_info": {
   "file_extension": ".jl",
   "mimetype": "application/julia",
   "name": "julia",
   "version": "1.9.1"
  }
 },
 "nbformat": 4,
 "nbformat_minor": 5
}
